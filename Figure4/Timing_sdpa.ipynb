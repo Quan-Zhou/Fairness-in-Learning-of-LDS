{
 "cells": [
  {
   "cell_type": "code",
   "execution_count": 2,
   "metadata": {},
   "outputs": [],
   "source": [
    "from ncpol2sdpa import*\n",
    "import numpy as np\n",
    "import random\n",
    "import pandas as pd\n",
    "import matplotlib.pyplot as plt\n",
    "import time"
   ]
  },
  {
   "cell_type": "code",
   "execution_count": 3,
   "metadata": {},
   "outputs": [],
   "source": [
    " # Set Parameters\n",
    "level = 1\n",
    "group = 2\n",
    "trajectory = [2,3]\n",
    "sum_traj = sum(trajectory)\n",
    "\n",
    "# Generate observations of multiple trajectories\n",
    "data=pd.read_csv('FairOutput.csv',header=None)\n",
    "Y=data.to_numpy()"
   ]
  },
  {
   "cell_type": "code",
   "execution_count": 68,
   "metadata": {},
   "outputs": [],
   "source": [
    "def fairA(T):\n",
    "\n",
    "    time_start = time.time()\n",
    "    \n",
    "    start=[0]+random.sample(range(0,3),trajectory[0]-1)+[0]+random.sample(range(0,2),trajectory[1]-1)\n",
    "    end=random.sample(range(T-3,T),trajectory[0]-1)+[T]+random.sample(range(T-2,T),trajectory[1]-1)+[T]\n",
    "    length=[end[i]-start[i] for i in range(sum_traj)]\n",
    "\n",
    "    # Decision Variables\n",
    "    G = generate_operators(\"G\", n_vars=1, hermitian=False, commutative=False)[0]\n",
    "    Fdash = generate_operators(\"Fdash\", n_vars=1, hermitian=False, commutative=False)[0]\n",
    "    z = generate_operators(\"z\", n_vars=1, hermitian=False, commutative=False)[0]\n",
    "    m = generate_operators(\"m\", n_vars=T+1, hermitian=False, commutative=False)\n",
    "    q = generate_operators(\"q\", n_vars=T, hermitian=False, commutative=False)\n",
    "    p = generate_operators(\"p\", n_vars=T, hermitian=False, commutative=False)\n",
    "    f = generate_operators(\"f\", n_vars=T, hermitian=False, commutative=False)\n",
    "\n",
    "# Constraints\n",
    "    ine1 = [f[i] - Fdash*m[i+1] - p[i] for i in range(T)]\n",
    "    ine2 = [-f[i] + Fdash*m[i+1] + p[i] for i in range(T)]\n",
    "    ine3 = [m[i+1] - G*m[i] - q[i] for i in range(T)]\n",
    "    ine4 = [-m[i+1] + G*m[i] + q[i] for i in range(T)]\n",
    "    max1 = [z-1/trajectory[0]*sum(1/length[j]*sum((Y[t,j]-f[t])**2 for t in range(start[j],end[j])) for j in range(0,trajectory[0]))]\n",
    "    max2 = [z-1/trajectory[1]*sum(1/length[j]*sum((Y[t,j]-f[t])**2 for t in range(start[j],end[j])) for j in range(trajectory[0],sum_traj))]\n",
    "    #max3 = [z-(Y[t,j]-f[t])**2 for j in range(sum_traj) for t in range(start[j],end[j]) ]\n",
    "\n",
    "    ines_A = ine1+ine2+ine3+ine4+max1+max2\n",
    "    #ines_B = ine1+ine2+ine3+ine4+max3\n",
    "\n",
    "\n",
    "# Objective\n",
    "    obj_A = z + 1*sum(p[i]**2 for i in range(T)) # 5 is optimal for level 1\n",
    "    #obj_B = z + 3*sum(p[i]**2 for i in range(T)) # 5 is optimal for level 1\n",
    "\n",
    "# Solve the fair NCPO A\n",
    "    sdp_A = SdpRelaxation(variables = flatten([G,Fdash,z,f,p,m,q]))\n",
    "    sdp_A.get_relaxation(level, objective=obj_A, inequalities=ines_A)\n",
    "#sdp.get_relaxation(level, objective=obj, inequalities=ines,substitutions=subs)\n",
    "    sdp_A.solve(solver='sdpa', solverparameters={\"executable\":\"sdpa_gmp\",\"executable\": \"C:\\\\...\\\\sdpa7-windows\\\\sdpa.exe\"})\n",
    "    \n",
    "    time_end = time.time()\n",
    "    return time_end-time_start"
   ]
  },
  {
   "cell_type": "code",
   "execution_count": 69,
   "metadata": {},
   "outputs": [],
   "source": [
    "def fairB(T):\n",
    "    time_start = time.time()\n",
    "    \n",
    "    start=[0]+random.sample(range(0,3),trajectory[0]-1)+[0]+random.sample(range(0,2),trajectory[1]-1)\n",
    "    end=random.sample(range(T-3,T),trajectory[0]-1)+[T]+random.sample(range(T-2,T),trajectory[1]-1)+[T]\n",
    "    length=[end[i]-start[i] for i in range(sum_traj)]\n",
    "\n",
    "    # Decision Variables\n",
    "    G = generate_operators(\"G\", n_vars=1, hermitian=False, commutative=False)[0]\n",
    "    Fdash = generate_operators(\"Fdash\", n_vars=1, hermitian=False, commutative=False)[0]\n",
    "    z = generate_operators(\"z\", n_vars=1, hermitian=False, commutative=False)[0]\n",
    "    m = generate_operators(\"m\", n_vars=T+1, hermitian=False, commutative=False)\n",
    "    q = generate_operators(\"q\", n_vars=T, hermitian=False, commutative=False)\n",
    "    p = generate_operators(\"p\", n_vars=T, hermitian=False, commutative=False)\n",
    "    f = generate_operators(\"f\", n_vars=T, hermitian=False, commutative=False)\n",
    "\n",
    "# Constraints\n",
    "    ine1 = [f[i] - Fdash*m[i+1] - p[i] for i in range(T)]\n",
    "    ine2 = [-f[i] + Fdash*m[i+1] + p[i] for i in range(T)]\n",
    "    ine3 = [m[i+1] - G*m[i] - q[i] for i in range(T)]\n",
    "    ine4 = [-m[i+1] + G*m[i] + q[i] for i in range(T)]\n",
    "    #max1 = [z-1/trajectory[0]*sum(1/length[j]*sum((Y[t,j]-f[t])**2 for t in range(start[j],end[j])) for j in range(0,trajectory[0]))]\n",
    "    #max2 = [z-1/trajectory[1]*sum(1/length[j]*sum((Y[t,j]-f[t])**2 for t in range(start[j],end[j])) for j in range(trajectory[0],sum_traj))]\n",
    "    max3 = [z-(Y[t,j]-f[t])**2 for j in range(sum_traj) for t in range(start[j],end[j]) ]\n",
    "\n",
    "    #ines_A = ine1+ine2+ine3+ine4+max1+max2\n",
    "    ines_B = ine1+ine2+ine3+ine4+max3\n",
    "\n",
    "\n",
    "# Objective\n",
    "    #obj_A = z + 1*sum(p[i]**2 for i in range(T)) # 5 is optimal for level 1\n",
    "    obj_B = z + 3*sum(p[i]**2 for i in range(T)) # 5 is optimal for level 1\n",
    "\n",
    "# Solve the fair NCPO B\n",
    "    sdp_B = SdpRelaxation(variables = flatten([G,Fdash,z,f,p,m,q]))\n",
    "    sdp_B.get_relaxation(level, objective=obj_B, inequalities=ines_B)\n",
    "#sdp.get_relaxation(level, objective=obj, inequalities=ines,substitutions=subs)\n",
    "    sdp_B.solve(solver='sdpa', solverparameters={\"executable\":\"sdpa_gmp\",\"executable\": \"C:\\\\Users\\\\zhouq\\\\Documents\\\\sdpa7-windows\\\\sdpa.exe\"})\n",
    "    \n",
    "    time_end = time.time()\n",
    "    return time_end-time_start"
   ]
  },
  {
   "cell_type": "code",
   "execution_count": 75,
   "metadata": {},
   "outputs": [],
   "source": [
    "Amean=[]\n",
    "Astd=[]\n",
    "Bmean=[]\n",
    "Bstd=[]\n",
    "for t in range(5,21):\n",
    "    Am=[]\n",
    "    Bm=[]\n",
    "    for r in range(3):\n",
    "        Am.append(fairA(t))\n",
    "        Bm.append(fairB(t))\n",
    "    Amean.append(np.mean(Am))\n",
    "    Astd.append(np.std(Am))\n",
    "    Bmean.append(np.mean(Bm))\n",
    "    Bstd.append(np.std(Bm))"
   ]
  },
  {
   "cell_type": "code",
   "execution_count": 81,
   "metadata": {},
   "outputs": [],
   "source": [
    "A=pd.DataFrame(list(zip(Amean,Astd)))\n",
    "B=pd.DataFrame(list(zip(Bmean,Bstd)))\n",
    "A.to_csv (r'FairAtime0520_sdpa.csv', index = False, header=False)\n",
    "B.to_csv (r'FairBtime0520_sdpa.csv', index = False, header=False)"
   ]
  }
 ],
 "metadata": {
  "kernelspec": {
   "display_name": "Python 3",
   "language": "python",
   "name": "python3"
  },
  "language_info": {
   "codemirror_mode": {
    "name": "ipython",
    "version": 3
   },
   "file_extension": ".py",
   "mimetype": "text/x-python",
   "name": "python",
   "nbconvert_exporter": "python",
   "pygments_lexer": "ipython3",
   "version": "3.7.7"
  }
 },
 "nbformat": 4,
 "nbformat_minor": 4
}
