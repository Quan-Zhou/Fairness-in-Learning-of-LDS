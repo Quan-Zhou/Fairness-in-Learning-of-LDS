{
 "cells": [
  {
   "cell_type": "code",
   "execution_count": 2,
   "metadata": {},
   "outputs": [],
   "source": [
    "#!wget -c https://raw.githubusercontent.com/jmarecek/OnlineLDS/master/inputlds.py\n",
    "import sys\n",
    "sys.path.append('C://Users//zhouq//Documents//OnlineLDS-master')\n",
    "from inputlds import*"
   ]
  },
  {
   "cell_type": "code",
   "execution_count": 3,
   "metadata": {},
   "outputs": [],
   "source": [
    "from ncpol2sdpa import*\n",
    "import numpy as np\n",
    "import math\n",
    "import random\n",
    "import pandas as pd"
   ]
  },
  {
   "cell_type": "code",
   "execution_count": 4,
   "metadata": {},
   "outputs": [],
   "source": [
    "# Set Parameters\n",
    "level = 1\n",
    "R=30\n",
    "met=3\n",
    "T = 20 \n",
    "group = 2\n",
    "trajectory = [2,3]\n",
    "sum_traj = sum(trajectory)\n",
    "ff=np.zeros([R,T*met])\n",
    "g = np.matrix([[0.99,0],[1.0,0.2]])\n",
    "f_dash = np.matrix([[1.1,0.8]])\n",
    "proc_noise_std = np.random.rand(1,group)*0.1\n",
    "obs_noise_std = np.random.rand(1,sum_traj)\n",
    "inputs = np.zeros(T)\n",
    "h0=[5,5]\n",
    "\n",
    "\n",
    "# Generate observations of multiple trajectories \n",
    "Y_orig=np.mat(np.empty([T,sum_traj]))\n",
    "j=0\n",
    "for s in range(group):\n",
    "    for i in range(trajectory[s]):\n",
    "        ds1 = dynamical_system(g,np.zeros((2,1)),f_dash,np.zeros((1,1)),\n",
    "        process_noise='gaussian',\n",
    "        observation_noise='gaussian', \n",
    "        process_noise_std=proc_noise_std[0,s], \n",
    "        observation_noise_std=obs_noise_std[0,j])\n",
    "        h1=np.ones(ds1.d)*h0[s]\n",
    "        ds1.solve(h0=h1,inputs=inputs,T=T)\n",
    "        Y_orig[:,j]=np.vstack(ds1.outputs)\n",
    "        j+=1\n",
    "            \n",
    "# Write Y_orig data to csv files\n",
    "#pd.DataFrame(Y_orig).to_csv (r'FairOutput_1.csv', index = False, header=False) "
   ]
  }
 ],
 "metadata": {
  "kernelspec": {
   "display_name": "Python 3",
   "language": "python",
   "name": "python3"
  },
  "language_info": {
   "codemirror_mode": {
    "name": "ipython",
    "version": 3
   },
   "file_extension": ".py",
   "mimetype": "text/x-python",
   "name": "python",
   "nbconvert_exporter": "python",
   "pygments_lexer": "ipython3",
   "version": "3.7.7"
  }
 },
 "nbformat": 4,
 "nbformat_minor": 4
}
