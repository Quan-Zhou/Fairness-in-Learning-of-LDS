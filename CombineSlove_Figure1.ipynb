{
 "cells": [
  {
   "cell_type": "code",
   "execution_count": 6,
   "metadata": {},
   "outputs": [],
   "source": [
    "#!wget -c https://raw.githubusercontent.com/jmarecek/OnlineLDS/master/inputlds.py\n",
    "import sys\n",
    "sys.path.append('C://Users//zhouq//Documents//OnlineLDS-master')\n",
    "from inputlds import*"
   ]
  },
  {
   "cell_type": "code",
   "execution_count": 7,
   "metadata": {},
   "outputs": [],
   "source": [
    "from ncpol2sdpa import*\n",
    "import numpy as np\n",
    "import math\n",
    "import random\n",
    "import pandas as pd\n",
    "import seaborn as sns\n",
    "import matplotlib.pyplot as plt "
   ]
  },
  {
   "cell_type": "code",
   "execution_count": 75,
   "metadata": {},
   "outputs": [],
   "source": [
    "# Set Parameters\n",
    "level = 1\n",
    "R=10\n",
    "met=3\n",
    "T = 20 \n",
    "group = 2\n",
    "trajectory = [2,3]\n",
    "sum_traj = sum(trajectory)\n",
    "ff=np.zeros([R,T*met])\n",
    "g = np.matrix([[0.99,0],[1.0,0.2]])\n",
    "f_dash = np.matrix([[1.1,0.8]])\n",
    "proc_noise_std = np.random.rand(1,group)*0.1\n",
    "obs_noise_std = np.random.rand(1,sum_traj)\n",
    "inputs = np.zeros(T)\n",
    "h0=[5,7]"
   ]
  },
  {
   "cell_type": "code",
   "execution_count": 76,
   "metadata": {},
   "outputs": [],
   "source": [
    "# Generate observations of multiple trajectories \n",
    "Y_orig=np.mat(np.empty([T,sum_traj]))\n",
    "j=0\n",
    "for s in range(group):\n",
    "    for i in range(trajectory[s]):\n",
    "        ds1 = dynamical_system(g,np.zeros((2,1)),f_dash,np.zeros((1,1)),\n",
    "        process_noise='gaussian',\n",
    "        observation_noise='gaussian', \n",
    "        process_noise_std=proc_noise_std[0,s], \n",
    "        observation_noise_std=obs_noise_std[0,j])\n",
    "        h1=np.ones(ds1.d)*h0[s]\n",
    "        ds1.solve(h0=h1,inputs=inputs,T=T)\n",
    "        Y_orig[:,j]=np.vstack(ds1.outputs)\n",
    "        j+=1\n",
    "            \n",
    "# Write Y_orig data to csv files\n",
    "pd.DataFrame(Y_orig).to_csv (r'FairOutput.csv', index = False, header=False)"
   ]
  },
  {
   "cell_type": "code",
   "execution_count": 77,
   "metadata": {},
   "outputs": [
    {
     "name": "stdout",
     "output_type": "stream",
     "text": [
      "The problem has 41 commuting, 43 noncommuting Hermitian variables\n",
      "Calculating block structure...\n",
      "Estimated number of SDP variables: 3654\n",
      "Generating moment matrix...\n",
      "Reduced number of SDP variables: 3654654 (done: 100.03%, ETA 00:00:-0.0)\n",
      "\u001b[KProcessing 82/82 constraints...\n",
      "The problem has 41 commuting, 43 noncommuting Hermitian variables\n",
      "Calculating block structure...\n",
      "Estimated number of SDP variables: 3654\n",
      "Generating moment matrix...\n",
      "Reduced number of SDP variables: 3654654 (done: 100.03%, ETA 00:00:-0.0)\n",
      "\u001b[KProcessing 160/160 constraints...\n",
      "The problem has 40 commuting, 43 noncommuting Hermitian variables\n",
      "Calculating block structure...\n",
      "Estimated number of SDP variables: 3569\n",
      "Generating moment matrix...\n",
      "Reduced number of SDP variables: 3569569 (done: 100.03%, ETA 00:00:-0.0)\n",
      "\u001b[KProcessing 54/80 constraints..."
     ]
    },
    {
     "name": "stderr",
     "output_type": "stream",
     "text": [
      "Warning: The objective function has a non-zero 11182.35382657898 constant term. It is not included in the SDP objective.\n"
     ]
    },
    {
     "name": "stdout",
     "output_type": "stream",
     "text": [
      "\u001b[KProcessing 80/80 constraints...\n",
      "The problem has 41 commuting, 43 noncommuting Hermitian variables\n",
      "Calculating block structure...\n",
      "Estimated number of SDP variables: 3654\n",
      "Generating moment matrix...\n",
      "Reduced number of SDP variables: 3654654 (done: 100.03%, ETA 00:00:-0.0)\n",
      "\u001b[KProcessing 82/82 constraints...\n",
      "The problem has 41 commuting, 43 noncommuting Hermitian variables\n",
      "Calculating block structure...\n",
      "Estimated number of SDP variables: 3654\n",
      "Generating moment matrix...\n",
      "Reduced number of SDP variables: 3654654 (done: 100.03%, ETA 00:00:-0.0)\n",
      "\u001b[KProcessing 159/159 constraints...\n",
      "The problem has 40 commuting, 43 noncommuting Hermitian variables\n",
      "Calculating block structure...\n",
      "Estimated number of SDP variables: 3569\n",
      "Generating moment matrix...\n",
      "Reduced number of SDP variables: 3569569 (done: 100.03%, ETA 00:00:-0.0)\n",
      "\u001b[KProcessing 66/80 constraints..."
     ]
    },
    {
     "name": "stderr",
     "output_type": "stream",
     "text": [
      "Warning: The objective function has a non-zero 11088.36261410309 constant term. It is not included in the SDP objective.\n"
     ]
    },
    {
     "name": "stdout",
     "output_type": "stream",
     "text": [
      "\u001b[KProcessing 80/80 constraints...\n",
      "The problem has 41 commuting, 43 noncommuting Hermitian variables\n",
      "Calculating block structure...\n",
      "Estimated number of SDP variables: 3654\n",
      "Generating moment matrix...\n",
      "Reduced number of SDP variables: 3654654 (done: 100.03%, ETA 00:00:-0.0)\n",
      "\u001b[KProcessing 82/82 constraints...\n",
      "The problem has 41 commuting, 43 noncommuting Hermitian variables\n",
      "Calculating block structure...\n",
      "Estimated number of SDP variables: 3654\n",
      "Generating moment matrix...\n",
      "Reduced number of SDP variables: 3654654 (done: 100.03%, ETA 00:00:-0.0)\n",
      "\u001b[KProcessing 166/166 constraints...\n",
      "The problem has 40 commuting, 43 noncommuting Hermitian variables\n",
      "Calculating block structure...\n",
      "Estimated number of SDP variables: 3569\n",
      "Generating moment matrix...\n",
      "Reduced number of SDP variables: 3569569 (done: 100.03%, ETA 00:00:-0.0)\n",
      "\u001b[KProcessing 58/80 constraints..."
     ]
    },
    {
     "name": "stderr",
     "output_type": "stream",
     "text": [
      "Warning: The objective function has a non-zero 12112.636483534025 constant term. It is not included in the SDP objective.\n"
     ]
    },
    {
     "name": "stdout",
     "output_type": "stream",
     "text": [
      "\u001b[KProcessing 80/80 constraints...\n",
      "The problem has 41 commuting, 43 noncommuting Hermitian variables\n",
      "Calculating block structure...\n",
      "Estimated number of SDP variables: 3654\n",
      "Generating moment matrix...\n",
      "Reduced number of SDP variables: 3654654 (done: 100.03%, ETA 00:00:-0.0)\n",
      "\u001b[KProcessing 82/82 constraints...\n",
      "The problem has 41 commuting, 43 noncommuting Hermitian variables\n",
      "Calculating block structure...\n",
      "Estimated number of SDP variables: 3654\n",
      "Generating moment matrix...\n",
      "Reduced number of SDP variables: 3654654 (done: 100.03%, ETA 00:00:-0.0)\n",
      "\u001b[KProcessing 162/162 constraints...\n",
      "The problem has 40 commuting, 43 noncommuting Hermitian variables\n",
      "Calculating block structure...\n",
      "Estimated number of SDP variables: 3569\n",
      "Generating moment matrix...\n",
      "Reduced number of SDP variables: 3569569 (done: 100.03%, ETA 00:00:-0.0)\n",
      "\u001b[KProcessing 58/80 constraints..."
     ]
    },
    {
     "name": "stderr",
     "output_type": "stream",
     "text": [
      "Warning: The objective function has a non-zero 11370.349726316263 constant term. It is not included in the SDP objective.\n"
     ]
    },
    {
     "name": "stdout",
     "output_type": "stream",
     "text": [
      "\u001b[KProcessing 80/80 constraints...\n",
      "The problem has 41 commuting, 43 noncommuting Hermitian variables\n",
      "Calculating block structure...\n",
      "Estimated number of SDP variables: 3654\n",
      "Generating moment matrix...\n",
      "Reduced number of SDP variables: 3654654 (done: 100.03%, ETA 00:00:-0.0)\n",
      "\u001b[KProcessing 82/82 constraints...\n",
      "The problem has 41 commuting, 43 noncommuting Hermitian variables\n",
      "Calculating block structure...\n",
      "Estimated number of SDP variables: 3654\n",
      "Generating moment matrix...\n",
      "Reduced number of SDP variables: 3654654 (done: 100.03%, ETA 00:00:-0.0)\n",
      "\u001b[KProcessing 164/164 constraints...\n",
      "The problem has 40 commuting, 43 noncommuting Hermitian variables\n",
      "Calculating block structure...\n",
      "Estimated number of SDP variables: 3569\n",
      "Generating moment matrix...\n",
      "Reduced number of SDP variables: 3569569 (done: 100.03%, ETA 00:00:-0.0)\n",
      "\u001b[KProcessing 66/80 constraints..."
     ]
    },
    {
     "name": "stderr",
     "output_type": "stream",
     "text": [
      "Warning: The objective function has a non-zero 12086.343025003895 constant term. It is not included in the SDP objective.\n"
     ]
    },
    {
     "name": "stdout",
     "output_type": "stream",
     "text": [
      "\u001b[KProcessing 80/80 constraints...\n",
      "The problem has 41 commuting, 43 noncommuting Hermitian variables\n",
      "Calculating block structure...\n",
      "Estimated number of SDP variables: 3654\n",
      "Generating moment matrix...\n",
      "Reduced number of SDP variables: 3654654 (done: 100.03%, ETA 00:00:-0.0)\n",
      "\u001b[KProcessing 82/82 constraints...\n",
      "The problem has 41 commuting, 43 noncommuting Hermitian variables\n",
      "Calculating block structure...\n",
      "Estimated number of SDP variables: 3654\n",
      "Generating moment matrix...\n",
      "Reduced number of SDP variables: 3654654 (done: 100.03%, ETA 00:00:-0.0)\n",
      "\u001b[KProcessing 161/161 constraints...\n",
      "The problem has 40 commuting, 43 noncommuting Hermitian variables\n",
      "Calculating block structure...\n",
      "Estimated number of SDP variables: 3569\n",
      "Generating moment matrix...\n",
      "Reduced number of SDP variables: 3569569 (done: 100.03%, ETA 00:00:-0.0)\n",
      "\u001b[KProcessing 55/80 constraints..."
     ]
    },
    {
     "name": "stderr",
     "output_type": "stream",
     "text": [
      "Warning: The objective function has a non-zero 11450.62081379669 constant term. It is not included in the SDP objective.\n"
     ]
    },
    {
     "name": "stdout",
     "output_type": "stream",
     "text": [
      "\u001b[KProcessing 80/80 constraints...\n",
      "The problem has 41 commuting, 43 noncommuting Hermitian variables\n",
      "Calculating block structure...\n",
      "Estimated number of SDP variables: 3654\n",
      "Generating moment matrix...\n",
      "Reduced number of SDP variables: 3654654 (done: 100.03%, ETA 00:00:-0.0)\n",
      "\u001b[KProcessing 82/82 constraints...\n",
      "The problem has 41 commuting, 43 noncommuting Hermitian variables\n",
      "Calculating block structure...\n",
      "Estimated number of SDP variables: 3654\n",
      "Generating moment matrix...\n",
      "Reduced number of SDP variables: 3654654 (done: 100.03%, ETA 00:00:-0.0)\n",
      "\u001b[KProcessing 150/150 constraints...\n",
      "The problem has 40 commuting, 43 noncommuting Hermitian variables\n",
      "Calculating block structure...\n",
      "Estimated number of SDP variables: 3569\n",
      "Generating moment matrix...\n",
      "Reduced number of SDP variables: 3569569 (done: 100.03%, ETA 00:00:-0.0)\n",
      "\u001b[KProcessing 55/80 constraints..."
     ]
    },
    {
     "name": "stderr",
     "output_type": "stream",
     "text": [
      "Warning: The objective function has a non-zero 10053.439412537342 constant term. It is not included in the SDP objective.\n"
     ]
    },
    {
     "name": "stdout",
     "output_type": "stream",
     "text": [
      "\u001b[KProcessing 80/80 constraints...\n",
      "The problem has 41 commuting, 43 noncommuting Hermitian variables\n",
      "Calculating block structure...\n",
      "Estimated number of SDP variables: 3654\n",
      "Generating moment matrix...\n",
      "Reduced number of SDP variables: 3654654 (done: 100.03%, ETA 00:00:-0.0)\n",
      "\u001b[KProcessing 82/82 constraints...\n",
      "The problem has 41 commuting, 43 noncommuting Hermitian variables\n",
      "Calculating block structure...\n",
      "Estimated number of SDP variables: 3654\n",
      "Generating moment matrix...\n",
      "Reduced number of SDP variables: 3654654 (done: 100.03%, ETA 00:00:-0.0)\n",
      "\u001b[KProcessing 155/155 constraints...\n",
      "The problem has 40 commuting, 43 noncommuting Hermitian variables\n",
      "Calculating block structure...\n",
      "Estimated number of SDP variables: 3569\n",
      "Generating moment matrix...\n",
      "Reduced number of SDP variables: 3569569 (done: 100.03%, ETA 00:00:-0.0)\n",
      "\u001b[KProcessing 68/80 constraints..."
     ]
    },
    {
     "name": "stderr",
     "output_type": "stream",
     "text": [
      "Warning: The objective function has a non-zero 10769.492748828858 constant term. It is not included in the SDP objective.\n"
     ]
    },
    {
     "name": "stdout",
     "output_type": "stream",
     "text": [
      "\u001b[KProcessing 80/80 constraints...\n",
      "The problem has 41 commuting, 43 noncommuting Hermitian variables\n",
      "Calculating block structure...\n",
      "Estimated number of SDP variables: 3654\n",
      "Generating moment matrix...\n",
      "Reduced number of SDP variables: 3654654 (done: 100.03%, ETA 00:00:-0.0)\n",
      "\u001b[KProcessing 82/82 constraints...\n",
      "The problem has 41 commuting, 43 noncommuting Hermitian variables\n",
      "Calculating block structure...\n",
      "Estimated number of SDP variables: 3654\n",
      "Generating moment matrix...\n",
      "Reduced number of SDP variables: 3654654 (done: 100.03%, ETA 00:00:-0.0)\n",
      "\u001b[KProcessing 150/150 constraints...\n",
      "The problem has 40 commuting, 43 noncommuting Hermitian variables\n",
      "Calculating block structure...\n",
      "Estimated number of SDP variables: 3569\n",
      "Generating moment matrix...\n",
      "Reduced number of SDP variables: 3569569 (done: 100.03%, ETA 00:00:-0.0)\n",
      "\u001b[KProcessing 52/80 constraints..."
     ]
    },
    {
     "name": "stderr",
     "output_type": "stream",
     "text": [
      "Warning: The objective function has a non-zero 10201.69772343615 constant term. It is not included in the SDP objective.\n"
     ]
    },
    {
     "name": "stdout",
     "output_type": "stream",
     "text": [
      "\u001b[KProcessing 80/80 constraints...\n",
      "The problem has 41 commuting, 43 noncommuting Hermitian variables\n",
      "Calculating block structure...\n",
      "Estimated number of SDP variables: 3654\n",
      "Generating moment matrix...\n",
      "Reduced number of SDP variables: 3654654 (done: 100.03%, ETA 00:00:-0.0)\n",
      "\u001b[KProcessing 82/82 constraints...\n",
      "The problem has 41 commuting, 43 noncommuting Hermitian variables\n",
      "Calculating block structure...\n",
      "Estimated number of SDP variables: 3654\n",
      "Generating moment matrix...\n",
      "Reduced number of SDP variables: 3654654 (done: 100.03%, ETA 00:00:-0.0)\n",
      "\u001b[KProcessing 157/157 constraints...\n",
      "The problem has 40 commuting, 43 noncommuting Hermitian variables\n",
      "Calculating block structure...\n",
      "Estimated number of SDP variables: 3569\n",
      "Generating moment matrix...\n",
      "Reduced number of SDP variables: 3569569 (done: 100.03%, ETA 00:00:-0.0)\n",
      "\u001b[KProcessing 70/80 constraints..."
     ]
    },
    {
     "name": "stderr",
     "output_type": "stream",
     "text": [
      "Warning: The objective function has a non-zero 10962.15492866566 constant term. It is not included in the SDP objective.\n"
     ]
    },
    {
     "name": "stdout",
     "output_type": "stream",
     "text": [
      "\u001b[KProcessing 80/80 constraints...\n",
      "The problem has 41 commuting, 43 noncommuting Hermitian variables\n",
      "Calculating block structure...\n",
      "Estimated number of SDP variables: 3654\n",
      "Generating moment matrix...\n",
      "Reduced number of SDP variables: 3654654 (done: 100.03%, ETA 00:00:-0.0)\n",
      "\u001b[KProcessing 82/82 constraints...\n",
      "The problem has 41 commuting, 43 noncommuting Hermitian variables\n",
      "Calculating block structure...\n",
      "Estimated number of SDP variables: 3654\n",
      "Generating moment matrix...\n",
      "Reduced number of SDP variables: 3654654 (done: 100.03%, ETA 00:00:-0.0)\n",
      "\u001b[KProcessing 167/167 constraints...\n",
      "The problem has 40 commuting, 43 noncommuting Hermitian variables\n",
      "Calculating block structure...\n",
      "Estimated number of SDP variables: 3569\n",
      "Generating moment matrix...\n",
      "Reduced number of SDP variables: 3569569 (done: 100.03%, ETA 00:00:-0.0)\n",
      "\u001b[KProcessing 65/80 constraints..."
     ]
    },
    {
     "name": "stderr",
     "output_type": "stream",
     "text": [
      "Warning: The objective function has a non-zero 12426.114423146382 constant term. It is not included in the SDP objective.\n"
     ]
    },
    {
     "name": "stdout",
     "output_type": "stream",
     "text": [
      "\u001b[KProcessing 80/80 constraints...\n",
      "The problem has 41 commuting, 43 noncommuting Hermitian variables\n",
      "Calculating block structure...\n",
      "Estimated number of SDP variables: 3654\n",
      "Generating moment matrix...\n",
      "Reduced number of SDP variables: 3654654 (done: 100.03%, ETA 00:00:-0.0)\n",
      "\u001b[KProcessing 82/82 constraints...\n",
      "The problem has 41 commuting, 43 noncommuting Hermitian variables\n",
      "Calculating block structure...\n",
      "Estimated number of SDP variables: 3654\n",
      "Generating moment matrix...\n",
      "Reduced number of SDP variables: 3654654 (done: 100.03%, ETA 00:00:-0.0)\n",
      "\u001b[KProcessing 153/153 constraints...\n",
      "The problem has 40 commuting, 43 noncommuting Hermitian variables\n",
      "Calculating block structure...\n",
      "Estimated number of SDP variables: 3569\n",
      "Generating moment matrix...\n",
      "Reduced number of SDP variables: 3569569 (done: 100.03%, ETA 00:00:-0.0)\n",
      "\u001b[KProcessing 67/80 constraints..."
     ]
    },
    {
     "name": "stderr",
     "output_type": "stream",
     "text": [
      "Warning: The objective function has a non-zero 10848.061485919852 constant term. It is not included in the SDP objective.\n"
     ]
    },
    {
     "name": "stdout",
     "output_type": "stream",
     "text": [
      "\u001b[KProcessing 80/80 constraints...\n",
      "The problem has 41 commuting, 43 noncommuting Hermitian variables\n",
      "Calculating block structure...\n",
      "Estimated number of SDP variables: 3654\n",
      "Generating moment matrix...\n",
      "\u001b[KCurrent number of SDP variables: 2999 (done: 82.10%, ETA 00:00:0.5)"
     ]
    },
    {
     "name": "stderr",
     "output_type": "stream",
     "text": [
      "IOPub message rate exceeded.\n",
      "The notebook server will temporarily stop sending output\n",
      "to the client in order to avoid crashing it.\n",
      "To change this limit, set the config variable\n",
      "`--NotebookApp.iopub_msg_rate_limit`.\n",
      "\n",
      "Current values:\n",
      "NotebookApp.iopub_msg_rate_limit=1000.0 (msgs/sec)\n",
      "NotebookApp.rate_limit_window=3.0 (secs)\n",
      "\n"
     ]
    },
    {
     "name": "stdout",
     "output_type": "stream",
     "text": [
      "The problem has 41 commuting, 43 noncommuting Hermitian variables\n",
      "Calculating block structure...\n",
      "Estimated number of SDP variables: 3654\n",
      "Generating moment matrix...\n",
      "\u001b[KCurrent number of SDP variables: 2999 (done: 82.10%, ETA 00:00:0.5)"
     ]
    },
    {
     "name": "stderr",
     "output_type": "stream",
     "text": [
      "IOPub message rate exceeded.\n",
      "The notebook server will temporarily stop sending output\n",
      "to the client in order to avoid crashing it.\n",
      "To change this limit, set the config variable\n",
      "`--NotebookApp.iopub_msg_rate_limit`.\n",
      "\n",
      "Current values:\n",
      "NotebookApp.iopub_msg_rate_limit=1000.0 (msgs/sec)\n",
      "NotebookApp.rate_limit_window=3.0 (secs)\n",
      "\n"
     ]
    },
    {
     "name": "stdout",
     "output_type": "stream",
     "text": [
      "The problem has 40 commuting, 43 noncommuting Hermitian variables\n",
      "Calculating block structure...\n",
      "Estimated number of SDP variables: 3569\n",
      "Generating moment matrix...\n",
      "Reduced number of SDP variables: 3569569 (done: 100.03%, ETA 00:00:-0.0)\n",
      "\u001b[KProcessing 66/80 constraints..."
     ]
    },
    {
     "name": "stderr",
     "output_type": "stream",
     "text": [
      "Warning: The objective function has a non-zero 11712.474855834786 constant term. It is not included in the SDP objective.\n"
     ]
    },
    {
     "name": "stdout",
     "output_type": "stream",
     "text": [
      "\u001b[KProcessing 80/80 constraints...\n",
      "The problem has 41 commuting, 43 noncommuting Hermitian variables\n",
      "Calculating block structure...\n",
      "Estimated number of SDP variables: 3654\n",
      "Generating moment matrix...\n",
      "\u001b[KCurrent number of SDP variables: 2998 (done: 82.07%, ETA 00:00:0.5)"
     ]
    },
    {
     "name": "stderr",
     "output_type": "stream",
     "text": [
      "IOPub message rate exceeded.\n",
      "The notebook server will temporarily stop sending output\n",
      "to the client in order to avoid crashing it.\n",
      "To change this limit, set the config variable\n",
      "`--NotebookApp.iopub_msg_rate_limit`.\n",
      "\n",
      "Current values:\n",
      "NotebookApp.iopub_msg_rate_limit=1000.0 (msgs/sec)\n",
      "NotebookApp.rate_limit_window=3.0 (secs)\n",
      "\n"
     ]
    },
    {
     "name": "stdout",
     "output_type": "stream",
     "text": [
      "The problem has 41 commuting, 43 noncommuting Hermitian variables\n",
      "Calculating block structure...\n",
      "Estimated number of SDP variables: 3654\n",
      "Generating moment matrix...\n",
      "Reduced number of SDP variables: 3654654 (done: 100.03%, ETA 00:00:-0.0)\n",
      "\u001b[KProcessing 165/165 constraints...\n",
      "The problem has 40 commuting, 43 noncommuting Hermitian variables\n",
      "Calculating block structure...\n",
      "Estimated number of SDP variables: 3569\n",
      "Generating moment matrix...\n",
      "Reduced number of SDP variables: 3569569 (done: 100.03%, ETA 00:00:-0.0)\n",
      "\u001b[KProcessing 68/80 constraints..."
     ]
    },
    {
     "name": "stderr",
     "output_type": "stream",
     "text": [
      "Warning: The objective function has a non-zero 11627.285944613188 constant term. It is not included in the SDP objective.\n"
     ]
    },
    {
     "name": "stdout",
     "output_type": "stream",
     "text": [
      "\u001b[KProcessing 80/80 constraints...\n",
      "The problem has 41 commuting, 43 noncommuting Hermitian variables\n",
      "Calculating block structure...\n",
      "Estimated number of SDP variables: 3654\n",
      "Generating moment matrix...\n",
      "Reduced number of SDP variables: 3654654 (done: 100.03%, ETA 00:00:-0.0)\n",
      "\u001b[KProcessing 82/82 constraints...\n",
      "The problem has 41 commuting, 43 noncommuting Hermitian variables\n",
      "Calculating block structure...\n",
      "Estimated number of SDP variables: 3654\n",
      "Generating moment matrix...\n",
      "Reduced number of SDP variables: 3654654 (done: 100.03%, ETA 00:00:-0.0)\n",
      "\u001b[KProcessing 159/159 constraints...\n",
      "The problem has 40 commuting, 43 noncommuting Hermitian variables\n",
      "Calculating block structure...\n",
      "Estimated number of SDP variables: 3569\n",
      "Generating moment matrix...\n",
      "Reduced number of SDP variables: 3569569 (done: 100.03%, ETA 00:00:-0.0)\n",
      "\u001b[KProcessing 65/80 constraints..."
     ]
    },
    {
     "name": "stderr",
     "output_type": "stream",
     "text": [
      "Warning: The objective function has a non-zero 11213.887178375442 constant term. It is not included in the SDP objective.\n"
     ]
    },
    {
     "name": "stdout",
     "output_type": "stream",
     "text": [
      "\u001b[KProcessing 80/80 constraints...\n",
      "The problem has 41 commuting, 43 noncommuting Hermitian variables\n",
      "Calculating block structure...\n",
      "Estimated number of SDP variables: 3654\n",
      "Generating moment matrix...\n",
      "Reduced number of SDP variables: 3654654 (done: 100.03%, ETA 00:00:-0.0)\n",
      "\u001b[KProcessing 82/82 constraints...\n",
      "The problem has 41 commuting, 43 noncommuting Hermitian variables\n",
      "Calculating block structure...\n",
      "Estimated number of SDP variables: 3654\n",
      "Generating moment matrix...\n",
      "Reduced number of SDP variables: 3654654 (done: 100.03%, ETA 00:00:-0.0)\n",
      "\u001b[KProcessing 154/154 constraints...\n",
      "The problem has 40 commuting, 43 noncommuting Hermitian variables\n",
      "Calculating block structure...\n",
      "Estimated number of SDP variables: 3569\n",
      "Generating moment matrix...\n",
      "Reduced number of SDP variables: 3569569 (done: 100.03%, ETA 00:00:-0.0)\n",
      "\u001b[KProcessing 68/80 constraints..."
     ]
    },
    {
     "name": "stderr",
     "output_type": "stream",
     "text": [
      "Warning: The objective function has a non-zero 10668.765761019677 constant term. It is not included in the SDP objective.\n"
     ]
    },
    {
     "name": "stdout",
     "output_type": "stream",
     "text": [
      "\u001b[KProcessing 80/80 constraints...\n",
      "The problem has 41 commuting, 43 noncommuting Hermitian variables\n",
      "Calculating block structure...\n",
      "Estimated number of SDP variables: 3654\n",
      "Generating moment matrix...\n",
      "Reduced number of SDP variables: 3654654 (done: 100.03%, ETA 00:00:-0.0)\n",
      "\u001b[KProcessing 82/82 constraints...\n",
      "The problem has 41 commuting, 43 noncommuting Hermitian variables\n",
      "Calculating block structure...\n",
      "Estimated number of SDP variables: 3654\n",
      "Generating moment matrix...\n",
      "Reduced number of SDP variables: 3654654 (done: 100.03%, ETA 00:00:-0.0)\n",
      "\u001b[KProcessing 158/158 constraints...\n",
      "The problem has 40 commuting, 43 noncommuting Hermitian variables\n",
      "Calculating block structure...\n",
      "Estimated number of SDP variables: 3569\n",
      "Generating moment matrix...\n",
      "Reduced number of SDP variables: 3569569 (done: 100.03%, ETA 00:00:-0.0)\n",
      "\u001b[KProcessing 62/80 constraints..."
     ]
    },
    {
     "name": "stderr",
     "output_type": "stream",
     "text": [
      "Warning: The objective function has a non-zero 10844.372796984397 constant term. It is not included in the SDP objective.\n"
     ]
    },
    {
     "name": "stdout",
     "output_type": "stream",
     "text": [
      "\u001b[KProcessing 80/80 constraints...\n",
      "The problem has 41 commuting, 43 noncommuting Hermitian variables\n",
      "Calculating block structure...\n",
      "Estimated number of SDP variables: 3654\n",
      "Generating moment matrix...\n",
      "Reduced number of SDP variables: 3654654 (done: 100.03%, ETA 00:00:-0.0)\n",
      "\u001b[KProcessing 82/82 constraints...\n",
      "The problem has 41 commuting, 43 noncommuting Hermitian variables\n",
      "Calculating block structure...\n",
      "Estimated number of SDP variables: 3654\n",
      "Generating moment matrix...\n",
      "Reduced number of SDP variables: 3654654 (done: 100.03%, ETA 00:00:-0.0)\n",
      "\u001b[KProcessing 154/154 constraints...\n",
      "The problem has 40 commuting, 43 noncommuting Hermitian variables\n",
      "Calculating block structure...\n",
      "Estimated number of SDP variables: 3569\n",
      "Generating moment matrix...\n",
      "Reduced number of SDP variables: 3569569 (done: 100.03%, ETA 00:00:-0.0)\n",
      "\u001b[KProcessing 65/80 constraints..."
     ]
    },
    {
     "name": "stderr",
     "output_type": "stream",
     "text": [
      "Warning: The objective function has a non-zero 10668.046998351541 constant term. It is not included in the SDP objective.\n"
     ]
    },
    {
     "name": "stdout",
     "output_type": "stream",
     "text": [
      "\u001b[KProcessing 80/80 constraints...\n",
      "The problem has 41 commuting, 43 noncommuting Hermitian variables\n",
      "Calculating block structure...\n",
      "Estimated number of SDP variables: 3654\n",
      "Generating moment matrix...\n",
      "Reduced number of SDP variables: 3654654 (done: 100.03%, ETA 00:00:-0.0)\n",
      "\u001b[KProcessing 82/82 constraints...\n",
      "The problem has 41 commuting, 43 noncommuting Hermitian variables\n",
      "Calculating block structure...\n",
      "Estimated number of SDP variables: 3654\n",
      "Generating moment matrix...\n",
      "Reduced number of SDP variables: 3654654 (done: 100.03%, ETA 00:00:-0.0)\n",
      "\u001b[KProcessing 158/158 constraints...\n",
      "The problem has 40 commuting, 43 noncommuting Hermitian variables\n",
      "Calculating block structure...\n",
      "Estimated number of SDP variables: 3569\n",
      "Generating moment matrix...\n",
      "Reduced number of SDP variables: 3569569 (done: 100.03%, ETA 00:00:-0.0)\n",
      "\u001b[KProcessing 65/80 constraints..."
     ]
    },
    {
     "name": "stderr",
     "output_type": "stream",
     "text": [
      "Warning: The objective function has a non-zero 10700.185184325663 constant term. It is not included in the SDP objective.\n"
     ]
    },
    {
     "name": "stdout",
     "output_type": "stream",
     "text": [
      "\u001b[KProcessing 80/80 constraints...\n",
      "The problem has 41 commuting, 43 noncommuting Hermitian variables\n",
      "Calculating block structure...\n",
      "Estimated number of SDP variables: 3654\n",
      "Generating moment matrix...\n",
      "Reduced number of SDP variables: 3654654 (done: 100.03%, ETA 00:00:-0.0)\n",
      "\u001b[KProcessing 82/82 constraints...\n",
      "The problem has 41 commuting, 43 noncommuting Hermitian variables\n",
      "Calculating block structure...\n",
      "Estimated number of SDP variables: 3654\n",
      "Generating moment matrix...\n",
      "Reduced number of SDP variables: 3654654 (done: 100.03%, ETA 00:00:-0.0)\n",
      "\u001b[KProcessing 158/158 constraints...\n",
      "The problem has 40 commuting, 43 noncommuting Hermitian variables\n",
      "Calculating block structure...\n",
      "Estimated number of SDP variables: 3569\n",
      "Generating moment matrix...\n",
      "Reduced number of SDP variables: 3569569 (done: 100.03%, ETA 00:00:-0.0)\n",
      "\u001b[KProcessing 67/80 constraints..."
     ]
    },
    {
     "name": "stderr",
     "output_type": "stream",
     "text": [
      "Warning: The objective function has a non-zero 11299.654208294747 constant term. It is not included in the SDP objective.\n"
     ]
    },
    {
     "name": "stdout",
     "output_type": "stream",
     "text": [
      "\u001b[KProcessing 80/80 constraints...\n",
      "The problem has 41 commuting, 43 noncommuting Hermitian variables\n",
      "Calculating block structure...\n",
      "Estimated number of SDP variables: 3654\n",
      "Generating moment matrix...\n",
      "Reduced number of SDP variables: 3654654 (done: 100.03%, ETA 00:00:-0.0)\n",
      "\u001b[KProcessing 82/82 constraints...\n",
      "The problem has 41 commuting, 43 noncommuting Hermitian variables\n",
      "Calculating block structure...\n",
      "Estimated number of SDP variables: 3654\n",
      "Generating moment matrix...\n",
      "Reduced number of SDP variables: 3654654 (done: 100.03%, ETA 00:00:-0.0)\n",
      "\u001b[KProcessing 164/164 constraints...\n",
      "The problem has 40 commuting, 43 noncommuting Hermitian variables\n",
      "Calculating block structure...\n",
      "Estimated number of SDP variables: 3569\n",
      "Generating moment matrix...\n",
      "Reduced number of SDP variables: 3569569 (done: 100.03%, ETA 00:00:-0.0)\n",
      "\u001b[KProcessing 59/80 constraints..."
     ]
    },
    {
     "name": "stderr",
     "output_type": "stream",
     "text": [
      "Warning: The objective function has a non-zero 11995.052864738132 constant term. It is not included in the SDP objective.\n"
     ]
    },
    {
     "name": "stdout",
     "output_type": "stream",
     "text": [
      "\u001b[KProcessing 80/80 constraints...\n",
      "The problem has 41 commuting, 43 noncommuting Hermitian variables\n",
      "Calculating block structure...\n",
      "Estimated number of SDP variables: 3654\n",
      "Generating moment matrix...\n",
      "Reduced number of SDP variables: 3654654 (done: 100.03%, ETA 00:00:-0.0)\n",
      "\u001b[KProcessing 82/82 constraints...\n",
      "The problem has 41 commuting, 43 noncommuting Hermitian variables\n",
      "Calculating block structure...\n",
      "Estimated number of SDP variables: 3654\n",
      "Generating moment matrix...\n",
      "Reduced number of SDP variables: 3654654 (done: 100.03%, ETA 00:00:-0.0)\n",
      "\u001b[KProcessing 162/162 constraints...\n",
      "The problem has 40 commuting, 43 noncommuting Hermitian variables\n",
      "Calculating block structure...\n",
      "Estimated number of SDP variables: 3569\n",
      "Generating moment matrix...\n",
      "Reduced number of SDP variables: 3569569 (done: 100.03%, ETA 00:00:-0.0)\n",
      "\u001b[KProcessing 72/80 constraints..."
     ]
    },
    {
     "name": "stderr",
     "output_type": "stream",
     "text": [
      "Warning: The objective function has a non-zero 11772.82924421342 constant term. It is not included in the SDP objective.\n"
     ]
    },
    {
     "name": "stdout",
     "output_type": "stream",
     "text": [
      "\u001b[KProcessing 80/80 constraints...\n",
      "The problem has 41 commuting, 43 noncommuting Hermitian variables\n",
      "Calculating block structure...\n",
      "Estimated number of SDP variables: 3654\n",
      "Generating moment matrix...\n",
      "Reduced number of SDP variables: 3654654 (done: 100.03%, ETA 00:00:-0.0)\n",
      "\u001b[KProcessing 82/82 constraints...\n",
      "The problem has 41 commuting, 43 noncommuting Hermitian variables\n",
      "Calculating block structure...\n",
      "Estimated number of SDP variables: 3654\n",
      "Generating moment matrix...\n",
      "Reduced number of SDP variables: 3654654 (done: 100.03%, ETA 00:00:-0.0)\n",
      "\u001b[KProcessing 161/161 constraints...\n",
      "The problem has 40 commuting, 43 noncommuting Hermitian variables\n",
      "Calculating block structure...\n",
      "Estimated number of SDP variables: 3569\n",
      "Generating moment matrix...\n",
      "Reduced number of SDP variables: 3569569 (done: 100.03%, ETA 00:00:-0.0)\n",
      "\u001b[KProcessing 73/80 constraints..."
     ]
    },
    {
     "name": "stderr",
     "output_type": "stream",
     "text": [
      "Warning: The objective function has a non-zero 11364.008635231621 constant term. It is not included in the SDP objective.\n"
     ]
    },
    {
     "name": "stdout",
     "output_type": "stream",
     "text": [
      "\u001b[KProcessing 80/80 constraints...\n",
      "The problem has 41 commuting, 43 noncommuting Hermitian variables\n",
      "Calculating block structure...\n",
      "Estimated number of SDP variables: 3654\n",
      "Generating moment matrix...\n",
      "Reduced number of SDP variables: 3654654 (done: 100.03%, ETA 00:00:-0.0)\n",
      "\u001b[KProcessing 82/82 constraints...\n",
      "The problem has 41 commuting, 43 noncommuting Hermitian variables\n",
      "Calculating block structure...\n",
      "Estimated number of SDP variables: 3654\n",
      "Generating moment matrix...\n",
      "Reduced number of SDP variables: 3654654 (done: 100.03%, ETA 00:00:-0.0)\n",
      "\u001b[KProcessing 168/168 constraints...\n",
      "The problem has 40 commuting, 43 noncommuting Hermitian variables\n",
      "Calculating block structure...\n",
      "Estimated number of SDP variables: 3569\n",
      "Generating moment matrix...\n",
      "\u001b[KCurrent number of SDP variables: 2999 (done: 84.06%, ETA 00:00:0.4)"
     ]
    },
    {
     "name": "stderr",
     "output_type": "stream",
     "text": [
      "IOPub message rate exceeded.\n",
      "The notebook server will temporarily stop sending output\n",
      "to the client in order to avoid crashing it.\n",
      "To change this limit, set the config variable\n",
      "`--NotebookApp.iopub_msg_rate_limit`.\n",
      "\n",
      "Current values:\n",
      "NotebookApp.iopub_msg_rate_limit=1000.0 (msgs/sec)\n",
      "NotebookApp.rate_limit_window=3.0 (secs)\n",
      "\n"
     ]
    },
    {
     "name": "stdout",
     "output_type": "stream",
     "text": [
      "The problem has 41 commuting, 43 noncommuting Hermitian variables\n",
      "Calculating block structure...\n",
      "Estimated number of SDP variables: 3654\n",
      "Generating moment matrix...\n",
      "\u001b[KCurrent number of SDP variables: 2999 (done: 82.10%, ETA 00:00:0.5)"
     ]
    },
    {
     "name": "stderr",
     "output_type": "stream",
     "text": [
      "IOPub message rate exceeded.\n",
      "The notebook server will temporarily stop sending output\n",
      "to the client in order to avoid crashing it.\n",
      "To change this limit, set the config variable\n",
      "`--NotebookApp.iopub_msg_rate_limit`.\n",
      "\n",
      "Current values:\n",
      "NotebookApp.iopub_msg_rate_limit=1000.0 (msgs/sec)\n",
      "NotebookApp.rate_limit_window=3.0 (secs)\n",
      "\n"
     ]
    },
    {
     "name": "stdout",
     "output_type": "stream",
     "text": [
      "The problem has 41 commuting, 43 noncommuting Hermitian variables\n",
      "Calculating block structure...\n",
      "Estimated number of SDP variables: 3654\n",
      "Generating moment matrix...\n",
      "\u001b[KCurrent number of SDP variables: 2999 (done: 82.10%, ETA 00:00:0.5)"
     ]
    },
    {
     "name": "stderr",
     "output_type": "stream",
     "text": [
      "IOPub message rate exceeded.\n",
      "The notebook server will temporarily stop sending output\n",
      "to the client in order to avoid crashing it.\n",
      "To change this limit, set the config variable\n",
      "`--NotebookApp.iopub_msg_rate_limit`.\n",
      "\n",
      "Current values:\n",
      "NotebookApp.iopub_msg_rate_limit=1000.0 (msgs/sec)\n",
      "NotebookApp.rate_limit_window=3.0 (secs)\n",
      "\n"
     ]
    },
    {
     "name": "stdout",
     "output_type": "stream",
     "text": [
      "The problem has 40 commuting, 43 noncommuting Hermitian variables\n",
      "Calculating block structure...\n",
      "Estimated number of SDP variables: 3569\n",
      "Generating moment matrix...\n",
      "\u001b[KCurrent number of SDP variables: 2999 (done: 84.06%, ETA 00:00:0.4)"
     ]
    },
    {
     "name": "stderr",
     "output_type": "stream",
     "text": [
      "IOPub message rate exceeded.\n",
      "The notebook server will temporarily stop sending output\n",
      "to the client in order to avoid crashing it.\n",
      "To change this limit, set the config variable\n",
      "`--NotebookApp.iopub_msg_rate_limit`.\n",
      "\n",
      "Current values:\n",
      "NotebookApp.iopub_msg_rate_limit=1000.0 (msgs/sec)\n",
      "NotebookApp.rate_limit_window=3.0 (secs)\n",
      "\n"
     ]
    },
    {
     "name": "stdout",
     "output_type": "stream",
     "text": [
      "The problem has 41 commuting, 43 noncommuting Hermitian variables\n",
      "Calculating block structure...\n",
      "Estimated number of SDP variables: 3654\n",
      "Generating moment matrix...\n",
      "\u001b[KCurrent number of SDP variables: 2999 (done: 82.10%, ETA 00:00:0.5)"
     ]
    },
    {
     "name": "stderr",
     "output_type": "stream",
     "text": [
      "IOPub message rate exceeded.\n",
      "The notebook server will temporarily stop sending output\n",
      "to the client in order to avoid crashing it.\n",
      "To change this limit, set the config variable\n",
      "`--NotebookApp.iopub_msg_rate_limit`.\n",
      "\n",
      "Current values:\n",
      "NotebookApp.iopub_msg_rate_limit=1000.0 (msgs/sec)\n",
      "NotebookApp.rate_limit_window=3.0 (secs)\n",
      "\n"
     ]
    },
    {
     "name": "stdout",
     "output_type": "stream",
     "text": [
      "The problem has 41 commuting, 43 noncommuting Hermitian variables\n",
      "Calculating block structure...\n",
      "Estimated number of SDP variables: 3654\n",
      "Generating moment matrix...\n",
      "\u001b[KCurrent number of SDP variables: 2999 (done: 82.10%, ETA 00:00:0.5)"
     ]
    },
    {
     "name": "stderr",
     "output_type": "stream",
     "text": [
      "IOPub message rate exceeded.\n",
      "The notebook server will temporarily stop sending output\n",
      "to the client in order to avoid crashing it.\n",
      "To change this limit, set the config variable\n",
      "`--NotebookApp.iopub_msg_rate_limit`.\n",
      "\n",
      "Current values:\n",
      "NotebookApp.iopub_msg_rate_limit=1000.0 (msgs/sec)\n",
      "NotebookApp.rate_limit_window=3.0 (secs)\n",
      "\n"
     ]
    },
    {
     "name": "stdout",
     "output_type": "stream",
     "text": [
      "The problem has 40 commuting, 43 noncommuting Hermitian variables\n",
      "Calculating block structure...\n",
      "Estimated number of SDP variables: 3569\n",
      "Generating moment matrix...\n",
      "\u001b[KCurrent number of SDP variables: 2999 (done: 84.06%, ETA 00:00:0.5)"
     ]
    },
    {
     "name": "stderr",
     "output_type": "stream",
     "text": [
      "IOPub message rate exceeded.\n",
      "The notebook server will temporarily stop sending output\n",
      "to the client in order to avoid crashing it.\n",
      "To change this limit, set the config variable\n",
      "`--NotebookApp.iopub_msg_rate_limit`.\n",
      "\n",
      "Current values:\n",
      "NotebookApp.iopub_msg_rate_limit=1000.0 (msgs/sec)\n",
      "NotebookApp.rate_limit_window=3.0 (secs)\n",
      "\n"
     ]
    },
    {
     "name": "stdout",
     "output_type": "stream",
     "text": [
      "The problem has 41 commuting, 43 noncommuting Hermitian variables\n",
      "Calculating block structure...\n",
      "Estimated number of SDP variables: 3654\n",
      "Generating moment matrix...\n",
      "\u001b[KCurrent number of SDP variables: 2999 (done: 82.10%, ETA 00:00:0.5)"
     ]
    },
    {
     "name": "stderr",
     "output_type": "stream",
     "text": [
      "IOPub message rate exceeded.\n",
      "The notebook server will temporarily stop sending output\n",
      "to the client in order to avoid crashing it.\n",
      "To change this limit, set the config variable\n",
      "`--NotebookApp.iopub_msg_rate_limit`.\n",
      "\n",
      "Current values:\n",
      "NotebookApp.iopub_msg_rate_limit=1000.0 (msgs/sec)\n",
      "NotebookApp.rate_limit_window=3.0 (secs)\n",
      "\n"
     ]
    },
    {
     "name": "stdout",
     "output_type": "stream",
     "text": [
      "The problem has 41 commuting, 43 noncommuting Hermitian variables\n",
      "Calculating block structure...\n",
      "Estimated number of SDP variables: 3654\n",
      "Generating moment matrix...\n",
      "\u001b[KCurrent number of SDP variables: 2999 (done: 82.10%, ETA 00:00:0.5)"
     ]
    },
    {
     "name": "stderr",
     "output_type": "stream",
     "text": [
      "IOPub message rate exceeded.\n",
      "The notebook server will temporarily stop sending output\n",
      "to the client in order to avoid crashing it.\n",
      "To change this limit, set the config variable\n",
      "`--NotebookApp.iopub_msg_rate_limit`.\n",
      "\n",
      "Current values:\n",
      "NotebookApp.iopub_msg_rate_limit=1000.0 (msgs/sec)\n",
      "NotebookApp.rate_limit_window=3.0 (secs)\n",
      "\n"
     ]
    },
    {
     "name": "stdout",
     "output_type": "stream",
     "text": [
      "The problem has 40 commuting, 43 noncommuting Hermitian variables\n",
      "Calculating block structure...\n",
      "Estimated number of SDP variables: 3569\n",
      "Generating moment matrix...\n",
      "\u001b[KCurrent number of SDP variables: 2999 (done: 84.06%, ETA 00:00:0.4)"
     ]
    },
    {
     "name": "stderr",
     "output_type": "stream",
     "text": [
      "IOPub message rate exceeded.\n",
      "The notebook server will temporarily stop sending output\n",
      "to the client in order to avoid crashing it.\n",
      "To change this limit, set the config variable\n",
      "`--NotebookApp.iopub_msg_rate_limit`.\n",
      "\n",
      "Current values:\n",
      "NotebookApp.iopub_msg_rate_limit=1000.0 (msgs/sec)\n",
      "NotebookApp.rate_limit_window=3.0 (secs)\n",
      "\n"
     ]
    },
    {
     "name": "stdout",
     "output_type": "stream",
     "text": [
      "The problem has 41 commuting, 43 noncommuting Hermitian variables\n",
      "Calculating block structure...\n",
      "Estimated number of SDP variables: 3654\n",
      "Generating moment matrix...\n",
      "\u001b[KCurrent number of SDP variables: 2999 (done: 82.10%, ETA 00:00:0.5)"
     ]
    },
    {
     "name": "stderr",
     "output_type": "stream",
     "text": [
      "IOPub message rate exceeded.\n",
      "The notebook server will temporarily stop sending output\n",
      "to the client in order to avoid crashing it.\n",
      "To change this limit, set the config variable\n",
      "`--NotebookApp.iopub_msg_rate_limit`.\n",
      "\n",
      "Current values:\n",
      "NotebookApp.iopub_msg_rate_limit=1000.0 (msgs/sec)\n",
      "NotebookApp.rate_limit_window=3.0 (secs)\n",
      "\n"
     ]
    },
    {
     "name": "stdout",
     "output_type": "stream",
     "text": [
      "The problem has 41 commuting, 43 noncommuting Hermitian variables\n",
      "Calculating block structure...\n",
      "Estimated number of SDP variables: 3654\n",
      "Generating moment matrix...\n",
      "\u001b[KCurrent number of SDP variables: 2999 (done: 82.10%, ETA 00:00:0.5)"
     ]
    },
    {
     "name": "stderr",
     "output_type": "stream",
     "text": [
      "IOPub message rate exceeded.\n",
      "The notebook server will temporarily stop sending output\n",
      "to the client in order to avoid crashing it.\n",
      "To change this limit, set the config variable\n",
      "`--NotebookApp.iopub_msg_rate_limit`.\n",
      "\n",
      "Current values:\n",
      "NotebookApp.iopub_msg_rate_limit=1000.0 (msgs/sec)\n",
      "NotebookApp.rate_limit_window=3.0 (secs)\n",
      "\n"
     ]
    },
    {
     "name": "stdout",
     "output_type": "stream",
     "text": [
      "The problem has 40 commuting, 43 noncommuting Hermitian variables\n",
      "Calculating block structure...\n",
      "Estimated number of SDP variables: 3569\n",
      "Generating moment matrix...\n",
      "\u001b[KCurrent number of SDP variables: 2999 (done: 84.06%, ETA 00:00:0.5)"
     ]
    },
    {
     "name": "stderr",
     "output_type": "stream",
     "text": [
      "IOPub message rate exceeded.\n",
      "The notebook server will temporarily stop sending output\n",
      "to the client in order to avoid crashing it.\n",
      "To change this limit, set the config variable\n",
      "`--NotebookApp.iopub_msg_rate_limit`.\n",
      "\n",
      "Current values:\n",
      "NotebookApp.iopub_msg_rate_limit=1000.0 (msgs/sec)\n",
      "NotebookApp.rate_limit_window=3.0 (secs)\n",
      "\n"
     ]
    },
    {
     "name": "stdout",
     "output_type": "stream",
     "text": [
      "The problem has 41 commuting, 43 noncommuting Hermitian variables\n",
      "Calculating block structure...\n",
      "Estimated number of SDP variables: 3654\n",
      "Generating moment matrix...\n",
      "Reduced number of SDP variables: 3654654 (done: 100.03%, ETA 00:00:-0.0)\n",
      "\u001b[KProcessing 82/82 constraints...\n",
      "The problem has 41 commuting, 43 noncommuting Hermitian variables\n",
      "Calculating block structure...\n",
      "Estimated number of SDP variables: 3654\n",
      "Generating moment matrix...\n",
      "Reduced number of SDP variables: 3654654 (done: 100.03%, ETA 00:00:-0.0)\n",
      "\u001b[KProcessing 161/161 constraints...\n",
      "The problem has 40 commuting, 43 noncommuting Hermitian variables\n",
      "Calculating block structure...\n",
      "Estimated number of SDP variables: 3569\n",
      "Generating moment matrix...\n",
      "Reduced number of SDP variables: 3569569 (done: 100.03%, ETA 00:00:-0.0)\n",
      "\u001b[KProcessing 67/80 constraints..."
     ]
    },
    {
     "name": "stderr",
     "output_type": "stream",
     "text": [
      "Warning: The objective function has a non-zero 11052.681612354247 constant term. It is not included in the SDP objective.\n"
     ]
    },
    {
     "name": "stdout",
     "output_type": "stream",
     "text": [
      "\u001b[KProcessing 80/80 constraints...\n",
      "The problem has 41 commuting, 43 noncommuting Hermitian variables\n",
      "Calculating block structure...\n",
      "Estimated number of SDP variables: 3654\n",
      "Generating moment matrix...\n",
      "Reduced number of SDP variables: 3654654 (done: 100.03%, ETA 00:00:-0.0)\n",
      "\u001b[KProcessing 82/82 constraints...\n",
      "The problem has 41 commuting, 43 noncommuting Hermitian variables\n",
      "Calculating block structure...\n",
      "Estimated number of SDP variables: 3654\n",
      "Generating moment matrix...\n",
      "Reduced number of SDP variables: 3654654 (done: 100.03%, ETA 00:00:-0.0)\n",
      "\u001b[KProcessing 167/167 constraints...\n",
      "The problem has 40 commuting, 43 noncommuting Hermitian variables\n",
      "Calculating block structure...\n",
      "Estimated number of SDP variables: 3569\n",
      "Generating moment matrix...\n",
      "Reduced number of SDP variables: 3569569 (done: 100.03%, ETA 00:00:-0.0)\n",
      "\u001b[KProcessing 71/80 constraints..."
     ]
    },
    {
     "name": "stderr",
     "output_type": "stream",
     "text": [
      "Warning: The objective function has a non-zero 12136.07141291929 constant term. It is not included in the SDP objective.\n"
     ]
    },
    {
     "name": "stdout",
     "output_type": "stream",
     "text": [
      "\u001b[KProcessing 80/80 constraints...\n",
      "The problem has 41 commuting, 43 noncommuting Hermitian variables\n",
      "Calculating block structure...\n",
      "Estimated number of SDP variables: 3654\n",
      "Generating moment matrix...\n",
      "\u001b[KCurrent number of SDP variables: 2998 (done: 82.07%, ETA 00:00:0.5)"
     ]
    },
    {
     "name": "stderr",
     "output_type": "stream",
     "text": [
      "IOPub message rate exceeded.\n",
      "The notebook server will temporarily stop sending output\n",
      "to the client in order to avoid crashing it.\n",
      "To change this limit, set the config variable\n",
      "`--NotebookApp.iopub_msg_rate_limit`.\n",
      "\n",
      "Current values:\n",
      "NotebookApp.iopub_msg_rate_limit=1000.0 (msgs/sec)\n",
      "NotebookApp.rate_limit_window=3.0 (secs)\n",
      "\n"
     ]
    },
    {
     "name": "stdout",
     "output_type": "stream",
     "text": [
      "The problem has 41 commuting, 43 noncommuting Hermitian variables\n",
      "Calculating block structure...\n",
      "Estimated number of SDP variables: 3654\n",
      "Generating moment matrix...\n",
      "Reduced number of SDP variables: 3654654 (done: 100.03%, ETA 00:00:-0.0)\n",
      "\u001b[KProcessing 160/160 constraints...\n",
      "The problem has 40 commuting, 43 noncommuting Hermitian variables\n",
      "Calculating block structure...\n",
      "Estimated number of SDP variables: 3569\n",
      "Generating moment matrix...\n",
      "Reduced number of SDP variables: 3569569 (done: 100.03%, ETA 00:00:-0.0)\n",
      "\u001b[KProcessing 63/80 constraints..."
     ]
    },
    {
     "name": "stderr",
     "output_type": "stream",
     "text": [
      "Warning: The objective function has a non-zero 11160.64288020073 constant term. It is not included in the SDP objective.\n"
     ]
    },
    {
     "name": "stdout",
     "output_type": "stream",
     "text": [
      "\u001b[KProcessing 80/80 constraints...\n",
      "The problem has 41 commuting, 43 noncommuting Hermitian variables\n",
      "Calculating block structure...\n",
      "Estimated number of SDP variables: 3654\n",
      "Generating moment matrix...\n",
      "Reduced number of SDP variables: 3654654 (done: 100.03%, ETA 00:00:-0.0)\n",
      "\u001b[KProcessing 82/82 constraints...\n",
      "The problem has 41 commuting, 43 noncommuting Hermitian variables\n",
      "Calculating block structure...\n",
      "Estimated number of SDP variables: 3654\n",
      "Generating moment matrix...\n",
      "Reduced number of SDP variables: 3654654 (done: 100.03%, ETA 00:00:-0.0)\n",
      "\u001b[KProcessing 154/154 constraints...\n",
      "The problem has 40 commuting, 43 noncommuting Hermitian variables\n",
      "Calculating block structure...\n",
      "Estimated number of SDP variables: 3569\n",
      "Generating moment matrix...\n",
      "Reduced number of SDP variables: 3569569 (done: 100.03%, ETA 00:00:-0.0)\n",
      "\u001b[KProcessing 70/80 constraints..."
     ]
    },
    {
     "name": "stderr",
     "output_type": "stream",
     "text": [
      "Warning: The objective function has a non-zero 10448.948021864808 constant term. It is not included in the SDP objective.\n"
     ]
    },
    {
     "name": "stdout",
     "output_type": "stream",
     "text": [
      "\u001b[KProcessing 80/80 constraints...\n",
      "The problem has 41 commuting, 43 noncommuting Hermitian variables\n",
      "Calculating block structure...\n",
      "Estimated number of SDP variables: 3654\n",
      "Generating moment matrix...\n",
      "\u001b[KCurrent number of SDP variables: 2999 (done: 82.10%, ETA 00:00:0.5)"
     ]
    },
    {
     "name": "stderr",
     "output_type": "stream",
     "text": [
      "IOPub message rate exceeded.\n",
      "The notebook server will temporarily stop sending output\n",
      "to the client in order to avoid crashing it.\n",
      "To change this limit, set the config variable\n",
      "`--NotebookApp.iopub_msg_rate_limit`.\n",
      "\n",
      "Current values:\n",
      "NotebookApp.iopub_msg_rate_limit=1000.0 (msgs/sec)\n",
      "NotebookApp.rate_limit_window=3.0 (secs)\n",
      "\n"
     ]
    },
    {
     "name": "stdout",
     "output_type": "stream",
     "text": [
      "The problem has 41 commuting, 43 noncommuting Hermitian variables\n",
      "Calculating block structure...\n",
      "Estimated number of SDP variables: 3654\n",
      "Generating moment matrix...\n",
      "Reduced number of SDP variables: 3654654 (done: 100.03%, ETA 00:00:-0.0)\n",
      "\u001b[KProcessing 161/161 constraints...\n",
      "The problem has 40 commuting, 43 noncommuting Hermitian variables\n",
      "Calculating block structure...\n",
      "Estimated number of SDP variables: 3569\n",
      "Generating moment matrix...\n",
      "Reduced number of SDP variables: 3569569 (done: 100.03%, ETA 00:00:-0.0)\n",
      "\u001b[KProcessing 67/80 constraints..."
     ]
    },
    {
     "name": "stderr",
     "output_type": "stream",
     "text": [
      "Warning: The objective function has a non-zero 11384.541559831121 constant term. It is not included in the SDP objective.\n"
     ]
    },
    {
     "name": "stdout",
     "output_type": "stream",
     "text": [
      "\u001b[KProcessing 80/80 constraints...\n",
      "The problem has 41 commuting, 43 noncommuting Hermitian variables\n",
      "Calculating block structure...\n",
      "Estimated number of SDP variables: 3654\n",
      "Generating moment matrix...\n",
      "Reduced number of SDP variables: 3654654 (done: 100.03%, ETA 00:00:-0.0)\n",
      "\u001b[KProcessing 82/82 constraints...\n",
      "The problem has 41 commuting, 43 noncommuting Hermitian variables\n",
      "Calculating block structure...\n",
      "Estimated number of SDP variables: 3654\n",
      "Generating moment matrix...\n",
      "Reduced number of SDP variables: 3654654 (done: 100.03%, ETA 00:00:-0.0)\n",
      "\u001b[KProcessing 162/162 constraints...\n",
      "The problem has 40 commuting, 43 noncommuting Hermitian variables\n",
      "Calculating block structure...\n",
      "Estimated number of SDP variables: 3569\n",
      "Generating moment matrix...\n",
      "Reduced number of SDP variables: 3569569 (done: 100.03%, ETA 00:00:-0.0)\n",
      "\u001b[KProcessing 65/80 constraints..."
     ]
    },
    {
     "name": "stderr",
     "output_type": "stream",
     "text": [
      "Warning: The objective function has a non-zero 11493.35950066581 constant term. It is not included in the SDP objective.\n"
     ]
    },
    {
     "name": "stdout",
     "output_type": "stream",
     "text": [
      "\u001b[KProcessing 80/80 constraints...\n",
      "The problem has 41 commuting, 43 noncommuting Hermitian variables\n",
      "Calculating block structure...\n",
      "Estimated number of SDP variables: 3654\n",
      "Generating moment matrix...\n",
      "Reduced number of SDP variables: 3654654 (done: 100.03%, ETA 00:00:-0.0)\n",
      "\u001b[KProcessing 82/82 constraints...\n",
      "The problem has 41 commuting, 43 noncommuting Hermitian variables\n",
      "Calculating block structure...\n",
      "Estimated number of SDP variables: 3654\n",
      "Generating moment matrix...\n",
      "Reduced number of SDP variables: 3654654 (done: 100.03%, ETA 00:00:-0.0)\n",
      "\u001b[KProcessing 163/163 constraints...\n",
      "The problem has 40 commuting, 43 noncommuting Hermitian variables\n",
      "Calculating block structure...\n",
      "Estimated number of SDP variables: 3569\n",
      "Generating moment matrix...\n",
      "\u001b[KCurrent number of SDP variables: 3000 (done: 84.09%, ETA 00:00:0.4)"
     ]
    },
    {
     "name": "stderr",
     "output_type": "stream",
     "text": [
      "IOPub message rate exceeded.\n",
      "The notebook server will temporarily stop sending output\n",
      "to the client in order to avoid crashing it.\n",
      "To change this limit, set the config variable\n",
      "`--NotebookApp.iopub_msg_rate_limit`.\n",
      "\n",
      "Current values:\n",
      "NotebookApp.iopub_msg_rate_limit=1000.0 (msgs/sec)\n",
      "NotebookApp.rate_limit_window=3.0 (secs)\n",
      "\n"
     ]
    },
    {
     "name": "stdout",
     "output_type": "stream",
     "text": [
      "The problem has 41 commuting, 43 noncommuting Hermitian variables\n",
      "Calculating block structure...\n",
      "Estimated number of SDP variables: 3654\n",
      "Generating moment matrix...\n",
      "Reduced number of SDP variables: 3654654 (done: 100.03%, ETA 00:00:-0.0)\n",
      "\u001b[KProcessing 82/82 constraints...\n",
      "The problem has 41 commuting, 43 noncommuting Hermitian variables\n",
      "Calculating block structure...\n",
      "Estimated number of SDP variables: 3654\n",
      "Generating moment matrix...\n",
      "Reduced number of SDP variables: 3654654 (done: 100.03%, ETA 00:00:-0.0)\n",
      "\u001b[KProcessing 158/158 constraints...\n",
      "The problem has 40 commuting, 43 noncommuting Hermitian variables\n",
      "Calculating block structure...\n",
      "Estimated number of SDP variables: 3569\n",
      "Generating moment matrix...\n",
      "Reduced number of SDP variables: 3569569 (done: 100.03%, ETA 00:00:-0.0)\n",
      "\u001b[KProcessing 68/80 constraints..."
     ]
    },
    {
     "name": "stderr",
     "output_type": "stream",
     "text": [
      "Warning: The objective function has a non-zero 10904.991428475969 constant term. It is not included in the SDP objective.\n"
     ]
    },
    {
     "name": "stdout",
     "output_type": "stream",
     "text": [
      "\u001b[KProcessing 80/80 constraints...\n",
      "The problem has 41 commuting, 43 noncommuting Hermitian variables\n",
      "Calculating block structure...\n",
      "Estimated number of SDP variables: 3654\n",
      "Generating moment matrix...\n",
      "\u001b[KCurrent number of SDP variables: 2999 (done: 82.10%, ETA 00:00:0.5)"
     ]
    },
    {
     "name": "stderr",
     "output_type": "stream",
     "text": [
      "IOPub message rate exceeded.\n",
      "The notebook server will temporarily stop sending output\n",
      "to the client in order to avoid crashing it.\n",
      "To change this limit, set the config variable\n",
      "`--NotebookApp.iopub_msg_rate_limit`.\n",
      "\n",
      "Current values:\n",
      "NotebookApp.iopub_msg_rate_limit=1000.0 (msgs/sec)\n",
      "NotebookApp.rate_limit_window=3.0 (secs)\n",
      "\n"
     ]
    },
    {
     "name": "stdout",
     "output_type": "stream",
     "text": [
      "The problem has 41 commuting, 43 noncommuting Hermitian variables\n",
      "Calculating block structure...\n",
      "Estimated number of SDP variables: 3654\n",
      "Generating moment matrix...\n",
      "Reduced number of SDP variables: 3654654 (done: 100.03%, ETA 00:00:-0.0)\n",
      "\u001b[KProcessing 159/159 constraints...\n",
      "The problem has 40 commuting, 43 noncommuting Hermitian variables\n",
      "Calculating block structure...\n",
      "Estimated number of SDP variables: 3569\n",
      "Generating moment matrix...\n",
      "Reduced number of SDP variables: 3569569 (done: 100.03%, ETA 00:00:-0.0)\n",
      "\u001b[KProcessing 70/80 constraints..."
     ]
    },
    {
     "name": "stderr",
     "output_type": "stream",
     "text": [
      "Warning: The objective function has a non-zero 11619.55403675915 constant term. It is not included in the SDP objective.\n"
     ]
    },
    {
     "name": "stdout",
     "output_type": "stream",
     "text": [
      "\u001b[KProcessing 80/80 constraints...\n",
      "The problem has 41 commuting, 43 noncommuting Hermitian variables\n",
      "Calculating block structure...\n",
      "Estimated number of SDP variables: 3654\n",
      "Generating moment matrix...\n",
      "Reduced number of SDP variables: 3654654 (done: 100.03%, ETA 00:00:-0.0)\n",
      "\u001b[KProcessing 82/82 constraints...\n",
      "The problem has 41 commuting, 43 noncommuting Hermitian variables\n",
      "Calculating block structure...\n",
      "Estimated number of SDP variables: 3654\n",
      "Generating moment matrix...\n",
      "Reduced number of SDP variables: 3654654 (done: 100.03%, ETA 00:00:-0.0)\n",
      "\u001b[KProcessing 151/151 constraints...\n",
      "The problem has 40 commuting, 43 noncommuting Hermitian variables\n",
      "Calculating block structure...\n",
      "Estimated number of SDP variables: 3569\n",
      "Generating moment matrix...\n",
      "Reduced number of SDP variables: 3569569 (done: 100.03%, ETA 00:00:-0.0)\n",
      "\u001b[KProcessing 67/80 constraints..."
     ]
    },
    {
     "name": "stderr",
     "output_type": "stream",
     "text": [
      "Warning: The objective function has a non-zero 10128.955670857717 constant term. It is not included in the SDP objective.\n"
     ]
    },
    {
     "name": "stdout",
     "output_type": "stream",
     "text": [
      "\u001b[KProcessing 80/80 constraints...\n",
      "The problem has 41 commuting, 43 noncommuting Hermitian variables\n",
      "Calculating block structure...\n",
      "Estimated number of SDP variables: 3654\n",
      "Generating moment matrix...\n",
      "\u001b[KCurrent number of SDP variables: 2999 (done: 82.10%, ETA 00:00:0.5)"
     ]
    },
    {
     "name": "stderr",
     "output_type": "stream",
     "text": [
      "IOPub message rate exceeded.\n",
      "The notebook server will temporarily stop sending output\n",
      "to the client in order to avoid crashing it.\n",
      "To change this limit, set the config variable\n",
      "`--NotebookApp.iopub_msg_rate_limit`.\n",
      "\n",
      "Current values:\n",
      "NotebookApp.iopub_msg_rate_limit=1000.0 (msgs/sec)\n",
      "NotebookApp.rate_limit_window=3.0 (secs)\n",
      "\n"
     ]
    },
    {
     "name": "stdout",
     "output_type": "stream",
     "text": [
      "The problem has 41 commuting, 43 noncommuting Hermitian variables\n",
      "Calculating block structure...\n",
      "Estimated number of SDP variables: 3654\n",
      "Generating moment matrix...\n",
      "\u001b[KCurrent number of SDP variables: 2999 (done: 82.10%, ETA 00:00:0.5)"
     ]
    },
    {
     "name": "stderr",
     "output_type": "stream",
     "text": [
      "IOPub message rate exceeded.\n",
      "The notebook server will temporarily stop sending output\n",
      "to the client in order to avoid crashing it.\n",
      "To change this limit, set the config variable\n",
      "`--NotebookApp.iopub_msg_rate_limit`.\n",
      "\n",
      "Current values:\n",
      "NotebookApp.iopub_msg_rate_limit=1000.0 (msgs/sec)\n",
      "NotebookApp.rate_limit_window=3.0 (secs)\n",
      "\n"
     ]
    },
    {
     "name": "stdout",
     "output_type": "stream",
     "text": [
      "The problem has 40 commuting, 43 noncommuting Hermitian variables\n",
      "Calculating block structure...\n",
      "Estimated number of SDP variables: 3569\n",
      "Generating moment matrix...\n",
      "\u001b[KCurrent number of SDP variables: 2999 (done: 84.06%, ETA 00:00:0.5)"
     ]
    },
    {
     "name": "stderr",
     "output_type": "stream",
     "text": [
      "IOPub message rate exceeded.\n",
      "The notebook server will temporarily stop sending output\n",
      "to the client in order to avoid crashing it.\n",
      "To change this limit, set the config variable\n",
      "`--NotebookApp.iopub_msg_rate_limit`.\n",
      "\n",
      "Current values:\n",
      "NotebookApp.iopub_msg_rate_limit=1000.0 (msgs/sec)\n",
      "NotebookApp.rate_limit_window=3.0 (secs)\n",
      "\n"
     ]
    },
    {
     "name": "stdout",
     "output_type": "stream",
     "text": [
      "The problem has 41 commuting, 43 noncommuting Hermitian variables\n",
      "Calculating block structure...\n",
      "Estimated number of SDP variables: 3654\n",
      "Generating moment matrix...\n",
      "Reduced number of SDP variables: 3654654 (done: 100.03%, ETA 00:00:-0.0)\n",
      "\u001b[KProcessing 82/82 constraints...\n",
      "The problem has 41 commuting, 43 noncommuting Hermitian variables\n",
      "Calculating block structure...\n",
      "Estimated number of SDP variables: 3654\n",
      "Generating moment matrix...\n",
      "Reduced number of SDP variables: 3654654 (done: 100.03%, ETA 00:00:-0.0)\n",
      "\u001b[KProcessing 154/154 constraints...\n",
      "The problem has 40 commuting, 43 noncommuting Hermitian variables\n",
      "Calculating block structure...\n",
      "Estimated number of SDP variables: 3569\n",
      "Generating moment matrix...\n",
      "\u001b[KCurrent number of SDP variables: 2999 (done: 84.06%, ETA 00:00:0.5)"
     ]
    },
    {
     "name": "stderr",
     "output_type": "stream",
     "text": [
      "IOPub message rate exceeded.\n",
      "The notebook server will temporarily stop sending output\n",
      "to the client in order to avoid crashing it.\n",
      "To change this limit, set the config variable\n",
      "`--NotebookApp.iopub_msg_rate_limit`.\n",
      "\n",
      "Current values:\n",
      "NotebookApp.iopub_msg_rate_limit=1000.0 (msgs/sec)\n",
      "NotebookApp.rate_limit_window=3.0 (secs)\n",
      "\n"
     ]
    },
    {
     "name": "stdout",
     "output_type": "stream",
     "text": [
      "The problem has 41 commuting, 43 noncommuting Hermitian variables\n",
      "Calculating block structure...\n",
      "Estimated number of SDP variables: 3654\n",
      "Generating moment matrix...\n",
      "Reduced number of SDP variables: 3654654 (done: 100.03%, ETA 00:00:-0.0)\n",
      "\u001b[KProcessing 82/82 constraints...\n",
      "The problem has 41 commuting, 43 noncommuting Hermitian variables\n",
      "Calculating block structure...\n",
      "Estimated number of SDP variables: 3654\n",
      "Generating moment matrix...\n",
      "\u001b[KCurrent number of SDP variables: 3339 (done: 91.41%, ETA 00:00:0.2)"
     ]
    },
    {
     "name": "stderr",
     "output_type": "stream",
     "text": [
      "IOPub message rate exceeded.\n",
      "The notebook server will temporarily stop sending output\n",
      "to the client in order to avoid crashing it.\n",
      "To change this limit, set the config variable\n",
      "`--NotebookApp.iopub_msg_rate_limit`.\n",
      "\n",
      "Current values:\n",
      "NotebookApp.iopub_msg_rate_limit=1000.0 (msgs/sec)\n",
      "NotebookApp.rate_limit_window=3.0 (secs)\n",
      "\n"
     ]
    },
    {
     "name": "stdout",
     "output_type": "stream",
     "text": [
      "The problem has 40 commuting, 43 noncommuting Hermitian variables\n",
      "Calculating block structure...\n",
      "Estimated number of SDP variables: 3569\n",
      "Generating moment matrix...\n",
      "\u001b[KCurrent number of SDP variables: 3284 (done: 92.04%, ETA 00:00:0.2)"
     ]
    },
    {
     "name": "stderr",
     "output_type": "stream",
     "text": [
      "IOPub message rate exceeded.\n",
      "The notebook server will temporarily stop sending output\n",
      "to the client in order to avoid crashing it.\n",
      "To change this limit, set the config variable\n",
      "`--NotebookApp.iopub_msg_rate_limit`.\n",
      "\n",
      "Current values:\n",
      "NotebookApp.iopub_msg_rate_limit=1000.0 (msgs/sec)\n",
      "NotebookApp.rate_limit_window=3.0 (secs)\n",
      "\n"
     ]
    }
   ],
   "source": [
    "Y_orig=pd.read_csv('FairOutput.csv',header=None)\n",
    "Y_orig=Y_orig[0:20].to_numpy()\n",
    "\n",
    "# Decision Variables\n",
    "G = generate_operators(\"G\", n_vars=1, hermitian=True, commutative=False)[0]\n",
    "Fdash = generate_operators(\"Fdash\", n_vars=1, hermitian=True, commutative=False)[0]\n",
    "z = generate_operators(\"z\", n_vars=1, hermitian=True, commutative=True)[0]\n",
    "m = generate_operators(\"m\", n_vars=T+1, hermitian=True, commutative=False)\n",
    "q = generate_operators(\"q\", n_vars=T, hermitian=True, commutative=False)\n",
    "p = generate_operators(\"p\", n_vars=T, hermitian=True, commutative=True)\n",
    "f = generate_operators(\"f\", n_vars=T, hermitian=True, commutative=True)\n",
    "# Constraints\n",
    "ine1 = [f[i] - Fdash*m[i+1] - p[i] for i in range(T)]\n",
    "ine2 = [-f[i] + Fdash*m[i+1] + p[i] for i in range(T)]\n",
    "ine3 = [m[i+1] - G*m[i] - q[i] for i in range(T)]\n",
    "ine4 = [-m[i+1] + G*m[i] + q[i] for i in range(T)]\n",
    "ines_unfair = ine1+ine2+ine3+ine4\n",
    "# Objective\n",
    "obj_A = z + 1*sum(p[i]**2 for i in range(T)) # 1 is optimal for level 1\n",
    "obj_B = z + 3*sum(p[i]**2 for i in range(T)) # 3 is optimal for level 1\n",
    "\n",
    "# Solve\n",
    "r=0\n",
    "while r < R:\n",
    "    # make varying length of multiple trajectories\n",
    "    start=[0]+random.sample(range(0,10),trajectory[0]-1)+[0]+random.sample(range(0,5),trajectory[1]-1)\n",
    "    end=random.sample(range(T-10,T),trajectory[0]-1)+[T]+random.sample(range(T-5,T),trajectory[1]-1)+[T]\n",
    "    length=[end[i]-start[i] for i in range(sum_traj)]\n",
    "    ind=np.zeros([T,sum_traj])\n",
    "    for j in range(sum_traj):\n",
    "        ind[start[j]:end[j],j]=1\n",
    "    Y = np.multiply(Y_orig,ind)\n",
    "    \n",
    "    # Constraints\n",
    "    max1 = [z-1/trajectory[0]*sum(1/length[j]*sum((Y[t,j]-f[t])**2 for t in range(start[j],end[j])) for j in range(0,trajectory[0]))]\n",
    "    max2 = [z-1/trajectory[1]*sum(1/length[j]*sum((Y[t,j]-f[t])**2 for t in range(start[j],end[j])) for j in range(trajectory[0],sum_traj))]\n",
    "    max3 = [z-(Y[t,j]-f[t])**2 for j in range(sum_traj) for t in range(start[j],end[j]) ]\n",
    "    ines_A = ine1+ine2+ine3+ine4+max1+max2\n",
    "    ines_B = ine1+ine2+ine3+ine4+max3\n",
    "    \n",
    "    # Objective\n",
    "    obj_unfair = sum(sum((Y[t,j]-f[t])**2 for t in range(start[j],end[j])) for j in range(sum_traj)) + 5*sum(p[i]**2 for i in range(T)) # 5 is optimal for level 1\n",
    "    \n",
    "    # Solve the fair NCPO A\n",
    "    sdp_A = SdpRelaxation(variables = flatten([G,Fdash,z,f,p,m,q]), verbose = 2)\n",
    "    sdp_A.get_relaxation(level, objective=obj_A, inequalities=ines_A)\n",
    "    sdp_A.solve(solver='sdpa', solverparameters={\"executable\":\"sdpa_gmp\",\"executable\": \"C:\\\\Users\\\\zhouq\\\\Documents\\\\sdpa7-windows\\\\sdpa.exe\"})\n",
    "    #print(sdp_A.primal, sdp_A.dual, sdp_A.status)\n",
    "    \n",
    "    # Solve the fair NCPO B\n",
    "    sdp_B = SdpRelaxation(variables = flatten([G,Fdash,z,f,p,m,q]), verbose = 2)\n",
    "    sdp_B.get_relaxation(level, objective=obj_B, inequalities=ines_B)\n",
    "    #sdp.get_relaxation(level, objective=obj, inequalities=ines,substitutions=subs)\n",
    "    sdp_B.solve(solver='sdpa', solverparameters={\"executable\":\"sdpa_gmp\",\"executable\": \"C:\\\\Users\\\\zhouq\\\\Documents\\\\sdpa7-windows\\\\sdpa.exe\"})\n",
    "    #print(sdp_B.primal, sdp_B.dual, sdp_B.status)\n",
    "    \n",
    "    # Solve the unfair NCPO\n",
    "    sdp_unfair = SdpRelaxation(variables = flatten([G,Fdash,f,p,m,q]), verbose = 2)\n",
    "    sdp_unfair.get_relaxation(level, objective=obj_unfair, inequalities=ines_unfair)\n",
    "    sdp_unfair.solve(solver='sdpa', solverparameters={\"executable\":\"sdpa_gmp\",\"executable\": \"C:\\\\Users\\\\zhouq\\\\Documents\\\\sdpa7-windows\\\\sdpa.exe\"})\n",
    "    #print(sdp_unfair.primal, sdp_unfair.dual, sdp_unfair.status)\n",
    "\n",
    "    # extract forecast\n",
    "    # make sure all feasible\n",
    "    if(sdp_A.status != 'infeasible' and sdp_B.status != 'infeasible' and sdp_unfair.status != 'infeasible'):\n",
    "        ff_A=[sdp_A[f[i]] for i in range(T)]\n",
    "        ff_B=[sdp_B[f[i]] for i in range(T)]\n",
    "        unff=[sdp_unfair[f[i]] for i in range(T)]\n",
    "        ff[r,:]=flatten([ff_A,ff_B,unff])\n",
    "        r+=1\n",
    "\n"
   ]
  },
  {
   "cell_type": "code",
   "execution_count": 78,
   "metadata": {},
   "outputs": [],
   "source": [
    "# Write to files\n",
    "ff=pd.DataFrame(ff)\n",
    "ff.to_csv('CompareOutput_ff.csv',index=False,header=False)\n",
    "outputs=open('CompareOutput_ff.txt','w')\n",
    "print(\"proc_noise_std:\",proc_noise_std,file=outputs)\n",
    "print(\"obs_noise_std:\",obs_noise_std,file=outputs)\n",
    "print(\"Y_orig:\",Y_orig,file=outputs)\n",
    "outputs.close()"
   ]
  },
  {
   "cell_type": "code",
   "execution_count": 79,
   "metadata": {},
   "outputs": [
    {
     "data": {
      "image/png": "[encoded data removed]",
      "text/plain": [
       "<Figure size 432x288 with 1 Axes>"
      ]
     },
     "metadata": {},
     "output_type": "display_data"
    }
   ],
   "source": [
    "# Plot\n",
    "ff=pd.read_csv('CompareOutput_ff.csv',header=None)\n",
    "col1=ff.to_numpy().flatten() #values\n",
    "col2=[t for t in range(T)]*met*R #time\n",
    "col3=flatten([[m]*T for m in range(met)]*R) #type\n",
    "df=pd.DataFrame(np.vstack((col1,col2,col3)).T,columns=['Forecast', 'Time', 'raw_type'])\n",
    "df[\"Model type\"] = df[\"raw_type\"].astype(\"category\")\n",
    "df[\"Model type\"].cat.categories = [\"Subgroup-Fair\", \"Instant-Fair\", \"Unfair\"]\n",
    "df[\"Time\"]=df[\"Time\"].astype(int) \n",
    "df=df.drop(columns=['raw_type'])\n",
    "\n",
    "sns.set(style=\"white\",palette=[\"cyan\",\"chartreuse\",\"red\"])\n",
    "ax=sns.lineplot(x=\"Time\",y=\"Forecast\",hue=\"Model type\",data=df,ci=\"sd\")\n",
    "ax=plt.xticks([i for i in range(T)])\n",
    "\n",
    "ax=plt.plot(range(T),Y_orig[:,0],'y--',color=\"lightgrey\")\n",
    "ax=plt.plot(range(T),Y_orig[:,1],'y--',color=\"lightgrey\")\n",
    "ax=plt.plot(range(T),Y_orig[:,2],'y:',color=\"lightgrey\")\n",
    "ax=plt.plot(range(T),Y_orig[:,3],'y:',color=\"lightgrey\")\n",
    "ax=plt.plot(range(T),Y_orig[:,4],'y:',color=\"lightgrey\")\n",
    "\n",
    "plt.rcParams['pdf.fonttype'] = 42\n",
    "plt.rcParams['ps.fonttype'] = 42\n",
    "\n",
    "plt.savefig('Overview.pdf', bbox_inches='tight') "
   ]
  }
 ],
 "metadata": {
  "kernelspec": {
   "display_name": "Python 3",
   "language": "python",
   "name": "python3"
  },
  "language_info": {
   "codemirror_mode": {
    "name": "ipython",
    "version": 3
   },
   "file_extension": ".py",
   "mimetype": "text/x-python",
   "name": "python",
   "nbconvert_exporter": "python",
   "pygments_lexer": "ipython3",
   "version": "3.7.7"
  }
 },
 "nbformat": 4,
 "nbformat_minor": 4
}
