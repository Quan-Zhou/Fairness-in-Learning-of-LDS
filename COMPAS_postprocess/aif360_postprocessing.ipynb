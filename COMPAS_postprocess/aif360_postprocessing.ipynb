{
 "cells": [
  {
   "cell_type": "code",
   "execution_count": 1,
   "metadata": {},
   "outputs": [],
   "source": [
    "import pandas as pd\n",
    "import numpy as np\n",
    "import matplotlib.pyplot as plt\n",
    "from ncpol2sdpa import *\n",
    "from random import shuffle\n",
    "from tqdm import tqdm"
   ]
  },
  {
   "cell_type": "code",
   "execution_count": 2,
   "metadata": {},
   "outputs": [
    {
     "name": "stderr",
     "output_type": "stream",
     "text": [
      "WARNING:root:No module named 'tensorflow': AdversarialDebiasing will be unavailable. To install, run:\n",
      "pip install 'aif360[AdversarialDebiasing]'\n"
     ]
    },
    {
     "ename": "ModuleNotFoundError",
     "evalue": "No module named 'tensorflow'",
     "output_type": "error",
     "traceback": [
      "\u001b[1;31m---------------------------------------------------------------------------\u001b[0m",
      "\u001b[1;31mModuleNotFoundError\u001b[0m                       Traceback (most recent call last)",
      "\u001b[1;32m<ipython-input-2-6e49f6d767ef>\u001b[0m in \u001b[0;36m<module>\u001b[1;34m\u001b[0m\n\u001b[0;32m      1\u001b[0m \u001b[1;32mfrom\u001b[0m \u001b[0maif360\u001b[0m\u001b[1;33m.\u001b[0m\u001b[0mdatasets\u001b[0m \u001b[1;32mimport\u001b[0m \u001b[0mStandardDataset\u001b[0m\u001b[1;33m\u001b[0m\u001b[1;33m\u001b[0m\u001b[0m\n\u001b[1;32m----> 2\u001b[1;33m \u001b[1;32mfrom\u001b[0m \u001b[0maif360\u001b[0m\u001b[1;33m.\u001b[0m\u001b[0mmetrics\u001b[0m \u001b[1;32mimport\u001b[0m \u001b[0mBinaryLabelDatasetMetric\u001b[0m\u001b[1;33m,\u001b[0m \u001b[0mutils\u001b[0m\u001b[1;33m\u001b[0m\u001b[1;33m\u001b[0m\u001b[0m\n\u001b[0m\u001b[0;32m      3\u001b[0m \u001b[1;32mfrom\u001b[0m \u001b[0maif360\u001b[0m\u001b[1;33m.\u001b[0m\u001b[0mdatasets\u001b[0m \u001b[1;32mimport\u001b[0m \u001b[0mBinaryLabelDataset\u001b[0m\u001b[1;33m\u001b[0m\u001b[1;33m\u001b[0m\u001b[0m\n\u001b[0;32m      4\u001b[0m \u001b[1;32mfrom\u001b[0m \u001b[0maif360\u001b[0m\u001b[1;33m.\u001b[0m\u001b[0mmetrics\u001b[0m \u001b[1;32mimport\u001b[0m \u001b[0mClassificationMetric\u001b[0m\u001b[1;33m\u001b[0m\u001b[1;33m\u001b[0m\u001b[0m\n\u001b[0;32m      5\u001b[0m \u001b[1;31m# Odds equalizing post-processing algorithm\u001b[0m\u001b[1;33m\u001b[0m\u001b[1;33m\u001b[0m\u001b[1;33m\u001b[0m\u001b[0m\n",
      "\u001b[1;32m~\\anaconda3\\lib\\site-packages\\aif360\\metrics\\__init__.py\u001b[0m in \u001b[0;36m<module>\u001b[1;34m\u001b[0m\n\u001b[0;32m      1\u001b[0m \u001b[1;32mfrom\u001b[0m \u001b[0maif360\u001b[0m\u001b[1;33m.\u001b[0m\u001b[0mmetrics\u001b[0m\u001b[1;33m.\u001b[0m\u001b[0mmetric\u001b[0m \u001b[1;32mimport\u001b[0m \u001b[0mMetric\u001b[0m\u001b[1;33m\u001b[0m\u001b[1;33m\u001b[0m\u001b[0m\n\u001b[0;32m      2\u001b[0m \u001b[1;32mfrom\u001b[0m \u001b[0maif360\u001b[0m\u001b[1;33m.\u001b[0m\u001b[0mmetrics\u001b[0m\u001b[1;33m.\u001b[0m\u001b[0mdataset_metric\u001b[0m \u001b[1;32mimport\u001b[0m \u001b[0mDatasetMetric\u001b[0m\u001b[1;33m\u001b[0m\u001b[1;33m\u001b[0m\u001b[0m\n\u001b[1;32m----> 3\u001b[1;33m \u001b[1;32mfrom\u001b[0m \u001b[0maif360\u001b[0m\u001b[1;33m.\u001b[0m\u001b[0mmetrics\u001b[0m\u001b[1;33m.\u001b[0m\u001b[0mbinary_label_dataset_metric\u001b[0m \u001b[1;32mimport\u001b[0m \u001b[0mBinaryLabelDatasetMetric\u001b[0m\u001b[1;33m\u001b[0m\u001b[1;33m\u001b[0m\u001b[0m\n\u001b[0m\u001b[0;32m      4\u001b[0m \u001b[1;32mfrom\u001b[0m \u001b[0maif360\u001b[0m\u001b[1;33m.\u001b[0m\u001b[0mmetrics\u001b[0m\u001b[1;33m.\u001b[0m\u001b[0mclassification_metric\u001b[0m \u001b[1;32mimport\u001b[0m \u001b[0mClassificationMetric\u001b[0m\u001b[1;33m\u001b[0m\u001b[1;33m\u001b[0m\u001b[0m\n\u001b[0;32m      5\u001b[0m \u001b[1;32mfrom\u001b[0m \u001b[0maif360\u001b[0m\u001b[1;33m.\u001b[0m\u001b[0mmetrics\u001b[0m\u001b[1;33m.\u001b[0m\u001b[0msample_distortion_metric\u001b[0m \u001b[1;32mimport\u001b[0m \u001b[0mSampleDistortionMetric\u001b[0m\u001b[1;33m\u001b[0m\u001b[1;33m\u001b[0m\u001b[0m\n",
      "\u001b[1;32m~\\anaconda3\\lib\\site-packages\\aif360\\metrics\\binary_label_dataset_metric.py\u001b[0m in \u001b[0;36m<module>\u001b[1;34m\u001b[0m\n\u001b[0;32m      1\u001b[0m \u001b[1;32mimport\u001b[0m \u001b[0mnumpy\u001b[0m \u001b[1;32mas\u001b[0m \u001b[0mnp\u001b[0m\u001b[1;33m\u001b[0m\u001b[1;33m\u001b[0m\u001b[0m\n\u001b[0;32m      2\u001b[0m \u001b[1;32mfrom\u001b[0m \u001b[0msklearn\u001b[0m\u001b[1;33m.\u001b[0m\u001b[0mneighbors\u001b[0m \u001b[1;32mimport\u001b[0m \u001b[0mNearestNeighbors\u001b[0m\u001b[1;33m\u001b[0m\u001b[1;33m\u001b[0m\u001b[0m\n\u001b[1;32m----> 3\u001b[1;33m \u001b[1;32mfrom\u001b[0m \u001b[0maif360\u001b[0m\u001b[1;33m.\u001b[0m\u001b[0malgorithms\u001b[0m\u001b[1;33m.\u001b[0m\u001b[0minprocessing\u001b[0m\u001b[1;33m.\u001b[0m\u001b[0mgerryfair\u001b[0m\u001b[1;33m.\u001b[0m\u001b[0mauditor\u001b[0m \u001b[1;32mimport\u001b[0m \u001b[0mAuditor\u001b[0m\u001b[1;33m\u001b[0m\u001b[1;33m\u001b[0m\u001b[0m\n\u001b[0m\u001b[0;32m      4\u001b[0m \u001b[1;32mfrom\u001b[0m \u001b[0maif360\u001b[0m\u001b[1;33m.\u001b[0m\u001b[0mdatasets\u001b[0m \u001b[1;32mimport\u001b[0m \u001b[0mBinaryLabelDataset\u001b[0m\u001b[1;33m\u001b[0m\u001b[1;33m\u001b[0m\u001b[0m\n\u001b[0;32m      5\u001b[0m \u001b[1;32mfrom\u001b[0m \u001b[0maif360\u001b[0m\u001b[1;33m.\u001b[0m\u001b[0mdatasets\u001b[0m\u001b[1;33m.\u001b[0m\u001b[0mmulticlass_label_dataset\u001b[0m \u001b[1;32mimport\u001b[0m \u001b[0mMulticlassLabelDataset\u001b[0m\u001b[1;33m\u001b[0m\u001b[1;33m\u001b[0m\u001b[0m\n",
      "\u001b[1;32m~\\anaconda3\\lib\\site-packages\\aif360\\algorithms\\inprocessing\\__init__.py\u001b[0m in \u001b[0;36m<module>\u001b[1;34m\u001b[0m\n\u001b[0;32m      4\u001b[0m \u001b[1;32mfrom\u001b[0m \u001b[0maif360\u001b[0m\u001b[1;33m.\u001b[0m\u001b[0malgorithms\u001b[0m\u001b[1;33m.\u001b[0m\u001b[0minprocessing\u001b[0m\u001b[1;33m.\u001b[0m\u001b[0mmeta_fair_classifier\u001b[0m \u001b[1;32mimport\u001b[0m \u001b[0mMetaFairClassifier\u001b[0m\u001b[1;33m\u001b[0m\u001b[1;33m\u001b[0m\u001b[0m\n\u001b[0;32m      5\u001b[0m \u001b[1;32mfrom\u001b[0m \u001b[0maif360\u001b[0m\u001b[1;33m.\u001b[0m\u001b[0malgorithms\u001b[0m\u001b[1;33m.\u001b[0m\u001b[0minprocessing\u001b[0m\u001b[1;33m.\u001b[0m\u001b[0mgerryfair_classifier\u001b[0m \u001b[1;32mimport\u001b[0m \u001b[0mGerryFairClassifier\u001b[0m\u001b[1;33m\u001b[0m\u001b[1;33m\u001b[0m\u001b[0m\n\u001b[1;32m----> 6\u001b[1;33m \u001b[1;32mfrom\u001b[0m \u001b[0maif360\u001b[0m\u001b[1;33m.\u001b[0m\u001b[0malgorithms\u001b[0m\u001b[1;33m.\u001b[0m\u001b[0minprocessing\u001b[0m\u001b[1;33m.\u001b[0m\u001b[0mexponentiated_gradient_reduction\u001b[0m \u001b[1;32mimport\u001b[0m \u001b[0mExponentiatedGradientReduction\u001b[0m\u001b[1;33m\u001b[0m\u001b[1;33m\u001b[0m\u001b[0m\n\u001b[0m\u001b[0;32m      7\u001b[0m \u001b[1;32mfrom\u001b[0m \u001b[0maif360\u001b[0m\u001b[1;33m.\u001b[0m\u001b[0malgorithms\u001b[0m\u001b[1;33m.\u001b[0m\u001b[0minprocessing\u001b[0m\u001b[1;33m.\u001b[0m\u001b[0mgrid_search_reduction\u001b[0m \u001b[1;32mimport\u001b[0m \u001b[0mGridSearchReduction\u001b[0m\u001b[1;33m\u001b[0m\u001b[1;33m\u001b[0m\u001b[0m\n",
      "\u001b[1;32m~\\anaconda3\\lib\\site-packages\\aif360\\algorithms\\inprocessing\\exponentiated_gradient_reduction.py\u001b[0m in \u001b[0;36m<module>\u001b[1;34m\u001b[0m\n\u001b[0;32m     10\u001b[0m \u001b[1;33m\u001b[0m\u001b[0m\n\u001b[0;32m     11\u001b[0m \u001b[1;32mfrom\u001b[0m \u001b[0maif360\u001b[0m\u001b[1;33m.\u001b[0m\u001b[0malgorithms\u001b[0m \u001b[1;32mimport\u001b[0m \u001b[0mTransformer\u001b[0m\u001b[1;33m\u001b[0m\u001b[1;33m\u001b[0m\u001b[0m\n\u001b[1;32m---> 12\u001b[1;33m \u001b[1;32mfrom\u001b[0m \u001b[0maif360\u001b[0m\u001b[1;33m.\u001b[0m\u001b[0msklearn\u001b[0m\u001b[1;33m.\u001b[0m\u001b[0minprocessing\u001b[0m \u001b[1;32mimport\u001b[0m \u001b[0mExponentiatedGradientReduction\u001b[0m \u001b[1;32mas\u001b[0m \u001b[0mskExpGradRed\u001b[0m\u001b[1;33m\u001b[0m\u001b[1;33m\u001b[0m\u001b[0m\n\u001b[0m\u001b[0;32m     13\u001b[0m \u001b[1;33m\u001b[0m\u001b[0m\n\u001b[0;32m     14\u001b[0m \u001b[1;33m\u001b[0m\u001b[0m\n",
      "\u001b[1;32m~\\anaconda3\\lib\\site-packages\\aif360\\sklearn\\inprocessing\\__init__.py\u001b[0m in \u001b[0;36m<module>\u001b[1;34m\u001b[0m\n\u001b[0;32m      2\u001b[0m \u001b[0mIn\u001b[0m\u001b[1;33m-\u001b[0m\u001b[0mprocessing\u001b[0m \u001b[0malgorithms\u001b[0m \u001b[0mtrain\u001b[0m \u001b[0ma\u001b[0m \u001b[0mfair\u001b[0m \u001b[0mclassifier\u001b[0m \u001b[1;33m(\u001b[0m\u001b[0mdata\u001b[0m \u001b[1;32min\u001b[0m\u001b[1;33m,\u001b[0m \u001b[0mpredictions\u001b[0m \u001b[0mout\u001b[0m\u001b[1;33m)\u001b[0m\u001b[1;33m.\u001b[0m\u001b[1;33m\u001b[0m\u001b[1;33m\u001b[0m\u001b[0m\n\u001b[0;32m      3\u001b[0m \"\"\"\n\u001b[1;32m----> 4\u001b[1;33m \u001b[1;32mfrom\u001b[0m \u001b[0maif360\u001b[0m\u001b[1;33m.\u001b[0m\u001b[0msklearn\u001b[0m\u001b[1;33m.\u001b[0m\u001b[0minprocessing\u001b[0m\u001b[1;33m.\u001b[0m\u001b[0madversarial_debiasing\u001b[0m \u001b[1;32mimport\u001b[0m \u001b[0mAdversarialDebiasing\u001b[0m\u001b[1;33m\u001b[0m\u001b[1;33m\u001b[0m\u001b[0m\n\u001b[0m\u001b[0;32m      5\u001b[0m \u001b[1;32mfrom\u001b[0m \u001b[0maif360\u001b[0m\u001b[1;33m.\u001b[0m\u001b[0msklearn\u001b[0m\u001b[1;33m.\u001b[0m\u001b[0minprocessing\u001b[0m\u001b[1;33m.\u001b[0m\u001b[0mexponentiated_gradient_reduction\u001b[0m \u001b[1;32mimport\u001b[0m \u001b[0mExponentiatedGradientReduction\u001b[0m\u001b[1;33m\u001b[0m\u001b[1;33m\u001b[0m\u001b[0m\n\u001b[0;32m      6\u001b[0m \u001b[1;32mfrom\u001b[0m \u001b[0maif360\u001b[0m\u001b[1;33m.\u001b[0m\u001b[0msklearn\u001b[0m\u001b[1;33m.\u001b[0m\u001b[0minprocessing\u001b[0m\u001b[1;33m.\u001b[0m\u001b[0mgrid_search_reduction\u001b[0m \u001b[1;32mimport\u001b[0m \u001b[0mGridSearchReduction\u001b[0m\u001b[1;33m\u001b[0m\u001b[1;33m\u001b[0m\u001b[0m\n",
      "\u001b[1;32m~\\anaconda3\\lib\\site-packages\\aif360\\sklearn\\inprocessing\\adversarial_debiasing.py\u001b[0m in \u001b[0;36m<module>\u001b[1;34m\u001b[0m\n\u001b[0;32m      5\u001b[0m \u001b[1;32mfrom\u001b[0m \u001b[0msklearn\u001b[0m\u001b[1;33m.\u001b[0m\u001b[0mutils\u001b[0m \u001b[1;32mimport\u001b[0m \u001b[0mcheck_random_state\u001b[0m\u001b[1;33m\u001b[0m\u001b[1;33m\u001b[0m\u001b[0m\n\u001b[0;32m      6\u001b[0m \u001b[1;32mfrom\u001b[0m \u001b[0msklearn\u001b[0m\u001b[1;33m.\u001b[0m\u001b[0mutils\u001b[0m\u001b[1;33m.\u001b[0m\u001b[0mvalidation\u001b[0m \u001b[1;32mimport\u001b[0m \u001b[0mcheck_is_fitted\u001b[0m\u001b[1;33m\u001b[0m\u001b[1;33m\u001b[0m\u001b[0m\n\u001b[1;32m----> 7\u001b[1;33m \u001b[1;32mimport\u001b[0m \u001b[0mtensorflow\u001b[0m\u001b[1;33m.\u001b[0m\u001b[0mcompat\u001b[0m\u001b[1;33m.\u001b[0m\u001b[0mv1\u001b[0m \u001b[1;32mas\u001b[0m \u001b[0mtf\u001b[0m\u001b[1;33m\u001b[0m\u001b[1;33m\u001b[0m\u001b[0m\n\u001b[0m\u001b[0;32m      8\u001b[0m \u001b[1;33m\u001b[0m\u001b[0m\n\u001b[0;32m      9\u001b[0m \u001b[1;32mfrom\u001b[0m \u001b[0maif360\u001b[0m\u001b[1;33m.\u001b[0m\u001b[0msklearn\u001b[0m\u001b[1;33m.\u001b[0m\u001b[0mutils\u001b[0m \u001b[1;32mimport\u001b[0m \u001b[0mcheck_inputs\u001b[0m\u001b[1;33m,\u001b[0m \u001b[0mcheck_groups\u001b[0m\u001b[1;33m\u001b[0m\u001b[1;33m\u001b[0m\u001b[0m\n",
      "\u001b[1;31mModuleNotFoundError\u001b[0m: No module named 'tensorflow'"
     ]
    }
   ],
   "source": [
    "from aif360.datasets import StandardDataset\n",
    "from aif360.metrics import BinaryLabelDatasetMetric, utils\n",
    "from aif360.datasets import BinaryLabelDataset\n",
    "from aif360.metrics import ClassificationMetric\n",
    "# Odds equalizing post-processing algorithm\n",
    "from aif360.algorithms.postprocessing.calibrated_eq_odds_postprocessing import CalibratedEqOddsPostprocessing\n",
    "from aif360.algorithms.postprocessing.eq_odds_postprocessing import EqOddsPostprocessing\n",
    "from aif360.algorithms.postprocessing.reject_option_classification import RejectOptionClassification"
   ]
  },
  {
   "cell_type": "code",
   "execution_count": 8,
   "metadata": {},
   "outputs": [],
   "source": [
    "default_mappings = {\n",
    "    #'label_maps': [{1.0: 'Did recid.', 0.0: 'No recid.'}],\n",
    "    'protected_attribute_maps': [{0.0: 'Male', 1.0: 'Female'},\n",
    "                                 {1.0: 'Caucasian', 0.0: 'Not Caucasian'}]\n",
    "}\n",
    "\n",
    "class Compas(StandardDataset):\n",
    "\n",
    "    def __init__(self, df,label_name='is_recid', favorable_classes=[0],\n",
    "                 protected_attribute_names=['sex', 'race'],\n",
    "                 privileged_classes=[['Female'], ['Caucasian']],\n",
    "                 instance_weights_name=None,\n",
    "                 categorical_features=['age_cat', 'c_charge_degree'],\n",
    "                 features_to_keep=['sex', 'age', 'age_cat', 'race',\n",
    "                     'juv_fel_count', 'juv_misd_count', 'juv_other_count',\n",
    "                     'priors_count', 'c_charge_degree'],\n",
    "                 features_to_drop=[], na_values=[],\n",
    "                 custom_preprocessing=[],\n",
    "                 metadata=default_mappings):\n",
    "        \"\"\"See :obj:`StandardDataset` for a description of the arguments.\n",
    "        Note: The label value 0 in this case is considered favorable (no\n",
    "        recidivism).\n",
    "        Examples:\n",
    "            In some cases, it may be useful to keep track of a mapping from\n",
    "            `float -> str` for protected attributes and/or labels. If our use\n",
    "            case differs from the default, we can modify the mapping stored in\n",
    "            `metadata`:\n",
    "            >>> label_map = {1.0: 'Did recid.', 0.0: 'No recid.'}\n",
    "            >>> protected_attribute_maps = [{1.0: 'Male', 0.0: 'Female'}]\n",
    "            >>> cd = CompasDataset(protected_attribute_names=['sex'],\n",
    "            ... privileged_classes=[['Male']], metadata={'label_map': label_map,\n",
    "            ... 'protected_attribute_maps': protected_attribute_maps})\n",
    "            Now this information will stay attached to the dataset and can be\n",
    "            used for more descriptive visualizations.\n",
    "        \"\"\"\n",
    "        super(Compas, self).__init__(df=df, label_name=label_name,\n",
    "            favorable_classes=favorable_classes,\n",
    "            protected_attribute_names=protected_attribute_names,\n",
    "            privileged_classes=privileged_classes,\n",
    "            instance_weights_name=instance_weights_name,\n",
    "            categorical_features=categorical_features,\n",
    "            features_to_keep=features_to_keep,\n",
    "            features_to_drop=features_to_drop, na_values=na_values,\n",
    "            custom_preprocessing=custom_preprocessing, metadata=metadata)\n",
    "\n",
    "def split_index(index):\n",
    "    length = len(index)\n",
    "    # define the ratios 8:2\n",
    "    train_len = int(length * 0.8)\n",
    "\n",
    "    # split the dataframe\n",
    "    #idx = [*range(length)]\n",
    "    shuffle(index)  # shuffle the index\n",
    "    I_train = index[:train_len]\n",
    "    I_test = index[train_len:length]\n",
    "\n",
    "    return [I_train,I_test]\n",
    "\n",
    "def aif_postprocess(Itrain,Itest,method):\n",
    "    Strain,Strain_pred=compas_pred(Itrain)\n",
    "    Stest,Stest_pred=compas_pred(Itest)\n",
    "    randseed = 12345679\n",
    "    if method=='RejectOption':\n",
    "        cpp=RejectOptionClassification(privileged_groups = privileged_groups,unprivileged_groups = unprivileged_groups)\n",
    "    elif method=='EqOddsPostprocessing':\n",
    "        cpp=EqOddsPostprocessing(privileged_groups = privileged_groups,unprivileged_groups = unprivileged_groups)\n",
    "    else:\n",
    "    #cost_constraint = \"fnr\" # \"fnr\", \"fpr\", \"weighted\"\n",
    "    #else:\n",
    "        cpp=CalibratedEqOddsPostprocessing(privileged_groups = privileged_groups,unprivileged_groups = unprivileged_groups,\n",
    "                                             cost_constraint=method)  #,seed=randseed\n",
    "    cpp = cpp.fit(Strain,Strain_pred)\n",
    "    return cpp.predict(Stest_pred).scores #labels #[Stest.labels,\n",
    "\n",
    "def compas_pred(index):\n",
    "    Sindex=Compas(df=dataframe.loc[index])\n",
    "    Sindex_pred=Sindex.copy(deepcopy=True)\n",
    "    Sindex_pred.scores=np.array([[1-i/10] for i in dataframe.loc[index,'decile_score'].tolist()])\n",
    "    #Sindex_pred.labels = np.where(Sindex_pred.scores >= thresh,Sindex_pred.favorable_label,Sindex_pred.unfavorable_label)\n",
    "    #y_pred = np.zeros_like(Sindex.labels)\n",
    "    #y_pred[dataframe.loc[index,'decile_score']>thresh]=Sindex.unfavorable_label\n",
    "    #Sindex_pred.labels=y_pred\n",
    "    return [Sindex,Sindex_pred]\n",
    "\n",
    "def preprocess(filepath,nrows,column_names):\n",
    "    dataframe = pd.read_csv(filepath, index_col='id',nrows=nrows)\n",
    "    dataframe=dataframe[(dataframe[\"race\"]=='African-American')|(dataframe[\"race\"]=='Caucasian')]\n",
    "    dataframe[(dataframe.days_b_screening_arrest <= 30)\n",
    "                & (dataframe.days_b_screening_arrest >= -30)\n",
    "                & (dataframe.is_recid != -1)\n",
    "                & (dataframe.c_charge_degree != 'O')\n",
    "                & (dataframe.score_text != 'N/A')]\n",
    "    dataframe=dataframe[column_names] #[features+labels]\n",
    "    dataframe=dataframe.dropna(axis=0, how='any',thresh=None,subset=None,inplace=False)\n",
    "    \n",
    "    dataframe['priors_total_count']=(dataframe['juv_fel_count']+dataframe['juv_misd_count']+dataframe['priors_count'])/3 #+dataframe['juv_other_count']\n",
    "    \n",
    "    # base rate: 1-P(is_recid=1|S=s)\n",
    "    base0=(1-dataframe[(dataframe[\"race\"]=='Caucasian') & (dataframe[\"is_recid\"]==1)].shape[0]/dataframe[dataframe[\"race\"]=='Caucasian'].shape[0])*100\n",
    "    base1=(1-dataframe[(dataframe[\"race\"]!='Caucasian') & (dataframe[\"is_recid\"]==1)].shape[0]/ dataframe[dataframe[\"race\"]!='Caucasian'].shape[0])*100\n",
    "    return dataframe,[base0,base1]\n",
    "\n",
    "def training_process(Itrain,method): #Itrain,Itest,method\n",
    "    Dtrain=dataframe.loc[Itrain]\n",
    "    I0_train=Dtrain[Dtrain['race']=='Caucasian'].index\n",
    "    I1_train=Dtrain[Dtrain['race']!='Caucasian'].index\n",
    "    level = 1\n",
    "    \n",
    "    if method=='subgroup-fair':\n",
    "        # Decision Variables\n",
    "        a = generate_operators(\"a\", n_vars=2, hermitian=True, commutative=False) # age < 25\n",
    "        c = generate_operators(\"c\", n_vars=2, hermitian=True, commutative=False) # total number of previous convictions\n",
    "        d = generate_operators(\"d\", n_vars=2, hermitian=True, commutative=False)\n",
    "        e = generate_operators(\"e\", n_vars=2, hermitian=True, commutative=False)\n",
    "        z = generate_operators(\"z\", n_vars=3, hermitian=True, commutative=True)\n",
    "\n",
    "        # Constraints\n",
    "        ine1 = [z[0]+Dtrain.loc[i,\"is_recid\"] - a[0]*int(Dtrain.loc[i,'age']<25) - c[0]*Dtrain.loc[i,'priors_total_count'] - d[0]*Dtrain.loc[i,'decile_score'] + e[0] for i in I0_train]\n",
    "        ine2 = [z[0]-Dtrain.loc[i,\"is_recid\"] + a[0]*int(Dtrain.loc[i,'age']<25) + c[0]*Dtrain.loc[i,'priors_total_count'] + d[0]*Dtrain.loc[i,'decile_score'] + e[0] for i in I0_train]\n",
    "        ine3 = [z[0]+Dtrain.loc[i,\"is_recid\"] - a[1]*int(Dtrain.loc[i,'age']<25) - c[1]*Dtrain.loc[i,'priors_total_count'] - d[1]*Dtrain.loc[i,'decile_score'] + e[1] for i in I1_train]\n",
    "        ine4 = [z[0]-Dtrain.loc[i,\"is_recid\"] + a[1]*int(Dtrain.loc[i,'age']<25) + c[1]*Dtrain.loc[i,'priors_total_count'] + d[1]*Dtrain.loc[i,'decile_score'] + e[1] for i in I1_train]\n",
    "        max1 =[z[1]-sum((Dtrain.loc[i,\"is_recid\"]-a[0]*int(Dtrain.loc[i,'age']<25) - c[0]*Dtrain.loc[i,'priors_total_count'] - d[0]*Dtrain.loc[i,'decile_score'] + e[0])**2 for i in I0_train)/len(I0_train)]\n",
    "        max2 =[z[2]-sum((Dtrain.loc[i,\"is_recid\"]-a[1]*int(Dtrain.loc[i,'age']<25) - c[1]*Dtrain.loc[i,'priors_total_count'] - d[1]*Dtrain.loc[i,'decile_score'] + e[1])**2 for i in I1_train)/len(I1_train)]\n",
    "        \n",
    "        obj_D = z[0] + z[1] + z[2] + 0.5*(z[2]-z[1])\n",
    " \n",
    "    elif method=='instant-fair':\n",
    "\n",
    "        # Decision Variables\n",
    "        a = generate_operators(\"a\", n_vars=2, hermitian=True, commutative=False) # age < 25\n",
    "        c = generate_operators(\"c\", n_vars=2, hermitian=True, commutative=False) # total number of previous convictions\n",
    "        d = generate_operators(\"d\", n_vars=2, hermitian=True, commutative=False)\n",
    "        e = generate_operators(\"e\", n_vars=2, hermitian=True, commutative=False)\n",
    "        z = generate_operators(\"z\", n_vars=2, hermitian=True, commutative=True)\n",
    "\n",
    "        # Constraints\n",
    "        ine1 = [(z[0]+Dtrain.loc[i,\"is_recid\"] - a[0]*int(Dtrain.loc[i,'age']<25) - c[0]*Dtrain.loc[i,'priors_total_count'] - d[0]*Dtrain.loc[i,'decile_score'] + e[0])/len(I0_train) for i in I0_train]\n",
    "        ine2 = [(z[0]-Dtrain.loc[i,\"is_recid\"] + a[0]*int(Dtrain.loc[i,'age']<25) + c[0]*Dtrain.loc[i,'priors_total_count'] + d[0]*Dtrain.loc[i,'decile_score'] + e[0])/len(I0_train) for i in I0_train]\n",
    "        ine3 = [(z[0]+Dtrain.loc[i,\"is_recid\"] - a[1]*int(Dtrain.loc[i,'age']<25) - c[1]*Dtrain.loc[i,'priors_total_count'] - d[1]*Dtrain.loc[i,'decile_score'] + e[1])/len(I1_train) for i in I1_train]\n",
    "        ine4 = [(z[0]-Dtrain.loc[i,\"is_recid\"] + a[1]*int(Dtrain.loc[i,'age']<25) + c[1]*Dtrain.loc[i,'priors_total_count'] + d[1]*Dtrain.loc[i,'decile_score'] + e[1])/len(I1_train) for i in I1_train]\n",
    "        max1 = [(z[1]+(Dtrain.loc[i,\"is_recid\"]-a[0]*int(Dtrain.loc[i,'age']<25) - c[0]*Dtrain.loc[i,'priors_total_count'] - d[0]*Dtrain.loc[i,'decile_score'] + e[0]))/len(I0_train) for i in I0_train]\n",
    "        max2 = [(z[1]-(Dtrain.loc[i,\"is_recid\"]-a[1]*int(Dtrain.loc[i,'age']<25) - c[1]*Dtrain.loc[i,'priors_total_count'] - d[1]*Dtrain.loc[i,'decile_score'] + e[1]))/len(I1_train) for i in I1_train]\n",
    "       \n",
    "        obj_D = z[0] + z[1]\n",
    "    \n",
    "    ine_D=ine1+ine2+ine3+ine4+max1+max2\n",
    "    sdp_D = SdpRelaxation(variables = flatten([a,c,d,e,z]), verbose = 2)\n",
    "    sdp_D.get_relaxation(level, objective=obj_D, inequalities=ine_D)\n",
    "    sdp_D.solve(solver='sdpa', solverparameters={\"executable\":\"sdpa_gmp\",\"executable\": \"C:\\\\Users\\\\zhouq\\\\Documents\\\\sdpa7-windows\\\\sdpa.exe\"})\n",
    "    print(sdp_D.primal, sdp_D.dual, sdp_D.status)\n",
    "        \n",
    "    return [sdp_D[a[0]],sdp_D[a[1]],sdp_D[c[0]],sdp_D[c[1]],sdp_D[d[0]],sdp_D[d[1]],sdp_D[e[0]],sdp_D[e[1]]]\n",
    "\n",
    "def normalize_score1(arr):\n",
    "    # Min-Max normalized scores after deleting outliers.\n",
    "     #Outliers are set to 0 (if too small) or 1 (if too large) directly.\n",
    "    outlierPosition=detect_outliers(arr,3)\n",
    "    arr_clean = np.delete(arr,outlierPosition)\n",
    "    #arr_clean=arr\n",
    "    arr_min=np.min(arr_clean)\n",
    "    arr_max=np.max(arr_clean)\n",
    "\n",
    "    normalized_arr = np.array([round(float(x - arr_min)/(arr_max - arr_min),1) for x in arr])\n",
    "    #arr_nor = [int(10*float(x - np.mean(arr)/np.std(arr)) ) for x in arr]\n",
    "    normalized_arr[normalized_arr>10]=1\n",
    "    normalized_arr[normalized_arr<0]=0\n",
    "    return normalized_arr\n",
    "\n",
    "def detect_outliers(data,threshold):\n",
    "    # return the location of outliers.\n",
    "    mean_d = np.mean(data)\n",
    "    std_d = np.std(data)\n",
    "    outliers = []\n",
    "    for i in range(len(data)):\n",
    "        z_score= (data[i] - mean_d)/std_d \n",
    "        if np.abs(z_score) > threshold:\n",
    "            outliers.append(i)\n",
    "    return outliers\n",
    "    \n",
    "def new_postprocess(Itrain,Itest,method):\n",
    "    a0,a1,c0,c1,d0,d1,e0,e1=training_process(Itrain,method)  \n",
    "    arr=[]\n",
    "    for i in Itest:\n",
    "        if dataframe.loc[i,'race']=='Caucasian':\n",
    "            arr+=[a0*int(dataframe.loc[i,'age']<25) + c0*dataframe.loc[i,'priors_total_count'] + d0*dataframe.loc[i,'decile_score'] + e0]\n",
    "        elif dataframe.loc[i,'race']!='Caucasian':\n",
    "            arr+=[a1*int(dataframe.loc[i,'age']<25) + c1*dataframe.loc[i,'priors_total_count'] + d1*dataframe.loc[i,'decile_score'] + e1]\n",
    "    \n",
    "    normalized_arr=normalize_score1(np.array(arr))\n",
    "    return normalized_arr \n",
    "\n",
    "def perf_measure(y_actual, y_hat):\n",
    "# Output: Positive rate, False positive rate; False negative rate; True positive rate\n",
    "# Positive event is being predicted not to re-offend  0\n",
    "# Negative event is being predicted to re-offend  1\n",
    "    TP = 0\n",
    "    TN = 0\n",
    "    FP = 0 # False Positive\n",
    "    FN = 0 # False Negative\n",
    "    \n",
    "    for i in range(len(y_hat)): \n",
    "        if y_actual[i]==y_hat[i]==0:\n",
    "            TP += 1\n",
    "        if y_hat[i]==0 and y_actual[i]!=y_hat[i]:\n",
    "            FP += 1\n",
    "        if y_actual[i]==y_hat[i]==1:\n",
    "            TN += 1\n",
    "        if y_hat[i]==1 and y_actual[i]!=y_hat[i]:\n",
    "            FN += 1\n",
    "    \n",
    "    #PR =(TP+FP)/len(y_hat) # Positive rate\n",
    "    NR =(TN+FN)/len(y_hat) # Negative rate\n",
    "    FPR=FP/(FP+TN+10**(-6)) # False positive rate # + 0.001 to avoid being divided by zero # 干了坏事没被发现\n",
    "    #TPR=TP/(TP+FN+10**(-6)) # True positive rate # recall/sensitivity # 没干坏事没被冤枉\n",
    "    FNR=FN/(FN+TP+10**(-6)) # False Omission Rate # 没干坏事却被冤枉\n",
    "    PPV=TP/(TP+FP+10**(-6)) # positive predictive value (PPV) precision #  成功预测出好人\n",
    "    NPV=TN/(TN+FN+10**(-6)) # negative predictive value (NPV) # 成功预测出坏人\n",
    "    inACC=FP+FN # False prediction number\n",
    "    \n",
    "    return [NR,FPR,FNR,PPV,NPV,inACC]\n",
    "\n",
    "def fair_metric(Dtest,I0_test,I1_test,score_name,thresh,base_rate):\n",
    "    # base_rate override thresh\n",
    "    if len(base_rate)!=0:\n",
    "        th0=np.percentile(Dtest[score_name],[base_rate[0]])[0]\n",
    "        th1=np.percentile(Dtest[score_name],[base_rate[1]])[0]\n",
    "    else:\n",
    "        th0=np.percentile(Dtest[score_name],[thresh])[0]\n",
    "        th1=th0\n",
    "  \n",
    "    #print('is I0_test = I1_test: ',len(I0_test)==len(I1_test))\n",
    "    y_actual_I0=Dtest.loc[I0_test,\"is_recid\"].tolist()\n",
    "    y_hat_I0=(Dtest.loc[I0_test,score_name]>=th0).astype(int).tolist()\n",
    "    #y_compas_I0=(compas_test.loc[I0_test,'compas_decile_score']>=th).astype(int).tolist()\n",
    "\n",
    "    y_actual_I1=Dtest.loc[I1_test,\"is_recid\"].tolist()\n",
    "    y_hat_I1=(Dtest.loc[I1_test,score_name]>=th1).astype(int).tolist()\n",
    "    #y_compas_I1=(compas_test.loc[I1_test,'compas_decile_score']>=th).astype(int).tolist()\n",
    "    \n",
    "    perf_I0=perf_measure(y_actual_I0, y_hat_I0)\n",
    "    perf_I1=perf_measure(y_actual_I1, y_hat_I1)\n",
    "\n",
    "    IND=abs(perf_I0[0]-perf_I1[0])\n",
    "    SP =abs(perf_I0[1]-perf_I1[1]+abs(perf_I1[2]-perf_I0[2]))  # abs(perf_I0[1]-perf_I1[1])+\n",
    "    #print((perf_I0[2]-perf_I1[2]))\n",
    "    SF =abs(perf_I0[3]-perf_I1[3]+abs(perf_I0[4]-perf_I1[4])) #abs(perf_I0[3]-perf_I1[3])+\n",
    "    #print((perf_I0[4]-perf_I1[4]))\n",
    "    INA=(perf_I0[5]+perf_I1[5])/(len(I0_test)+len(I1_test)) #Dtest.shape[0] # perdiction performance -- inaccuracy\n",
    "    return [IND,SP,SF,INA]"
   ]
  },
  {
   "cell_type": "code",
   "execution_count": 9,
   "metadata": {},
   "outputs": [],
   "source": [
    "trials=50\n",
    "\n",
    "filepath = 'compas-scores-two-years.csv'\n",
    "nrows=1200\n",
    "\n",
    "features=['sex', 'age', 'age_cat', 'race', 'juv_fel_count', 'juv_misd_count', 'juv_other_count','priors_count', 'c_charge_degree']\n",
    "labels=[\"is_recid\",'decile_score']\n",
    "\n",
    "methods=['COMPAS',\"weighted\",\"subgroup-fair\",\"instant-fair\"] #\"fnr\", \"fpr\", \"weighted\"\n",
    "performace=['IND','SP','SF','INA','INDrw','SPrw','SFrw','INArw']\n",
    "unprivileged_groups = [{'race': 1}]  \n",
    "privileged_groups = [{'race': 0}]\n",
    "\n",
    "dataframe,base_rate=preprocess(filepath,nrows,features+labels)\n"
   ]
  },
  {
   "cell_type": "code",
   "execution_count": 15,
   "metadata": {},
   "outputs": [
    {
     "data": {
      "text/plain": [
       "403"
      ]
     },
     "execution_count": 15,
     "metadata": {},
     "output_type": "execute_result"
    }
   ],
   "source": [
    "sum(dataframe.race=='Caucasian')"
   ]
  },
  {
   "cell_type": "code",
   "execution_count": 17,
   "metadata": {},
   "outputs": [
    {
     "data": {
      "text/plain": [
       "602"
      ]
     },
     "execution_count": 17,
     "metadata": {},
     "output_type": "execute_result"
    }
   ],
   "source": [
    "1005-403"
   ]
  },
  {
   "cell_type": "code",
   "execution_count": 16,
   "metadata": {
    "scrolled": true
   },
   "outputs": [
    {
     "name": "stderr",
     "output_type": "stream",
     "text": [
      "\r",
      "  0%|                                                                                           | 0/50 [00:00<?, ?it/s]"
     ]
    },
    {
     "name": "stdout",
     "output_type": "stream",
     "text": [
      "The problem has 3 commuting, 8 noncommuting Hermitian variables\n",
      "Calculating block structure...\n",
      "Estimated number of SDP variables: 77\n",
      "Generating moment matrix...\n",
      "Reduced number of SDP variables: 77 77 (done: 101.30%, ETA 00:00:-0.0)\n",
      "\u001b[KProcessing 1610/1610 constraints...\n",
      "1.2870278705437548 1.2870273929452094 unknown\n",
      "The problem has 2 commuting, 8 noncommuting Hermitian variables\n",
      "Calculating block structure...\n",
      "Estimated number of SDP variables: 65\n",
      "Generating moment matrix...\n",
      "Reduced number of SDP variables: 65 65 (done: 101.54%, ETA 00:00:-0.0)\n",
      "\u001b[KProcessing 2412/2412 constraints...\n"
     ]
    },
    {
     "name": "stderr",
     "output_type": "stream",
     "text": [
      "\r",
      "  2%|█▋                                                                                 | 1/50 [00:18<15:17, 18.73s/it]"
     ]
    },
    {
     "name": "stdout",
     "output_type": "stream",
     "text": [
      "1.8181818475020464 1.8181738528662985 unknown\n",
      "The problem has 3 commuting, 8 noncommuting Hermitian variables\n",
      "Calculating block structure...\n",
      "Estimated number of SDP variables: 77\n",
      "Generating moment matrix...\n",
      "Reduced number of SDP variables: 77 77 (done: 101.30%, ETA 00:00:-0.0)\n",
      "\u001b[KProcessing 1610/1610 constraints...\n",
      "1.2705181024766068 1.270517746839781 unknown\n",
      "The problem has 2 commuting, 8 noncommuting Hermitian variables\n",
      "Calculating block structure...\n",
      "Estimated number of SDP variables: 65\n",
      "Generating moment matrix...\n",
      "Reduced number of SDP variables: 65 65 (done: 101.54%, ETA 00:00:-0.0)\n",
      "\u001b[KProcessing 2412/2412 constraints...\n"
     ]
    },
    {
     "name": "stderr",
     "output_type": "stream",
     "text": [
      "\r",
      "  4%|███▎                                                                               | 2/50 [00:38<15:11, 19.00s/it]"
     ]
    },
    {
     "name": "stdout",
     "output_type": "stream",
     "text": [
      "1.818181835701921 1.8181792819672473 unknown\n",
      "The problem has 3 commuting, 8 noncommuting Hermitian variables\n",
      "Calculating block structure...\n",
      "Estimated number of SDP variables: 77\n",
      "Generating moment matrix...\n",
      "Reduced number of SDP variables: 77 77 (done: 101.30%, ETA 00:00:-0.0)\n",
      "\u001b[KProcessing 1610/1610 constraints...\n",
      "1.2462113645498176 1.246210863733782 unknown\n",
      "The problem has 2 commuting, 8 noncommuting Hermitian variables\n",
      "Calculating block structure...\n",
      "Estimated number of SDP variables: 65\n",
      "Generating moment matrix...\n",
      "Reduced number of SDP variables: 65 65 (done: 101.54%, ETA 00:00:-0.0)\n",
      "\u001b[KProcessing 2412/2412 constraints...\n"
     ]
    },
    {
     "name": "stderr",
     "output_type": "stream",
     "text": [
      "\r",
      "  6%|████▉                                                                              | 3/50 [00:57<14:56, 19.07s/it]"
     ]
    },
    {
     "name": "stdout",
     "output_type": "stream",
     "text": [
      "1.8181819048213583 1.8181691720213335 unknown\n",
      "The problem has 3 commuting, 8 noncommuting Hermitian variables\n",
      "Calculating block structure...\n",
      "Estimated number of SDP variables: 77\n",
      "Generating moment matrix...\n",
      "Reduced number of SDP variables: 77 77 (done: 101.30%, ETA 00:00:-0.0)\n",
      "\u001b[KProcessing 1610/1610 constraints...\n",
      "1.2579733924010121 1.2579730307484867 unknown\n",
      "The problem has 2 commuting, 8 noncommuting Hermitian variables\n",
      "Calculating block structure...\n",
      "Estimated number of SDP variables: 65\n",
      "Generating moment matrix...\n",
      "Reduced number of SDP variables: 65 65 (done: 101.54%, ETA 00:00:-0.0)\n",
      "\u001b[KProcessing 2412/2412 constraints...\n"
     ]
    },
    {
     "name": "stderr",
     "output_type": "stream",
     "text": [
      "\r",
      "  8%|██████▋                                                                            | 4/50 [01:17<14:44, 19.23s/it]"
     ]
    },
    {
     "name": "stdout",
     "output_type": "stream",
     "text": [
      "1.8181818225197048 1.818180749180896 unknown\n",
      "The problem has 3 commuting, 8 noncommuting Hermitian variables\n",
      "Calculating block structure...\n",
      "Estimated number of SDP variables: 77\n",
      "Generating moment matrix...\n",
      "Reduced number of SDP variables: 77 77 (done: 101.30%, ETA 00:00:-0.0)\n",
      "\u001b[KProcessing 1610/1610 constraints...\n",
      "1.249395661187397 1.2493948808632052 unknown\n",
      "The problem has 2 commuting, 8 noncommuting Hermitian variables\n",
      "Calculating block structure...\n",
      "Estimated number of SDP variables: 65\n",
      "Generating moment matrix...\n",
      "Reduced number of SDP variables: 65 65 (done: 101.54%, ETA 00:00:-0.0)\n",
      "\u001b[KProcessing 2412/2412 constraints...\n"
     ]
    },
    {
     "name": "stderr",
     "output_type": "stream",
     "text": [
      "\r",
      " 10%|████████▎                                                                          | 5/50 [01:36<14:20, 19.13s/it]"
     ]
    },
    {
     "name": "stdout",
     "output_type": "stream",
     "text": [
      "1.8181819003066835 1.8181504883157893 unknown\n",
      "The problem has 3 commuting, 8 noncommuting Hermitian variables\n",
      "Calculating block structure...\n",
      "Estimated number of SDP variables: 77\n",
      "Generating moment matrix...\n",
      "Reduced number of SDP variables: 77 77 (done: 101.30%, ETA 00:00:-0.0)\n",
      "\u001b[KProcessing 1610/1610 constraints...\n",
      "1.2722796733331856 1.2722795603507677 optimal\n",
      "The problem has 2 commuting, 8 noncommuting Hermitian variables\n",
      "Calculating block structure...\n",
      "Estimated number of SDP variables: 65\n",
      "Generating moment matrix...\n",
      "Reduced number of SDP variables: 65 65 (done: 101.54%, ETA 00:00:-0.0)\n",
      "\u001b[KProcessing 2412/2412 constraints...\n"
     ]
    },
    {
     "name": "stderr",
     "output_type": "stream",
     "text": [
      "\r",
      " 12%|█████████▉                                                                         | 6/50 [01:55<14:09, 19.31s/it]"
     ]
    },
    {
     "name": "stdout",
     "output_type": "stream",
     "text": [
      "1.8181818264968115 1.8181805184685707 unknown\n",
      "The problem has 3 commuting, 8 noncommuting Hermitian variables\n",
      "Calculating block structure...\n",
      "Estimated number of SDP variables: 77\n",
      "Generating moment matrix...\n",
      "Reduced number of SDP variables: 77 77 (done: 101.30%, ETA 00:00:-0.0)\n",
      "\u001b[KProcessing 1610/1610 constraints...\n",
      "1.2608021549640285 1.2608014715823064 unknown\n",
      "The problem has 2 commuting, 8 noncommuting Hermitian variables\n",
      "Calculating block structure...\n",
      "Estimated number of SDP variables: 65\n",
      "Generating moment matrix...\n",
      "Reduced number of SDP variables: 65 65 (done: 101.54%, ETA 00:00:-0.0)\n",
      "\u001b[KProcessing 2412/2412 constraints...\n"
     ]
    },
    {
     "name": "stderr",
     "output_type": "stream",
     "text": [
      "\r",
      " 14%|███████████▌                                                                       | 7/50 [02:14<13:47, 19.24s/it]"
     ]
    },
    {
     "name": "stdout",
     "output_type": "stream",
     "text": [
      "1.8181818632049271 1.8181738552260927 unknown\n",
      "The problem has 3 commuting, 8 noncommuting Hermitian variables\n",
      "Calculating block structure...\n",
      "Estimated number of SDP variables: 77\n",
      "Generating moment matrix...\n",
      "Reduced number of SDP variables: 77 77 (done: 101.30%, ETA 00:00:-0.0)\n",
      "\u001b[KProcessing 1610/1610 constraints...\n",
      "1.287993893600751 1.2879937834966355 optimal\n",
      "The problem has 2 commuting, 8 noncommuting Hermitian variables\n",
      "Calculating block structure...\n",
      "Estimated number of SDP variables: 65\n",
      "Generating moment matrix...\n",
      "Reduced number of SDP variables: 65 65 (done: 101.54%, ETA 00:00:-0.0)\n",
      "\u001b[KProcessing 2412/2412 constraints...\n"
     ]
    },
    {
     "name": "stderr",
     "output_type": "stream",
     "text": [
      "\r",
      " 16%|█████████████▎                                                                     | 8/50 [02:34<13:33, 19.38s/it]"
     ]
    },
    {
     "name": "stdout",
     "output_type": "stream",
     "text": [
      "1.8181818195831738 1.818181673229898 optimal\n",
      "The problem has 3 commuting, 8 noncommuting Hermitian variables\n",
      "Calculating block structure...\n",
      "Estimated number of SDP variables: 77\n",
      "Generating moment matrix...\n",
      "Reduced number of SDP variables: 77 77 (done: 101.30%, ETA 00:00:-0.0)\n",
      "\u001b[KProcessing 1610/1610 constraints...\n",
      "1.2569182246496005 1.2569175418453618 unknown\n",
      "The problem has 2 commuting, 8 noncommuting Hermitian variables\n",
      "Calculating block structure...\n",
      "Estimated number of SDP variables: 65\n",
      "Generating moment matrix...\n",
      "Reduced number of SDP variables: 65 65 (done: 101.54%, ETA 00:00:-0.0)\n",
      "\u001b[KProcessing 2412/2412 constraints...\n"
     ]
    },
    {
     "name": "stderr",
     "output_type": "stream",
     "text": [
      "\r",
      " 18%|██████████████▉                                                                    | 9/50 [02:53<13:12, 19.32s/it]"
     ]
    },
    {
     "name": "stdout",
     "output_type": "stream",
     "text": [
      "1.8181818200712883 1.8181814724438694 unknown\n",
      "The problem has 3 commuting, 8 noncommuting Hermitian variables\n",
      "Calculating block structure...\n",
      "Estimated number of SDP variables: 77\n",
      "Generating moment matrix...\n",
      "Reduced number of SDP variables: 77 77 (done: 101.30%, ETA 00:00:-0.0)\n",
      "\u001b[KProcessing 1610/1610 constraints...\n",
      "1.2800378791897902 1.2800378611993597 optimal\n",
      "The problem has 2 commuting, 8 noncommuting Hermitian variables\n",
      "Calculating block structure...\n",
      "Estimated number of SDP variables: 65\n",
      "Generating moment matrix...\n",
      "Reduced number of SDP variables: 65 65 (done: 101.54%, ETA 00:00:-0.0)\n",
      "\u001b[KProcessing 2412/2412 constraints...\n"
     ]
    },
    {
     "name": "stderr",
     "output_type": "stream",
     "text": [
      "\r",
      " 20%|████████████████▍                                                                 | 10/50 [03:13<12:55, 19.40s/it]"
     ]
    },
    {
     "name": "stdout",
     "output_type": "stream",
     "text": [
      "1.8181818237254674 1.8181811028641623 unknown\n",
      "The problem has 3 commuting, 8 noncommuting Hermitian variables\n",
      "Calculating block structure...\n",
      "Estimated number of SDP variables: 77\n",
      "Generating moment matrix...\n",
      "Reduced number of SDP variables: 77 77 (done: 101.30%, ETA 00:00:-0.0)\n",
      "\u001b[KProcessing 1610/1610 constraints...\n",
      "1.265467178366175 1.2654666350171346 unknown\n",
      "The problem has 2 commuting, 8 noncommuting Hermitian variables\n",
      "Calculating block structure...\n",
      "Estimated number of SDP variables: 65\n",
      "Generating moment matrix...\n",
      "Reduced number of SDP variables: 65 65 (done: 101.54%, ETA 00:00:-0.0)\n",
      "\u001b[KProcessing 2412/2412 constraints...\n"
     ]
    },
    {
     "name": "stderr",
     "output_type": "stream",
     "text": [
      "\r",
      " 22%|██████████████████                                                                | 11/50 [03:32<12:37, 19.43s/it]"
     ]
    },
    {
     "name": "stdout",
     "output_type": "stream",
     "text": [
      "1.818181819452093 1.8181816006527587 unknown\n",
      "The problem has 3 commuting, 8 noncommuting Hermitian variables\n",
      "Calculating block structure...\n",
      "Estimated number of SDP variables: 77\n",
      "Generating moment matrix...\n",
      "Reduced number of SDP variables: 77 77 (done: 101.30%, ETA 00:00:-0.0)\n",
      "\u001b[KProcessing 1610/1610 constraints...\n",
      "1.2600202504913736 1.2600200341435959 unknown\n",
      "The problem has 2 commuting, 8 noncommuting Hermitian variables\n",
      "Calculating block structure...\n",
      "Estimated number of SDP variables: 65\n",
      "Generating moment matrix...\n",
      "Reduced number of SDP variables: 65 65 (done: 101.54%, ETA 00:00:-0.0)\n",
      "\u001b[KProcessing 2412/2412 constraints...\n"
     ]
    },
    {
     "name": "stderr",
     "output_type": "stream",
     "text": [
      "\r",
      " 24%|███████████████████▋                                                              | 12/50 [03:52<12:25, 19.62s/it]"
     ]
    },
    {
     "name": "stdout",
     "output_type": "stream",
     "text": [
      "1.8181818222537345 1.8181808646047628 unknown\n",
      "The problem has 3 commuting, 8 noncommuting Hermitian variables\n",
      "Calculating block structure...\n",
      "Estimated number of SDP variables: 77\n",
      "Generating moment matrix...\n",
      "Reduced number of SDP variables: 77 77 (done: 101.30%, ETA 00:00:-0.0)\n",
      "\u001b[KProcessing 1610/1610 constraints...\n",
      "1.2694436822096318 1.2694428193068688 unknown\n",
      "The problem has 2 commuting, 8 noncommuting Hermitian variables\n",
      "Calculating block structure...\n",
      "Estimated number of SDP variables: 65\n",
      "Generating moment matrix...\n",
      "Reduced number of SDP variables: 65 65 (done: 101.54%, ETA 00:00:-0.0)\n",
      "\u001b[KProcessing 2412/2412 constraints...\n"
     ]
    },
    {
     "name": "stderr",
     "output_type": "stream",
     "text": [
      "\r",
      " 26%|█████████████████████▎                                                            | 13/50 [04:14<12:32, 20.34s/it]"
     ]
    },
    {
     "name": "stdout",
     "output_type": "stream",
     "text": [
      "1.818181821822236 1.8181813967114475 unknown\n",
      "The problem has 3 commuting, 8 noncommuting Hermitian variables\n",
      "Calculating block structure...\n",
      "Estimated number of SDP variables: 77\n",
      "Generating moment matrix...\n",
      "Reduced number of SDP variables: 77 77 (done: 101.30%, ETA 00:00:-0.0)\n",
      "\u001b[KProcessing 1610/1610 constraints...\n",
      "1.2600256458819779 1.2600251971346872 unknown\n",
      "The problem has 2 commuting, 8 noncommuting Hermitian variables\n",
      "Calculating block structure...\n",
      "Estimated number of SDP variables: 65\n",
      "Generating moment matrix...\n",
      "Reduced number of SDP variables: 65 65 (done: 101.54%, ETA 00:00:-0.0)\n",
      "\u001b[KProcessing 2412/2412 constraints...\n"
     ]
    },
    {
     "name": "stderr",
     "output_type": "stream",
     "text": [
      "\r",
      " 28%|██████████████████████▉                                                           | 14/50 [04:34<12:08, 20.25s/it]"
     ]
    },
    {
     "name": "stdout",
     "output_type": "stream",
     "text": [
      "1.8181818218739068 1.8181803637106175 unknown\n",
      "The problem has 3 commuting, 8 noncommuting Hermitian variables\n",
      "Calculating block structure...\n",
      "Estimated number of SDP variables: 77\n",
      "Generating moment matrix...\n",
      "Reduced number of SDP variables: 77 77 (done: 101.30%, ETA 00:00:-0.0)\n",
      "\u001b[KProcessing 1610/1610 constraints...\n",
      "1.2545111861055733 1.254510342115307 unknown\n",
      "The problem has 2 commuting, 8 noncommuting Hermitian variables\n",
      "Calculating block structure...\n",
      "Estimated number of SDP variables: 65\n",
      "Generating moment matrix...\n",
      "Reduced number of SDP variables: 65 65 (done: 101.54%, ETA 00:00:-0.0)\n",
      "\u001b[KProcessing 2412/2412 constraints...\n"
     ]
    },
    {
     "name": "stderr",
     "output_type": "stream",
     "text": [
      "\r",
      " 30%|████████████████████████▌                                                         | 15/50 [05:02<13:00, 22.29s/it]"
     ]
    },
    {
     "name": "stdout",
     "output_type": "stream",
     "text": [
      "1.8181818276411832 1.8181791657012614 unknown\n",
      "The problem has 3 commuting, 8 noncommuting Hermitian variables\n",
      "Calculating block structure...\n",
      "Estimated number of SDP variables: 77\n",
      "Generating moment matrix...\n",
      "Reduced number of SDP variables: 77 77 (done: 101.30%, ETA 00:00:-0.0)\n",
      "\u001b[KProcessing 1610/1610 constraints...\n",
      "1.2606691838804691 1.2606689621532026 unknown\n",
      "The problem has 2 commuting, 8 noncommuting Hermitian variables\n",
      "Calculating block structure...\n",
      "Estimated number of SDP variables: 65\n",
      "Generating moment matrix...\n",
      "Reduced number of SDP variables: 65 65 (done: 101.54%, ETA 00:00:-0.0)\n",
      "\u001b[KProcessing 2412/2412 constraints...\n"
     ]
    },
    {
     "name": "stderr",
     "output_type": "stream",
     "text": [
      "\r",
      " 32%|██████████████████████████▏                                                       | 16/50 [05:24<12:37, 22.27s/it]"
     ]
    },
    {
     "name": "stdout",
     "output_type": "stream",
     "text": [
      "1.8181818203154307 1.8181813032670424 unknown\n",
      "The problem has 3 commuting, 8 noncommuting Hermitian variables\n",
      "Calculating block structure...\n",
      "Estimated number of SDP variables: 77\n",
      "Generating moment matrix...\n",
      "Reduced number of SDP variables: 77 77 (done: 101.30%, ETA 00:00:-0.0)\n",
      "\u001b[KProcessing 1610/1610 constraints...\n",
      "1.2670340788702348 1.2670338448014817 unknown\n",
      "The problem has 2 commuting, 8 noncommuting Hermitian variables\n",
      "Calculating block structure...\n",
      "Estimated number of SDP variables: 65\n",
      "Generating moment matrix...\n",
      "Reduced number of SDP variables: 65 65 (done: 101.54%, ETA 00:00:-0.0)\n",
      "\u001b[KProcessing 2412/2412 constraints...\n"
     ]
    },
    {
     "name": "stderr",
     "output_type": "stream",
     "text": [
      "\r",
      " 34%|███████████████████████████▉                                                      | 17/50 [05:45<12:01, 21.87s/it]"
     ]
    },
    {
     "name": "stdout",
     "output_type": "stream",
     "text": [
      "1.8181818208516347 1.8181814586061988 unknown\n",
      "The problem has 3 commuting, 8 noncommuting Hermitian variables\n",
      "Calculating block structure...\n",
      "Estimated number of SDP variables: 77\n",
      "Generating moment matrix...\n",
      "Reduced number of SDP variables: 77 77 (done: 101.30%, ETA 00:00:-0.0)\n",
      "\u001b[KProcessing 1610/1610 constraints...\n",
      "1.2681796407357702 1.268179640735771 optimal\n",
      "The problem has 2 commuting, 8 noncommuting Hermitian variables\n",
      "Calculating block structure...\n",
      "Estimated number of SDP variables: 65\n",
      "Generating moment matrix...\n",
      "Reduced number of SDP variables: 65 65 (done: 101.54%, ETA 00:00:-0.0)\n",
      "\u001b[KProcessing 2412/2412 constraints...\n"
     ]
    },
    {
     "name": "stderr",
     "output_type": "stream",
     "text": [
      "\r",
      " 36%|█████████████████████████████▌                                                    | 18/50 [06:03<11:03, 20.75s/it]"
     ]
    },
    {
     "name": "stdout",
     "output_type": "stream",
     "text": [
      "1.818181822341785 1.8181807934230965 unknown\n",
      "The problem has 3 commuting, 8 noncommuting Hermitian variables\n",
      "Calculating block structure...\n",
      "Estimated number of SDP variables: 77\n",
      "Generating moment matrix...\n",
      "Reduced number of SDP variables: 77 77 (done: 101.30%, ETA 00:00:-0.0)\n",
      "\u001b[KProcessing 1610/1610 constraints...\n",
      "1.243715677245771 1.2437151359384058 unknown\n",
      "The problem has 2 commuting, 8 noncommuting Hermitian variables\n",
      "Calculating block structure...\n",
      "Estimated number of SDP variables: 65\n",
      "Generating moment matrix...\n",
      "Reduced number of SDP variables: 65 65 (done: 101.54%, ETA 00:00:-0.0)\n",
      "\u001b[KProcessing 2412/2412 constraints...\n"
     ]
    },
    {
     "name": "stderr",
     "output_type": "stream",
     "text": [
      "\r",
      " 38%|███████████████████████████████▏                                                  | 19/50 [06:21<10:17, 19.93s/it]"
     ]
    },
    {
     "name": "stdout",
     "output_type": "stream",
     "text": [
      "1.8181818343922487 1.8181790588466076 unknown\n",
      "The problem has 3 commuting, 8 noncommuting Hermitian variables\n",
      "Calculating block structure...\n",
      "Estimated number of SDP variables: 77\n",
      "Generating moment matrix...\n",
      "Reduced number of SDP variables: 77 77 (done: 101.30%, ETA 00:00:-0.0)\n",
      "\u001b[KProcessing 1610/1610 constraints...\n",
      "1.2727135976939863 1.272713389004958 unknown\n",
      "The problem has 2 commuting, 8 noncommuting Hermitian variables\n",
      "Calculating block structure...\n",
      "Estimated number of SDP variables: 65\n",
      "Generating moment matrix...\n",
      "Reduced number of SDP variables: 65 65 (done: 101.54%, ETA 00:00:-0.0)\n",
      "\u001b[KProcessing 2412/2412 constraints...\n"
     ]
    },
    {
     "name": "stderr",
     "output_type": "stream",
     "text": [
      "\r",
      " 40%|████████████████████████████████▊                                                 | 20/50 [06:39<09:42, 19.43s/it]"
     ]
    },
    {
     "name": "stdout",
     "output_type": "stream",
     "text": [
      "1.8181818191359298 1.8181815129934105 unknown\n",
      "The problem has 3 commuting, 8 noncommuting Hermitian variables\n",
      "Calculating block structure...\n",
      "Estimated number of SDP variables: 77\n",
      "Generating moment matrix...\n",
      "Reduced number of SDP variables: 77 77 (done: 101.30%, ETA 00:00:-0.0)\n",
      "\u001b[KProcessing 1610/1610 constraints...\n",
      "1.2719143411569864 1.2719140979117451 unknown\n",
      "The problem has 2 commuting, 8 noncommuting Hermitian variables\n",
      "Calculating block structure...\n",
      "Estimated number of SDP variables: 65\n",
      "Generating moment matrix...\n",
      "Reduced number of SDP variables: 65 65 (done: 101.54%, ETA 00:00:-0.0)\n",
      "\u001b[KProcessing 2412/2412 constraints...\n"
     ]
    },
    {
     "name": "stderr",
     "output_type": "stream",
     "text": [
      "\r",
      " 42%|██████████████████████████████████▍                                               | 21/50 [06:57<09:13, 19.10s/it]"
     ]
    },
    {
     "name": "stdout",
     "output_type": "stream",
     "text": [
      "1.8181818206491016 1.8181814221420436 unknown\n",
      "The problem has 3 commuting, 8 noncommuting Hermitian variables\n",
      "Calculating block structure...\n",
      "Estimated number of SDP variables: 77\n",
      "Generating moment matrix...\n",
      "Reduced number of SDP variables: 77 77 (done: 101.30%, ETA 00:00:-0.0)\n",
      "\u001b[KProcessing 1610/1610 constraints...\n",
      "1.2726503974951675 1.2726502464604268 unknown\n",
      "The problem has 2 commuting, 8 noncommuting Hermitian variables\n",
      "Calculating block structure...\n",
      "Estimated number of SDP variables: 65\n",
      "Generating moment matrix...\n",
      "Reduced number of SDP variables: 65 65 (done: 101.54%, ETA 00:00:-0.0)\n",
      "\u001b[KProcessing 2412/2412 constraints...\n"
     ]
    },
    {
     "name": "stderr",
     "output_type": "stream",
     "text": [
      "\r",
      " 44%|████████████████████████████████████                                              | 22/50 [07:16<08:50, 18.96s/it]"
     ]
    },
    {
     "name": "stdout",
     "output_type": "stream",
     "text": [
      "1.818181820428947 1.8181806283576574 unknown\n",
      "The problem has 3 commuting, 8 noncommuting Hermitian variables\n",
      "Calculating block structure...\n",
      "Estimated number of SDP variables: 77\n",
      "Generating moment matrix...\n",
      "Reduced number of SDP variables: 77 77 (done: 101.30%, ETA 00:00:-0.0)\n",
      "\u001b[KProcessing 1610/1610 constraints...\n",
      "1.2792379894266455 1.2792371870144692 unknown\n",
      "The problem has 2 commuting, 8 noncommuting Hermitian variables\n",
      "Calculating block structure...\n",
      "Estimated number of SDP variables: 65\n",
      "Generating moment matrix...\n",
      "Reduced number of SDP variables: 65 65 (done: 101.54%, ETA 00:00:-0.0)\n",
      "\u001b[KProcessing 2412/2412 constraints...\n"
     ]
    },
    {
     "name": "stderr",
     "output_type": "stream",
     "text": [
      "\r",
      " 46%|█████████████████████████████████████▋                                            | 23/50 [07:34<08:26, 18.75s/it]"
     ]
    },
    {
     "name": "stdout",
     "output_type": "stream",
     "text": [
      "1.8181818792848503 1.8181664102593156 unknown\n",
      "The problem has 3 commuting, 8 noncommuting Hermitian variables\n",
      "Calculating block structure...\n",
      "Estimated number of SDP variables: 77\n",
      "Generating moment matrix...\n",
      "Reduced number of SDP variables: 77 77 (done: 101.30%, ETA 00:00:-0.0)\n",
      "\u001b[KProcessing 1610/1610 constraints...\n",
      "1.2659265466741438 1.2659263812348978 unknown\n",
      "The problem has 2 commuting, 8 noncommuting Hermitian variables\n",
      "Calculating block structure...\n",
      "Estimated number of SDP variables: 65\n",
      "Generating moment matrix...\n",
      "Reduced number of SDP variables: 65 65 (done: 101.54%, ETA 00:00:-0.0)\n",
      "\u001b[KProcessing 2412/2412 constraints...\n"
     ]
    },
    {
     "name": "stderr",
     "output_type": "stream",
     "text": [
      "\r",
      " 48%|███████████████████████████████████████▎                                          | 24/50 [07:53<08:05, 18.66s/it]"
     ]
    },
    {
     "name": "stdout",
     "output_type": "stream",
     "text": [
      "1.8181818200014277 1.8181814600404642 unknown\n",
      "The problem has 3 commuting, 8 noncommuting Hermitian variables\n",
      "Calculating block structure...\n",
      "Estimated number of SDP variables: 77\n",
      "Generating moment matrix...\n",
      "Reduced number of SDP variables: 77 77 (done: 101.30%, ETA 00:00:-0.0)\n",
      "\u001b[KProcessing 1610/1610 constraints...\n",
      "1.2529539357785833 1.2529531211245626 unknown\n",
      "The problem has 2 commuting, 8 noncommuting Hermitian variables\n",
      "Calculating block structure...\n",
      "Estimated number of SDP variables: 65\n",
      "Generating moment matrix...\n",
      "Reduced number of SDP variables: 65 65 (done: 101.54%, ETA 00:00:-0.0)\n",
      "\u001b[KProcessing 2412/2412 constraints...\n"
     ]
    },
    {
     "name": "stderr",
     "output_type": "stream",
     "text": [
      "\r",
      " 50%|█████████████████████████████████████████                                         | 25/50 [08:11<07:44, 18.57s/it]"
     ]
    },
    {
     "name": "stdout",
     "output_type": "stream",
     "text": [
      "1.8181818217388468 1.818181013086564 unknown\n",
      "The problem has 3 commuting, 8 noncommuting Hermitian variables\n",
      "Calculating block structure...\n",
      "Estimated number of SDP variables: 77\n",
      "Generating moment matrix...\n",
      "Reduced number of SDP variables: 77 77 (done: 101.30%, ETA 00:00:-0.0)\n",
      "\u001b[KProcessing 1610/1610 constraints...\n",
      "1.2646391658095353 1.264638376355535 unknown\n",
      "The problem has 2 commuting, 8 noncommuting Hermitian variables\n",
      "Calculating block structure...\n",
      "Estimated number of SDP variables: 65\n",
      "Generating moment matrix...\n",
      "Reduced number of SDP variables: 65 65 (done: 101.54%, ETA 00:00:-0.0)\n",
      "\u001b[KProcessing 2412/2412 constraints...\n"
     ]
    },
    {
     "name": "stderr",
     "output_type": "stream",
     "text": [
      "\r",
      " 52%|██████████████████████████████████████████▋                                       | 26/50 [08:30<07:24, 18.51s/it]"
     ]
    },
    {
     "name": "stdout",
     "output_type": "stream",
     "text": [
      "1.818181894093584 1.818170149698018 unknown\n",
      "The problem has 3 commuting, 8 noncommuting Hermitian variables\n",
      "Calculating block structure...\n",
      "Estimated number of SDP variables: 77\n",
      "Generating moment matrix...\n",
      "Reduced number of SDP variables: 77 77 (done: 101.30%, ETA 00:00:-0.0)\n",
      "\u001b[KProcessing 1610/1610 constraints...\n",
      "1.250334938751112 1.2503340679779733 unknown\n",
      "The problem has 2 commuting, 8 noncommuting Hermitian variables\n",
      "Calculating block structure...\n",
      "Estimated number of SDP variables: 65\n",
      "Generating moment matrix...\n",
      "Reduced number of SDP variables: 65 65 (done: 101.54%, ETA 00:00:-0.0)\n",
      "\u001b[KProcessing 2412/2412 constraints...\n"
     ]
    },
    {
     "name": "stderr",
     "output_type": "stream",
     "text": [
      "\r",
      " 54%|████████████████████████████████████████████▎                                     | 27/50 [08:47<07:02, 18.35s/it]"
     ]
    },
    {
     "name": "stdout",
     "output_type": "stream",
     "text": [
      "1.818181820891084 1.8181814418861446 unknown\n",
      "The problem has 3 commuting, 8 noncommuting Hermitian variables\n",
      "Calculating block structure...\n",
      "Estimated number of SDP variables: 77\n",
      "Generating moment matrix...\n",
      "Reduced number of SDP variables: 77 77 (done: 101.30%, ETA 00:00:-0.0)\n",
      "\u001b[KProcessing 1610/1610 constraints...\n",
      "1.2742325572496538 1.2742324388933912 optimal\n",
      "The problem has 2 commuting, 8 noncommuting Hermitian variables\n",
      "Calculating block structure...\n",
      "Estimated number of SDP variables: 65\n",
      "Generating moment matrix...\n",
      "Reduced number of SDP variables: 65 65 (done: 101.54%, ETA 00:00:-0.0)\n",
      "\u001b[KProcessing 2412/2412 constraints...\n"
     ]
    },
    {
     "name": "stderr",
     "output_type": "stream",
     "text": [
      "\r",
      " 56%|█████████████████████████████████████████████▉                                    | 28/50 [09:06<06:41, 18.26s/it]"
     ]
    },
    {
     "name": "stdout",
     "output_type": "stream",
     "text": [
      "1.8181818835233798 1.818164120663353 unknown\n",
      "The problem has 3 commuting, 8 noncommuting Hermitian variables\n",
      "Calculating block structure...\n",
      "Estimated number of SDP variables: 77\n",
      "Generating moment matrix...\n",
      "Reduced number of SDP variables: 77 77 (done: 101.30%, ETA 00:00:-0.0)\n",
      "\u001b[KProcessing 1610/1610 constraints...\n",
      "1.2594542791172576 1.259453971312134 unknown\n",
      "The problem has 2 commuting, 8 noncommuting Hermitian variables\n",
      "Calculating block structure...\n",
      "Estimated number of SDP variables: 65\n",
      "Generating moment matrix...\n",
      "Reduced number of SDP variables: 65 65 (done: 101.54%, ETA 00:00:-0.0)\n",
      "\u001b[KProcessing 2412/2412 constraints...\n"
     ]
    },
    {
     "name": "stderr",
     "output_type": "stream",
     "text": [
      "\r",
      " 58%|███████████████████████████████████████████████▌                                  | 29/50 [09:24<06:21, 18.17s/it]"
     ]
    },
    {
     "name": "stdout",
     "output_type": "stream",
     "text": [
      "1.8181818234681941 1.8181810581595799 unknown\n",
      "The problem has 3 commuting, 8 noncommuting Hermitian variables\n",
      "Calculating block structure...\n",
      "Estimated number of SDP variables: 77\n",
      "Generating moment matrix...\n",
      "Reduced number of SDP variables: 77 77 (done: 101.30%, ETA 00:00:-0.0)\n",
      "\u001b[KProcessing 1610/1610 constraints...\n",
      "1.2568548832831679 1.256854501195746 unknown\n",
      "The problem has 2 commuting, 8 noncommuting Hermitian variables\n",
      "Calculating block structure...\n",
      "Estimated number of SDP variables: 65\n",
      "Generating moment matrix...\n",
      "Reduced number of SDP variables: 65 65 (done: 101.54%, ETA 00:00:-0.0)\n",
      "\u001b[KProcessing 2412/2412 constraints...\n",
      "1.818181853046724 1.8181760456887681 unknown\n"
     ]
    },
    {
     "name": "stderr",
     "output_type": "stream",
     "text": [
      "\r",
      " 60%|█████████████████████████████████████████████████▏                                | 30/50 [09:49<06:44, 20.23s/it]"
     ]
    },
    {
     "name": "stdout",
     "output_type": "stream",
     "text": [
      "The problem has 3 commuting, 8 noncommuting Hermitian variables\n",
      "Calculating block structure...\n",
      "Estimated number of SDP variables: 77\n",
      "Generating moment matrix...\n",
      "Reduced number of SDP variables: 77 77 (done: 101.30%, ETA 00:00:-0.0)\n",
      "\u001b[KProcessing 1610/1610 constraints...\n",
      "1.2725290725881175 1.272528960109432 optimal\n",
      "The problem has 2 commuting, 8 noncommuting Hermitian variables\n",
      "Calculating block structure...\n",
      "Estimated number of SDP variables: 65\n",
      "Generating moment matrix...\n",
      "Reduced number of SDP variables: 65 65 (done: 101.54%, ETA 00:00:-0.0)\n",
      "\u001b[KProcessing 2412/2412 constraints...\n"
     ]
    },
    {
     "name": "stderr",
     "output_type": "stream",
     "text": [
      "\r",
      " 62%|██████████████████████████████████████████████████▊                               | 31/50 [10:24<07:52, 24.85s/it]"
     ]
    },
    {
     "name": "stdout",
     "output_type": "stream",
     "text": [
      "1.8181818429556529 1.81817699026061 unknown\n",
      "The problem has 3 commuting, 8 noncommuting Hermitian variables\n",
      "Calculating block structure...\n",
      "Estimated number of SDP variables: 77\n",
      "Generating moment matrix...\n",
      "Reduced number of SDP variables: 77 77 (done: 101.30%, ETA 00:00:-0.0)\n",
      "\u001b[KProcessing 1610/1610 constraints...\n",
      "1.2810707352562027 1.1920728954940143 unknown\n",
      "The problem has 2 commuting, 8 noncommuting Hermitian variables\n",
      "Calculating block structure...\n",
      "Estimated number of SDP variables: 65\n",
      "Generating moment matrix...\n",
      "Reduced number of SDP variables: 65 65 (done: 101.54%, ETA 00:00:-0.0)\n",
      "\u001b[KProcessing 2412/2412 constraints...\n"
     ]
    },
    {
     "name": "stderr",
     "output_type": "stream",
     "text": [
      "\r",
      " 64%|████████████████████████████████████████████████████▍                             | 32/50 [10:50<07:34, 25.26s/it]"
     ]
    },
    {
     "name": "stdout",
     "output_type": "stream",
     "text": [
      "1.8181818269664518 1.8181803880271536 unknown\n",
      "The problem has 3 commuting, 8 noncommuting Hermitian variables\n",
      "Calculating block structure...\n",
      "Estimated number of SDP variables: 77\n",
      "Generating moment matrix...\n",
      "Reduced number of SDP variables: 77 77 (done: 101.30%, ETA 00:00:-0.0)\n",
      "\u001b[KProcessing 1610/1610 constraints...\n",
      "1.2673016775033985 1.2673013515528742 unknown\n",
      "The problem has 2 commuting, 8 noncommuting Hermitian variables\n",
      "Calculating block structure...\n",
      "Estimated number of SDP variables: 65\n",
      "Generating moment matrix...\n",
      "Reduced number of SDP variables: 65 65 (done: 101.54%, ETA 00:00:-0.0)\n",
      "\u001b[KProcessing 2412/2412 constraints...\n"
     ]
    },
    {
     "name": "stderr",
     "output_type": "stream",
     "text": [
      "\r",
      " 66%|██████████████████████████████████████████████████████                            | 33/50 [11:12<06:51, 24.18s/it]"
     ]
    },
    {
     "name": "stdout",
     "output_type": "stream",
     "text": [
      "1.8181818205530362 1.8181808249149054 unknown\n",
      "The problem has 3 commuting, 8 noncommuting Hermitian variables\n",
      "Calculating block structure...\n",
      "Estimated number of SDP variables: 77\n",
      "Generating moment matrix...\n",
      "Reduced number of SDP variables: 77 77 (done: 101.30%, ETA 00:00:-0.0)\n",
      "\u001b[KProcessing 1610/1610 constraints...\n",
      "1.262056737771297 1.262056628248597 optimal\n",
      "The problem has 2 commuting, 8 noncommuting Hermitian variables\n",
      "Calculating block structure...\n",
      "Estimated number of SDP variables: 65\n",
      "Generating moment matrix...\n",
      "Reduced number of SDP variables: 65 65 (done: 101.54%, ETA 00:00:-0.0)\n",
      "\u001b[KProcessing 2412/2412 constraints...\n"
     ]
    },
    {
     "name": "stderr",
     "output_type": "stream",
     "text": [
      "\r",
      " 68%|███████████████████████████████████████████████████████▊                          | 34/50 [11:31<06:03, 22.69s/it]"
     ]
    },
    {
     "name": "stdout",
     "output_type": "stream",
     "text": [
      "1.818181856598187 1.8181759034257143 unknown\n",
      "The problem has 3 commuting, 8 noncommuting Hermitian variables\n",
      "Calculating block structure...\n",
      "Estimated number of SDP variables: 77\n",
      "Generating moment matrix...\n",
      "Reduced number of SDP variables: 77 77 (done: 101.30%, ETA 00:00:-0.0)\n",
      "\u001b[KProcessing 1610/1610 constraints...\n",
      "1.257014570459927 1.257014322971512 unknown\n",
      "The problem has 2 commuting, 8 noncommuting Hermitian variables\n",
      "Calculating block structure...\n",
      "Estimated number of SDP variables: 65\n",
      "Generating moment matrix...\n",
      "Reduced number of SDP variables: 65 65 (done: 101.54%, ETA 00:00:-0.0)\n",
      "\u001b[KProcessing 2412/2412 constraints...\n"
     ]
    },
    {
     "name": "stderr",
     "output_type": "stream",
     "text": [
      "\r",
      " 70%|█████████████████████████████████████████████████████████▍                        | 35/50 [11:51<05:27, 21.85s/it]"
     ]
    },
    {
     "name": "stdout",
     "output_type": "stream",
     "text": [
      "1.8181818423081495 1.818163776750305 unknown\n",
      "The problem has 3 commuting, 8 noncommuting Hermitian variables\n",
      "Calculating block structure...\n",
      "Estimated number of SDP variables: 77\n",
      "Generating moment matrix...\n",
      "Reduced number of SDP variables: 77 77 (done: 101.30%, ETA 00:00:-0.0)\n",
      "\u001b[KProcessing 1610/1610 constraints...\n",
      "1.2622653458723834 1.2622651862931633 unknown\n",
      "The problem has 2 commuting, 8 noncommuting Hermitian variables\n",
      "Calculating block structure...\n",
      "Estimated number of SDP variables: 65\n",
      "Generating moment matrix...\n",
      "Reduced number of SDP variables: 65 65 (done: 101.54%, ETA 00:00:-0.0)\n",
      "\u001b[KProcessing 2412/2412 constraints...\n"
     ]
    },
    {
     "name": "stderr",
     "output_type": "stream",
     "text": [
      "\r",
      " 72%|███████████████████████████████████████████████████████████                       | 36/50 [12:12<05:00, 21.43s/it]"
     ]
    },
    {
     "name": "stdout",
     "output_type": "stream",
     "text": [
      "1.818181822684437 1.8181810567636025 unknown\n",
      "The problem has 3 commuting, 8 noncommuting Hermitian variables\n",
      "Calculating block structure...\n",
      "Estimated number of SDP variables: 77\n",
      "Generating moment matrix...\n",
      "Reduced number of SDP variables: 77 77 (done: 101.30%, ETA 00:00:-0.0)\n",
      "\u001b[KProcessing 1610/1610 constraints...\n",
      "1.2624900965606045 1.26248986734218 unknown\n",
      "The problem has 2 commuting, 8 noncommuting Hermitian variables\n",
      "Calculating block structure...\n",
      "Estimated number of SDP variables: 65\n",
      "Generating moment matrix...\n",
      "Reduced number of SDP variables: 65 65 (done: 101.54%, ETA 00:00:-0.0)\n",
      "\u001b[KProcessing 2412/2412 constraints...\n"
     ]
    },
    {
     "name": "stderr",
     "output_type": "stream",
     "text": [
      "\r",
      " 74%|████████████████████████████████████████████████████████████▋                     | 37/50 [12:31<04:31, 20.86s/it]"
     ]
    },
    {
     "name": "stdout",
     "output_type": "stream",
     "text": [
      "1.818181839300962 1.8181793187912587 unknown\n",
      "The problem has 3 commuting, 8 noncommuting Hermitian variables\n",
      "Calculating block structure...\n",
      "Estimated number of SDP variables: 77\n",
      "Generating moment matrix...\n",
      "Reduced number of SDP variables: 77 77 (done: 101.30%, ETA 00:00:-0.0)\n",
      "\u001b[KProcessing 1610/1610 constraints...\n",
      "1.2589378936389033 1.2589376333535167 unknown\n",
      "The problem has 2 commuting, 8 noncommuting Hermitian variables\n",
      "Calculating block structure...\n",
      "Estimated number of SDP variables: 65\n",
      "Generating moment matrix...\n",
      "Reduced number of SDP variables: 65 65 (done: 101.54%, ETA 00:00:-0.0)\n",
      "\u001b[KProcessing 2412/2412 constraints...\n"
     ]
    },
    {
     "name": "stderr",
     "output_type": "stream",
     "text": [
      "\r",
      " 76%|██████████████████████████████████████████████████████████████▎                   | 38/50 [12:51<04:08, 20.70s/it]"
     ]
    },
    {
     "name": "stdout",
     "output_type": "stream",
     "text": [
      "1.8181818221795538 1.8181801517467717 unknown\n",
      "The problem has 3 commuting, 8 noncommuting Hermitian variables\n",
      "Calculating block structure...\n",
      "Estimated number of SDP variables: 77\n",
      "Generating moment matrix...\n",
      "Reduced number of SDP variables: 77 77 (done: 101.30%, ETA 00:00:-0.0)\n",
      "\u001b[KProcessing 1610/1610 constraints...\n",
      "1.3309998206302713 1.1937393945829715 unknown\n",
      "The problem has 2 commuting, 8 noncommuting Hermitian variables\n",
      "Calculating block structure...\n",
      "Estimated number of SDP variables: 65\n",
      "Generating moment matrix...\n",
      "Reduced number of SDP variables: 65 65 (done: 101.54%, ETA 00:00:-0.0)\n",
      "\u001b[KProcessing 2412/2412 constraints...\n"
     ]
    },
    {
     "name": "stderr",
     "output_type": "stream",
     "text": [
      "\r",
      " 78%|███████████████████████████████████████████████████████████████▉                  | 39/50 [13:10<03:41, 20.14s/it]"
     ]
    },
    {
     "name": "stdout",
     "output_type": "stream",
     "text": [
      "1.818181846461414 1.8181779528755577 unknown\n",
      "The problem has 3 commuting, 8 noncommuting Hermitian variables\n",
      "Calculating block structure...\n",
      "Estimated number of SDP variables: 77\n",
      "Generating moment matrix...\n",
      "Reduced number of SDP variables: 77 77 (done: 101.30%, ETA 00:00:-0.0)\n",
      "\u001b[KProcessing 1610/1610 constraints...\n",
      "1.2509936957152292 1.2509935475196494 unknown\n",
      "The problem has 2 commuting, 8 noncommuting Hermitian variables\n",
      "Calculating block structure...\n",
      "Estimated number of SDP variables: 65\n",
      "Generating moment matrix...\n",
      "Reduced number of SDP variables: 65 65 (done: 101.54%, ETA 00:00:-0.0)\n",
      "\u001b[KProcessing 2412/2412 constraints...\n"
     ]
    },
    {
     "name": "stderr",
     "output_type": "stream",
     "text": [
      "\r",
      " 80%|█████████████████████████████████████████████████████████████████▌                | 40/50 [13:30<03:20, 20.05s/it]"
     ]
    },
    {
     "name": "stdout",
     "output_type": "stream",
     "text": [
      "1.815602861029106 1.8155864002447533 unknown\n",
      "The problem has 3 commuting, 8 noncommuting Hermitian variables\n",
      "Calculating block structure...\n",
      "Estimated number of SDP variables: 77\n",
      "Generating moment matrix...\n",
      "Reduced number of SDP variables: 77 77 (done: 101.30%, ETA 00:00:-0.0)\n",
      "\u001b[KProcessing 1610/1610 constraints...\n",
      "1.2710342042687521 1.2710340419786976 unknown\n",
      "The problem has 2 commuting, 8 noncommuting Hermitian variables\n",
      "Calculating block structure...\n",
      "Estimated number of SDP variables: 65\n",
      "Generating moment matrix...\n",
      "Reduced number of SDP variables: 65 65 (done: 101.54%, ETA 00:00:-0.0)\n",
      "\u001b[KProcessing 2412/2412 constraints...\n",
      "1.8181818339947995 1.818176610965115 unknown\n"
     ]
    },
    {
     "name": "stderr",
     "output_type": "stream",
     "text": [
      "\r",
      " 82%|███████████████████████████████████████████████████████████████████▏              | 41/50 [13:53<03:07, 20.88s/it]"
     ]
    },
    {
     "name": "stdout",
     "output_type": "stream",
     "text": [
      "The problem has 3 commuting, 8 noncommuting Hermitian variables\n",
      "Calculating block structure...\n",
      "Estimated number of SDP variables: 77\n",
      "Generating moment matrix...\n",
      "Reduced number of SDP variables: 77 77 (done: 101.30%, ETA 00:00:-0.0)\n",
      "\u001b[KProcessing 1610/1610 constraints...\n",
      "1.2761325350171389 1.2761323017611172 unknown\n",
      "The problem has 2 commuting, 8 noncommuting Hermitian variables\n",
      "Calculating block structure...\n",
      "Estimated number of SDP variables: 65\n",
      "Generating moment matrix...\n",
      "Reduced number of SDP variables: 65 65 (done: 101.54%, ETA 00:00:-0.0)\n",
      "\u001b[KProcessing 2412/2412 constraints...\n"
     ]
    },
    {
     "name": "stderr",
     "output_type": "stream",
     "text": [
      "\r",
      " 84%|████████████████████████████████████████████████████████████████████▉             | 42/50 [14:18<02:56, 22.01s/it]"
     ]
    },
    {
     "name": "stdout",
     "output_type": "stream",
     "text": [
      "1.8181818199045665 1.8181815603451488 unknown\n",
      "The problem has 3 commuting, 8 noncommuting Hermitian variables\n",
      "Calculating block structure...\n",
      "Estimated number of SDP variables: 77\n",
      "Generating moment matrix...\n",
      "Reduced number of SDP variables: 77 77 (done: 101.30%, ETA 00:00:-0.0)\n",
      "\u001b[KProcessing 1610/1610 constraints...\n",
      "1.2773644146160152 1.2773635694283796 unknown\n",
      "The problem has 2 commuting, 8 noncommuting Hermitian variables\n",
      "Calculating block structure...\n",
      "Estimated number of SDP variables: 65\n",
      "Generating moment matrix...\n",
      "Reduced number of SDP variables: 65 65 (done: 101.54%, ETA 00:00:-0.0)\n",
      "\u001b[KProcessing 2412/2412 constraints...\n"
     ]
    },
    {
     "name": "stderr",
     "output_type": "stream",
     "text": [
      "\r",
      " 86%|██████████████████████████████████████████████████████████████████████▌           | 43/50 [14:37<02:28, 21.20s/it]"
     ]
    },
    {
     "name": "stdout",
     "output_type": "stream",
     "text": [
      "1.818181837273812 1.8181787910111618 unknown\n",
      "The problem has 3 commuting, 8 noncommuting Hermitian variables\n",
      "Calculating block structure...\n",
      "Estimated number of SDP variables: 77\n",
      "Generating moment matrix...\n",
      "Reduced number of SDP variables: 77 77 (done: 101.30%, ETA 00:00:-0.0)\n",
      "\u001b[KProcessing 1610/1610 constraints...\n",
      "1.2697019912618002 1.2697017842781646 unknown\n",
      "The problem has 2 commuting, 8 noncommuting Hermitian variables\n",
      "Calculating block structure...\n",
      "Estimated number of SDP variables: 65\n",
      "Generating moment matrix...\n",
      "Reduced number of SDP variables: 65 65 (done: 101.54%, ETA 00:00:-0.0)\n",
      "\u001b[KProcessing 2412/2412 constraints...\n"
     ]
    },
    {
     "name": "stderr",
     "output_type": "stream",
     "text": [
      "\r",
      " 88%|████████████████████████████████████████████████████████████████████████▏         | 44/50 [14:56<02:02, 20.48s/it]"
     ]
    },
    {
     "name": "stdout",
     "output_type": "stream",
     "text": [
      "1.8181818245421368 1.8181799474346012 unknown\n",
      "The problem has 3 commuting, 8 noncommuting Hermitian variables\n",
      "Calculating block structure...\n",
      "Estimated number of SDP variables: 77\n",
      "Generating moment matrix...\n",
      "Reduced number of SDP variables: 77 77 (done: 101.30%, ETA 00:00:-0.0)\n",
      "\u001b[KProcessing 1610/1610 constraints...\n",
      "1.2708505983573812 1.270849726349204 unknown\n",
      "The problem has 2 commuting, 8 noncommuting Hermitian variables\n",
      "Calculating block structure...\n",
      "Estimated number of SDP variables: 65\n",
      "Generating moment matrix...\n",
      "Reduced number of SDP variables: 65 65 (done: 101.54%, ETA 00:00:-0.0)\n",
      "\u001b[KProcessing 2412/2412 constraints...\n"
     ]
    },
    {
     "name": "stderr",
     "output_type": "stream",
     "text": [
      "\r",
      " 90%|█████████████████████████████████████████████████████████████████████████▊        | 45/50 [15:14<01:39, 19.90s/it]"
     ]
    },
    {
     "name": "stdout",
     "output_type": "stream",
     "text": [
      "1.8181818431849592 1.8181779861839742 unknown\n",
      "The problem has 3 commuting, 8 noncommuting Hermitian variables\n",
      "Calculating block structure...\n",
      "Estimated number of SDP variables: 77\n",
      "Generating moment matrix...\n",
      "Reduced number of SDP variables: 77 77 (done: 101.30%, ETA 00:00:-0.0)\n",
      "\u001b[KProcessing 1610/1610 constraints...\n",
      "1.2520297743705278 1.2520295403348698 unknown\n",
      "The problem has 2 commuting, 8 noncommuting Hermitian variables\n",
      "Calculating block structure...\n",
      "Estimated number of SDP variables: 65\n",
      "Generating moment matrix...\n",
      "Reduced number of SDP variables: 65 65 (done: 101.54%, ETA 00:00:-0.0)\n",
      "\u001b[KProcessing 2412/2412 constraints...\n"
     ]
    },
    {
     "name": "stderr",
     "output_type": "stream",
     "text": [
      "\r",
      " 92%|███████████████████████████████████████████████████████████████████████████▍      | 46/50 [15:33<01:18, 19.69s/it]"
     ]
    },
    {
     "name": "stdout",
     "output_type": "stream",
     "text": [
      "1.81818185888892 1.8181663932937733 unknown\n",
      "The problem has 3 commuting, 8 noncommuting Hermitian variables\n",
      "Calculating block structure...\n",
      "Estimated number of SDP variables: 77\n",
      "Generating moment matrix...\n",
      "Reduced number of SDP variables: 77 77 (done: 101.30%, ETA 00:00:-0.0)\n",
      "\u001b[KProcessing 1610/1610 constraints...\n",
      "1.2772200272383845 1.2772197463312231 unknown\n",
      "The problem has 2 commuting, 8 noncommuting Hermitian variables\n",
      "Calculating block structure...\n",
      "Estimated number of SDP variables: 65\n",
      "Generating moment matrix...\n",
      "Reduced number of SDP variables: 65 65 (done: 101.54%, ETA 00:00:-0.0)\n",
      "\u001b[KProcessing 2412/2412 constraints...\n"
     ]
    },
    {
     "name": "stderr",
     "output_type": "stream",
     "text": [
      "\r",
      " 94%|█████████████████████████████████████████████████████████████████████████████     | 47/50 [15:52<00:58, 19.41s/it]"
     ]
    },
    {
     "name": "stdout",
     "output_type": "stream",
     "text": [
      "1.8181818414059876 1.8181720317476482 unknown\n",
      "The problem has 3 commuting, 8 noncommuting Hermitian variables\n",
      "Calculating block structure...\n",
      "Estimated number of SDP variables: 77\n",
      "Generating moment matrix...\n",
      "Reduced number of SDP variables: 77 77 (done: 101.30%, ETA 00:00:-0.0)\n",
      "\u001b[KProcessing 1610/1610 constraints...\n",
      "1.226536551451626 1.226536184452133 unknown\n",
      "The problem has 2 commuting, 8 noncommuting Hermitian variables\n",
      "Calculating block structure...\n",
      "Estimated number of SDP variables: 65\n",
      "Generating moment matrix...\n",
      "Reduced number of SDP variables: 65 65 (done: 101.54%, ETA 00:00:-0.0)\n",
      "\u001b[KProcessing 2412/2412 constraints...\n"
     ]
    },
    {
     "name": "stderr",
     "output_type": "stream",
     "text": [
      "\r",
      " 96%|██████████████████████████████████████████████████████████████████████████████▋   | 48/50 [16:11<00:38, 19.28s/it]"
     ]
    },
    {
     "name": "stdout",
     "output_type": "stream",
     "text": [
      "1.8181818273272938 1.8181773501544742 unknown\n",
      "The problem has 3 commuting, 8 noncommuting Hermitian variables\n",
      "Calculating block structure...\n",
      "Estimated number of SDP variables: 77\n",
      "Generating moment matrix...\n",
      "Reduced number of SDP variables: 77 77 (done: 101.30%, ETA 00:00:-0.0)\n",
      "\u001b[KProcessing 1610/1610 constraints...\n",
      "1.2719367257921397 1.2719365297644627 unknown\n",
      "The problem has 2 commuting, 8 noncommuting Hermitian variables\n",
      "Calculating block structure...\n",
      "Estimated number of SDP variables: 65\n",
      "Generating moment matrix...\n",
      "Reduced number of SDP variables: 65 65 (done: 101.54%, ETA 00:00:-0.0)\n",
      "\u001b[KProcessing 2412/2412 constraints...\n"
     ]
    },
    {
     "name": "stderr",
     "output_type": "stream",
     "text": [
      "\r",
      " 98%|████████████████████████████████████████████████████████████████████████████████▎ | 49/50 [16:30<00:19, 19.09s/it]"
     ]
    },
    {
     "name": "stdout",
     "output_type": "stream",
     "text": [
      "1.8181818231090574 1.8181811303987825 unknown\n",
      "The problem has 3 commuting, 8 noncommuting Hermitian variables\n",
      "Calculating block structure...\n",
      "Estimated number of SDP variables: 77\n",
      "Generating moment matrix...\n",
      "Reduced number of SDP variables: 77 77 (done: 101.30%, ETA 00:00:-0.0)\n",
      "\u001b[KProcessing 1610/1610 constraints...\n",
      "1.2656912717838822 1.265691050994944 unknown\n",
      "The problem has 2 commuting, 8 noncommuting Hermitian variables\n",
      "Calculating block structure...\n",
      "Estimated number of SDP variables: 65\n",
      "Generating moment matrix...\n",
      "Reduced number of SDP variables: 65 65 (done: 101.54%, ETA 00:00:-0.0)\n",
      "\u001b[KProcessing 2412/2412 constraints...\n"
     ]
    },
    {
     "name": "stderr",
     "output_type": "stream",
     "text": [
      "100%|██████████████████████████████████████████████████████████████████████████████████| 50/50 [16:49<00:00, 20.18s/it]"
     ]
    },
    {
     "name": "stdout",
     "output_type": "stream",
     "text": [
      "1.8181818220663217 1.8181811893243915 unknown\n"
     ]
    },
    {
     "name": "stderr",
     "output_type": "stream",
     "text": [
      "\n"
     ]
    }
   ],
   "source": [
    "trials=50\n",
    "\n",
    "filepath = 'compas-scores-two-years.csv'\n",
    "nrows=1200\n",
    "\n",
    "features=['sex', 'age', 'age_cat', 'race', 'juv_fel_count', 'juv_misd_count', 'juv_other_count','priors_count', 'c_charge_degree']\n",
    "labels=[\"is_recid\",'decile_score']\n",
    "\n",
    "methods=['COMPAS',\"weighted\",\"subgroup-fair\",\"instant-fair\"] #\"fnr\", \"fpr\", \"weighted\"\n",
    "performace=['IND','SP','SF','INA','INDrw','SPrw','SFrw','INArw']\n",
    "unprivileged_groups = [{'race': 1}]  \n",
    "privileged_groups = [{'race': 0}]\n",
    "\n",
    "dataframe,base_rate=preprocess(filepath,nrows,features+labels)\n",
    "\n",
    "metric=pd.DataFrame(columns=performace+['type','thresh','trial'])\n",
    "\n",
    "for ignore in tqdm(range(trials)):\n",
    "    Itrain,Itest=split_index(dataframe.index.tolist())\n",
    "    Dtest=dataframe.loc[Itest]\n",
    "    I0_test=Dtest[Dtest['race']=='Caucasian'].index\n",
    "    I1_test=Dtest[Dtest['race']!='Caucasian'].index\n",
    "    \n",
    "    # update scores:\n",
    "    Dtest['COMPAS']=Dtest['decile_score']/10\n",
    "    for m in methods[1:]:\n",
    "        if m not in ['subgroup-fair',\"instant-fair\"]:\n",
    "            pp=aif_postprocess(Itrain,Itest,m).flatten()\n",
    "        else:\n",
    "            pp=new_postprocess(Itrain,Itest,m)\n",
    "        i=0\n",
    "        for j in Itest:\n",
    "            Dtest.loc[j,m]=pp[i]\n",
    "            i+=1\n",
    "\n",
    "    I1_test_rw=I1_test[range(len(I0_test))]\n",
    "    Dtest_rw=Dtest.loc[I0_test.tolist()+I1_test_rw.tolist()]\n",
    "    \n",
    "    # update labels, based on thresholds\n",
    "    #all_thresh = np.linspace(0.2, 0.8, 10)\n",
    "    #for thresh in all_thresh:  \n",
    "    thresh=[]\n",
    "    for m in methods:\n",
    "        model_perf=fair_metric(Dtest,I0_test,I1_test,m,thresh,base_rate)\n",
    "        model_perf_rw=fair_metric(Dtest_rw,I0_test,I1_test_rw,m,thresh,base_rate)\n",
    "        metric=metric.append({'IND':model_perf[0],'SP':model_perf[1],'SF':model_perf[2],'INA':model_perf[3],\n",
    "                              'INDrw':model_perf_rw[0],'SPrw':model_perf_rw[1],'SFrw':model_perf_rw[2],'INArw':model_perf_rw[3],\n",
    "                              'type':m,'thresh':0.5,'trial':ignore},ignore_index=True)\n",
    "\n",
    "#metric.to_csv('COMPAS4_metric.csv',index=None)"
   ]
  },
  {
   "cell_type": "code",
   "execution_count": 21,
   "metadata": {},
   "outputs": [],
   "source": [
    "metric.to_csv('COMPAS4_metric.csv',index=None)"
   ]
  },
  {
   "cell_type": "code",
   "execution_count": null,
   "metadata": {},
   "outputs": [],
   "source": []
  },
  {
   "cell_type": "code",
   "execution_count": 9,
   "metadata": {
    "scrolled": true
   },
   "outputs": [
    {
     "name": "stderr",
     "output_type": "stream",
     "text": [
      "100%|████████████████████████████████████████████████████████████████████████████████████| 5/5 [01:04<00:00, 12.91s/it]\n"
     ]
    }
   ],
   "source": [
    "trials=5\n",
    "\n",
    "filepath = 'compas-scores-two-years.csv'\n",
    "nrows=1200\n",
    "\n",
    "features=['sex', 'age', 'age_cat', 'race', 'juv_fel_count', 'juv_misd_count', 'juv_other_count','priors_count', 'c_charge_degree']\n",
    "labels=[\"is_recid\",'decile_score']\n",
    "\n",
    "methods=['COMPAS',\"fnr\", \"fpr\", \"weighted\",'RejectOption','EqOddsPostprocessing'] #\"fnr\", \"fpr\", \"weighted\"\n",
    "performace=['IND','SP','SF','INA','INDrw','SPrw','SFrw','INArw']\n",
    "unprivileged_groups = [{'race': 1}]  \n",
    "privileged_groups = [{'race': 0}]\n",
    "\n",
    "dataframe,base_rate=preprocess(filepath,nrows,features+labels)\n",
    "\n",
    "metric=pd.DataFrame(columns=performace+['type','thresh','trial'])\n",
    "\n",
    "for ignore in tqdm(range(trials)):\n",
    "    \n",
    "    Itrain,Itest=split_index(dataframe.index.tolist())\n",
    "    Dtest=dataframe.loc[Itest]\n",
    "    I0_test=Dtest[Dtest['race']=='Caucasian'].index\n",
    "    I1_test=Dtest[Dtest['race']!='Caucasian'].index\n",
    "\n",
    "    # update scores:\n",
    "    Dtest['COMPAS']=Dtest['decile_score']/10\n",
    "    for m in methods[1:]:\n",
    "        if m not in ['subgroup-fair',\"instant-fair\"]:\n",
    "            pp=aif_postprocess(Itrain,Itest,m).flatten()\n",
    "        else:\n",
    "            pp=new_postprocess(Itrain,Itest,m)\n",
    "        i=0\n",
    "        for j in Itest:\n",
    "            Dtest.loc[j,m]=pp[i]\n",
    "            i+=1\n",
    "            \n",
    "    I1_test_rw=I1_test[range(len(I0_test))]\n",
    "    Dtest_rw=Dtest.loc[I0_test.tolist()+I1_test_rw.tolist()]\n",
    "\n",
    "    # update labels, based on thresholds\n",
    "    all_thresh = np.linspace(20, 80, 10)\n",
    "    for thresh in all_thresh:  \n",
    "        for m in methods:\n",
    "            model_perf=fair_metric(Dtest,I0_test,I1_test,m,thresh,[]) \n",
    "            model_perf_rw=fair_metric(Dtest_rw,I0_test,I1_test_rw,m,thresh,[])\n",
    "            metric=metric.append({'IND':model_perf[0],'SP':model_perf[1],'SF':model_perf[2],'INA':model_perf[3],\n",
    "                                  'INDrw':model_perf_rw[0],'SPrw':model_perf_rw[1],'SFrw':model_perf_rw[2],'INArw':model_perf_rw[3],\n",
    "                                  'type':m,'thresh':round(thresh),'trial':ignore},ignore_index=True)\n",
    "\n",
    "metric.to_csv('AIF3_metric.csv',index=None)"
   ]
  },
  {
   "cell_type": "code",
   "execution_count": 10,
   "metadata": {
    "scrolled": true
   },
   "outputs": [
    {
     "data": {
      "text/html": [
       "<div>\n",
       "<style scoped>\n",
       "    .dataframe tbody tr th:only-of-type {\n",
       "        vertical-align: middle;\n",
       "    }\n",
       "\n",
       "    .dataframe tbody tr th {\n",
       "        vertical-align: top;\n",
       "    }\n",
       "\n",
       "    .dataframe thead th {\n",
       "        text-align: right;\n",
       "    }\n",
       "</style>\n",
       "<table border=\"1\" class=\"dataframe\">\n",
       "  <thead>\n",
       "    <tr style=\"text-align: right;\">\n",
       "      <th></th>\n",
       "      <th>IND</th>\n",
       "      <th>SP</th>\n",
       "      <th>SF</th>\n",
       "      <th>INA</th>\n",
       "      <th>INDrw</th>\n",
       "      <th>SPrw</th>\n",
       "      <th>SFrw</th>\n",
       "      <th>INArw</th>\n",
       "      <th>type</th>\n",
       "      <th>thresh</th>\n",
       "      <th>trial</th>\n",
       "    </tr>\n",
       "  </thead>\n",
       "  <tbody>\n",
       "    <tr>\n",
       "      <th>0</th>\n",
       "      <td>0.138838</td>\n",
       "      <td>0.256078</td>\n",
       "      <td>0.247199</td>\n",
       "      <td>0.393035</td>\n",
       "      <td>0.126437</td>\n",
       "      <td>0.207345</td>\n",
       "      <td>0.196522</td>\n",
       "      <td>0.373563</td>\n",
       "      <td>COMPAS</td>\n",
       "      <td>20</td>\n",
       "      <td>0</td>\n",
       "    </tr>\n",
       "    <tr>\n",
       "      <th>1</th>\n",
       "      <td>0.289474</td>\n",
       "      <td>0.233333</td>\n",
       "      <td>0.245907</td>\n",
       "      <td>0.572139</td>\n",
       "      <td>0.287356</td>\n",
       "      <td>0.183136</td>\n",
       "      <td>0.251264</td>\n",
       "      <td>0.545977</td>\n",
       "      <td>fnr</td>\n",
       "      <td>20</td>\n",
       "      <td>0</td>\n",
       "    </tr>\n",
       "    <tr>\n",
       "      <th>2</th>\n",
       "      <td>0.183908</td>\n",
       "      <td>0.376988</td>\n",
       "      <td>0.416281</td>\n",
       "      <td>0.527363</td>\n",
       "      <td>0.816092</td>\n",
       "      <td>0.159597</td>\n",
       "      <td>0.298254</td>\n",
       "      <td>0.580460</td>\n",
       "      <td>fpr</td>\n",
       "      <td>20</td>\n",
       "      <td>0</td>\n",
       "    </tr>\n",
       "    <tr>\n",
       "      <th>3</th>\n",
       "      <td>0.106473</td>\n",
       "      <td>0.057195</td>\n",
       "      <td>0.049054</td>\n",
       "      <td>0.567164</td>\n",
       "      <td>0.195402</td>\n",
       "      <td>0.080273</td>\n",
       "      <td>0.026962</td>\n",
       "      <td>0.568966</td>\n",
       "      <td>weighted</td>\n",
       "      <td>20</td>\n",
       "      <td>0</td>\n",
       "    </tr>\n",
       "    <tr>\n",
       "      <th>4</th>\n",
       "      <td>0.106473</td>\n",
       "      <td>0.057195</td>\n",
       "      <td>0.049054</td>\n",
       "      <td>0.567164</td>\n",
       "      <td>0.195402</td>\n",
       "      <td>0.080273</td>\n",
       "      <td>0.026962</td>\n",
       "      <td>0.568966</td>\n",
       "      <td>RejectOption</td>\n",
       "      <td>20</td>\n",
       "      <td>0</td>\n",
       "    </tr>\n",
       "    <tr>\n",
       "      <th>...</th>\n",
       "      <td>...</td>\n",
       "      <td>...</td>\n",
       "      <td>...</td>\n",
       "      <td>...</td>\n",
       "      <td>...</td>\n",
       "      <td>...</td>\n",
       "      <td>...</td>\n",
       "      <td>...</td>\n",
       "      <td>...</td>\n",
       "      <td>...</td>\n",
       "      <td>...</td>\n",
       "    </tr>\n",
       "    <tr>\n",
       "      <th>295</th>\n",
       "      <td>0.337728</td>\n",
       "      <td>0.656579</td>\n",
       "      <td>0.460171</td>\n",
       "      <td>0.472637</td>\n",
       "      <td>0.305882</td>\n",
       "      <td>0.585898</td>\n",
       "      <td>0.405182</td>\n",
       "      <td>0.435294</td>\n",
       "      <td>fnr</td>\n",
       "      <td>80</td>\n",
       "      <td>4</td>\n",
       "    </tr>\n",
       "    <tr>\n",
       "      <th>296</th>\n",
       "      <td>0.623529</td>\n",
       "      <td>0.130952</td>\n",
       "      <td>0.394010</td>\n",
       "      <td>0.552239</td>\n",
       "      <td>0.447059</td>\n",
       "      <td>0.134085</td>\n",
       "      <td>0.374297</td>\n",
       "      <td>0.517647</td>\n",
       "      <td>fpr</td>\n",
       "      <td>80</td>\n",
       "      <td>4</td>\n",
       "    </tr>\n",
       "    <tr>\n",
       "      <th>297</th>\n",
       "      <td>0.300507</td>\n",
       "      <td>0.065915</td>\n",
       "      <td>0.279466</td>\n",
       "      <td>0.582090</td>\n",
       "      <td>0.282353</td>\n",
       "      <td>0.114297</td>\n",
       "      <td>0.152321</td>\n",
       "      <td>0.541176</td>\n",
       "      <td>weighted</td>\n",
       "      <td>80</td>\n",
       "      <td>4</td>\n",
       "    </tr>\n",
       "    <tr>\n",
       "      <th>298</th>\n",
       "      <td>0.266024</td>\n",
       "      <td>0.033772</td>\n",
       "      <td>0.207999</td>\n",
       "      <td>0.572139</td>\n",
       "      <td>0.282353</td>\n",
       "      <td>0.114297</td>\n",
       "      <td>0.152321</td>\n",
       "      <td>0.541176</td>\n",
       "      <td>RejectOption</td>\n",
       "      <td>80</td>\n",
       "      <td>4</td>\n",
       "    </tr>\n",
       "    <tr>\n",
       "      <th>299</th>\n",
       "      <td>0.266024</td>\n",
       "      <td>0.033772</td>\n",
       "      <td>0.207999</td>\n",
       "      <td>0.572139</td>\n",
       "      <td>0.282353</td>\n",
       "      <td>0.114297</td>\n",
       "      <td>0.152321</td>\n",
       "      <td>0.541176</td>\n",
       "      <td>EqOddsPostprocessing</td>\n",
       "      <td>80</td>\n",
       "      <td>4</td>\n",
       "    </tr>\n",
       "  </tbody>\n",
       "</table>\n",
       "<p>300 rows × 11 columns</p>\n",
       "</div>"
      ],
      "text/plain": [
       "          IND        SP        SF       INA     INDrw      SPrw      SFrw  \\\n",
       "0    0.138838  0.256078  0.247199  0.393035  0.126437  0.207345  0.196522   \n",
       "1    0.289474  0.233333  0.245907  0.572139  0.287356  0.183136  0.251264   \n",
       "2    0.183908  0.376988  0.416281  0.527363  0.816092  0.159597  0.298254   \n",
       "3    0.106473  0.057195  0.049054  0.567164  0.195402  0.080273  0.026962   \n",
       "4    0.106473  0.057195  0.049054  0.567164  0.195402  0.080273  0.026962   \n",
       "..        ...       ...       ...       ...       ...       ...       ...   \n",
       "295  0.337728  0.656579  0.460171  0.472637  0.305882  0.585898  0.405182   \n",
       "296  0.623529  0.130952  0.394010  0.552239  0.447059  0.134085  0.374297   \n",
       "297  0.300507  0.065915  0.279466  0.582090  0.282353  0.114297  0.152321   \n",
       "298  0.266024  0.033772  0.207999  0.572139  0.282353  0.114297  0.152321   \n",
       "299  0.266024  0.033772  0.207999  0.572139  0.282353  0.114297  0.152321   \n",
       "\n",
       "        INArw                  type thresh trial  \n",
       "0    0.373563                COMPAS     20     0  \n",
       "1    0.545977                   fnr     20     0  \n",
       "2    0.580460                   fpr     20     0  \n",
       "3    0.568966              weighted     20     0  \n",
       "4    0.568966          RejectOption     20     0  \n",
       "..        ...                   ...    ...   ...  \n",
       "295  0.435294                   fnr     80     4  \n",
       "296  0.517647                   fpr     80     4  \n",
       "297  0.541176              weighted     80     4  \n",
       "298  0.541176          RejectOption     80     4  \n",
       "299  0.541176  EqOddsPostprocessing     80     4  \n",
       "\n",
       "[300 rows x 11 columns]"
      ]
     },
     "execution_count": 10,
     "metadata": {},
     "output_type": "execute_result"
    }
   ],
   "source": [
    "metric"
   ]
  },
  {
   "cell_type": "code",
   "execution_count": 36,
   "metadata": {
    "scrolled": true
   },
   "outputs": [
    {
     "name": "stderr",
     "output_type": "stream",
     "text": [
      "\r",
      "  0%|                                                                                           | 0/50 [00:00<?, ?it/s]"
     ]
    },
    {
     "name": "stdout",
     "output_type": "stream",
     "text": [
      "The problem has 3 commuting, 8 noncommuting Hermitian variables\n",
      "Calculating block structure...\n",
      "Estimated number of SDP variables: 77\n",
      "Generating moment matrix...\n",
      "Reduced number of SDP variables: 77 77 (done: 101.30%, ETA 00:00:-0.0)\n",
      "\u001b[KProcessing 1610/1610 constraints...\n",
      "1.2709622937071234 1.2709618779649092 unknown\n",
      "The problem has 2 commuting, 8 noncommuting Hermitian variables\n",
      "Calculating block structure...\n",
      "Estimated number of SDP variables: 65\n",
      "Generating moment matrix...\n",
      "Reduced number of SDP variables: 65 65 (done: 101.54%, ETA 00:00:-0.0)\n",
      "\u001b[KProcessing 2412/2412 constraints...\n",
      "1.8181818226115638 1.8181810443361872 unknown\n"
     ]
    },
    {
     "name": "stderr",
     "output_type": "stream",
     "text": [
      "\r",
      "  2%|█▋                                                                                 | 1/50 [00:47<39:00, 47.76s/it]"
     ]
    },
    {
     "name": "stdout",
     "output_type": "stream",
     "text": [
      "The problem has 3 commuting, 8 noncommuting Hermitian variables\n",
      "Calculating block structure...\n",
      "Estimated number of SDP variables: 77\n",
      "Generating moment matrix...\n",
      "Reduced number of SDP variables: 77 77 (done: 101.30%, ETA 00:00:-0.0)\n",
      "\u001b[KProcessing 1610/1610 constraints...\n",
      "1.2847444078658443 1.2847443047339844 optimal\n",
      "The problem has 2 commuting, 8 noncommuting Hermitian variables\n",
      "Calculating block structure...\n",
      "Estimated number of SDP variables: 65\n",
      "Generating moment matrix...\n",
      "Reduced number of SDP variables: 65 65 (done: 101.54%, ETA 00:00:-0.0)\n",
      "\u001b[KProcessing 2412/2412 constraints...\n",
      "1.8181818391790898 1.8181732626588205 unknown\n"
     ]
    },
    {
     "name": "stderr",
     "output_type": "stream",
     "text": [
      "\r",
      "  4%|███▎                                                                               | 2/50 [01:37<38:41, 48.37s/it]"
     ]
    },
    {
     "name": "stdout",
     "output_type": "stream",
     "text": [
      "The problem has 3 commuting, 8 noncommuting Hermitian variables\n",
      "Calculating block structure...\n",
      "Estimated number of SDP variables: 77\n",
      "Generating moment matrix...\n",
      "Reduced number of SDP variables: 77 77 (done: 101.30%, ETA 00:00:-0.0)\n",
      "\u001b[KProcessing 1610/1610 constraints...\n",
      "1.2554711652918522 1.2554710500529997 optimal\n",
      "The problem has 2 commuting, 8 noncommuting Hermitian variables\n",
      "Calculating block structure...\n",
      "Estimated number of SDP variables: 65\n",
      "Generating moment matrix...\n",
      "Reduced number of SDP variables: 65 65 (done: 101.54%, ETA 00:00:-0.0)\n",
      "\u001b[KProcessing 2412/2412 constraints...\n",
      "1.8181818210213692 1.8181814725875953 unknown\n"
     ]
    },
    {
     "name": "stderr",
     "output_type": "stream",
     "text": [
      "\r",
      "  6%|████▉                                                                              | 3/50 [02:28<38:30, 49.17s/it]"
     ]
    },
    {
     "name": "stdout",
     "output_type": "stream",
     "text": [
      "The problem has 3 commuting, 8 noncommuting Hermitian variables\n",
      "Calculating block structure...\n",
      "Estimated number of SDP variables: 77\n",
      "Generating moment matrix...\n",
      "Reduced number of SDP variables: 77 77 (done: 101.30%, ETA 00:00:-0.0)\n",
      "\u001b[KProcessing 1610/1610 constraints...\n",
      "1.2699897108568743 1.2699893651409564 unknown\n",
      "The problem has 2 commuting, 8 noncommuting Hermitian variables\n",
      "Calculating block structure...\n",
      "Estimated number of SDP variables: 65\n",
      "Generating moment matrix...\n",
      "Reduced number of SDP variables: 65 65 (done: 101.54%, ETA 00:00:-0.0)\n",
      "\u001b[KProcessing 2412/2412 constraints...\n",
      "1.8181818340718792 1.8181794671821778 unknown\n"
     ]
    },
    {
     "name": "stderr",
     "output_type": "stream",
     "text": [
      "\r",
      "  8%|██████▋                                                                            | 4/50 [02:48<30:56, 40.35s/it]"
     ]
    },
    {
     "name": "stdout",
     "output_type": "stream",
     "text": [
      "The problem has 3 commuting, 8 noncommuting Hermitian variables\n",
      "Calculating block structure...\n",
      "Estimated number of SDP variables: 77\n",
      "Generating moment matrix...\n",
      "Reduced number of SDP variables: 77 77 (done: 101.30%, ETA 00:00:-0.0)\n",
      "\u001b[KProcessing 1610/1610 constraints...\n",
      "1.238675688110007 1.2386751582660525 unknown\n",
      "The problem has 2 commuting, 8 noncommuting Hermitian variables\n",
      "Calculating block structure...\n",
      "Estimated number of SDP variables: 65\n",
      "Generating moment matrix...\n",
      "Reduced number of SDP variables: 65 65 (done: 101.54%, ETA 00:00:-0.0)\n",
      "\u001b[KProcessing 2412/2412 constraints...\n",
      "1.815602850552409 1.8155697040007541 unknown\n"
     ]
    },
    {
     "name": "stderr",
     "output_type": "stream",
     "text": [
      "\r",
      " 10%|████████▎                                                                          | 5/50 [03:04<24:47, 33.05s/it]"
     ]
    },
    {
     "name": "stdout",
     "output_type": "stream",
     "text": [
      "The problem has 3 commuting, 8 noncommuting Hermitian variables\n",
      "Calculating block structure...\n",
      "Estimated number of SDP variables: 77\n",
      "Generating moment matrix...\n",
      "Reduced number of SDP variables: 77 77 (done: 101.30%, ETA 00:00:-0.0)\n",
      "\u001b[KProcessing 1610/1610 constraints...\n",
      "1.2684287610390472 1.268428228610711 unknown\n",
      "The problem has 2 commuting, 8 noncommuting Hermitian variables\n",
      "Calculating block structure...\n",
      "Estimated number of SDP variables: 65\n",
      "Generating moment matrix...\n",
      "Reduced number of SDP variables: 65 65 (done: 101.54%, ETA 00:00:-0.0)\n",
      "\u001b[KProcessing 2412/2412 constraints...\n",
      "1.818181819287929 1.8181816358734415 unknown\n"
     ]
    },
    {
     "name": "stderr",
     "output_type": "stream",
     "text": [
      "\r",
      " 12%|█████████▉                                                                         | 6/50 [03:20<20:34, 28.05s/it]"
     ]
    },
    {
     "name": "stdout",
     "output_type": "stream",
     "text": [
      "The problem has 3 commuting, 8 noncommuting Hermitian variables\n",
      "Calculating block structure...\n",
      "Estimated number of SDP variables: 77\n",
      "Generating moment matrix...\n",
      "Reduced number of SDP variables: 77 77 (done: 101.30%, ETA 00:00:-0.0)\n",
      "\u001b[KProcessing 1610/1610 constraints...\n",
      "1.2805410114137985 1.2805408878517914 optimal\n",
      "The problem has 2 commuting, 8 noncommuting Hermitian variables\n",
      "Calculating block structure...\n",
      "Estimated number of SDP variables: 65\n",
      "Generating moment matrix...\n",
      "Reduced number of SDP variables: 65 65 (done: 101.54%, ETA 00:00:-0.0)\n",
      "\u001b[KProcessing 2412/2412 constraints...\n",
      "1.8181818218994863 1.8181813898917045 unknown\n"
     ]
    },
    {
     "name": "stderr",
     "output_type": "stream",
     "text": [
      "\r",
      " 14%|███████████▌                                                                       | 7/50 [03:37<17:39, 24.65s/it]"
     ]
    },
    {
     "name": "stdout",
     "output_type": "stream",
     "text": [
      "The problem has 3 commuting, 8 noncommuting Hermitian variables\n",
      "Calculating block structure...\n",
      "Estimated number of SDP variables: 77\n",
      "Generating moment matrix...\n",
      "Reduced number of SDP variables: 77 77 (done: 101.30%, ETA 00:00:-0.0)\n",
      "\u001b[KProcessing 1610/1610 constraints...\n",
      "1.2421793719549319 1.2421786983153318 unknown\n",
      "The problem has 2 commuting, 8 noncommuting Hermitian variables\n",
      "Calculating block structure...\n",
      "Estimated number of SDP variables: 65\n",
      "Generating moment matrix...\n",
      "Reduced number of SDP variables: 65 65 (done: 101.54%, ETA 00:00:-0.0)\n",
      "\u001b[KProcessing 2412/2412 constraints...\n",
      "1.818181838543694 1.8181730256022741 unknown\n"
     ]
    },
    {
     "name": "stderr",
     "output_type": "stream",
     "text": [
      "\r",
      " 16%|█████████████▎                                                                     | 8/50 [03:54<15:35, 22.27s/it]"
     ]
    },
    {
     "name": "stdout",
     "output_type": "stream",
     "text": [
      "The problem has 3 commuting, 8 noncommuting Hermitian variables\n",
      "Calculating block structure...\n",
      "Estimated number of SDP variables: 77\n",
      "Generating moment matrix...\n",
      "Reduced number of SDP variables: 77 77 (done: 101.30%, ETA 00:00:-0.0)\n",
      "\u001b[KProcessing 1610/1610 constraints...\n",
      "1.2672858683150119 1.2672856328905877 unknown\n",
      "The problem has 2 commuting, 8 noncommuting Hermitian variables\n",
      "Calculating block structure...\n",
      "Estimated number of SDP variables: 65\n",
      "Generating moment matrix...\n",
      "Reduced number of SDP variables: 65 65 (done: 101.54%, ETA 00:00:-0.0)\n",
      "\u001b[KProcessing 2412/2412 constraints...\n",
      "1.818181837032398 1.8181788650520883 unknown\n"
     ]
    },
    {
     "name": "stderr",
     "output_type": "stream",
     "text": [
      "\r",
      " 18%|██████████████▉                                                                    | 9/50 [04:10<14:03, 20.57s/it]"
     ]
    },
    {
     "name": "stdout",
     "output_type": "stream",
     "text": [
      "The problem has 3 commuting, 8 noncommuting Hermitian variables\n",
      "Calculating block structure...\n",
      "Estimated number of SDP variables: 77\n",
      "Generating moment matrix...\n",
      "Reduced number of SDP variables: 77 77 (done: 101.30%, ETA 00:00:-0.0)\n",
      "\u001b[KProcessing 1610/1610 constraints...\n",
      "1.2631123422908896 1.2631122108387411 unknown\n",
      "The problem has 2 commuting, 8 noncommuting Hermitian variables\n",
      "Calculating block structure...\n",
      "Estimated number of SDP variables: 65\n",
      "Generating moment matrix...\n",
      "Reduced number of SDP variables: 65 65 (done: 101.54%, ETA 00:00:-0.0)\n",
      "\u001b[KProcessing 2412/2412 constraints...\n",
      "1.818181818944879 1.8181816411199496 optimal\n"
     ]
    },
    {
     "name": "stderr",
     "output_type": "stream",
     "text": [
      "\r",
      " 20%|████████████████▍                                                                 | 10/50 [04:27<12:57, 19.43s/it]"
     ]
    },
    {
     "name": "stdout",
     "output_type": "stream",
     "text": [
      "The problem has 3 commuting, 8 noncommuting Hermitian variables\n",
      "Calculating block structure...\n",
      "Estimated number of SDP variables: 77\n",
      "Generating moment matrix...\n",
      "Reduced number of SDP variables: 77 77 (done: 101.30%, ETA 00:00:-0.0)\n",
      "\u001b[KProcessing 1610/1610 constraints...\n",
      "1.264421082654791 1.264420874155702 unknown\n",
      "The problem has 2 commuting, 8 noncommuting Hermitian variables\n",
      "Calculating block structure...\n",
      "Estimated number of SDP variables: 65\n",
      "Generating moment matrix...\n",
      "Reduced number of SDP variables: 65 65 (done: 101.54%, ETA 00:00:-0.0)\n",
      "\u001b[KProcessing 2412/2412 constraints...\n",
      "1.8181818662796445 1.818170586370416 unknown\n"
     ]
    },
    {
     "name": "stderr",
     "output_type": "stream",
     "text": [
      "\r",
      " 22%|██████████████████                                                                | 11/50 [04:44<12:08, 18.67s/it]"
     ]
    },
    {
     "name": "stdout",
     "output_type": "stream",
     "text": [
      "The problem has 3 commuting, 8 noncommuting Hermitian variables\n",
      "Calculating block structure...\n",
      "Estimated number of SDP variables: 77\n",
      "Generating moment matrix...\n",
      "Reduced number of SDP variables: 77 77 (done: 101.30%, ETA 00:00:-0.0)\n",
      "\u001b[KProcessing 1610/1610 constraints...\n",
      "1.2541983376363797 1.2541980625810152 unknown\n",
      "The problem has 2 commuting, 8 noncommuting Hermitian variables\n",
      "Calculating block structure...\n",
      "Estimated number of SDP variables: 65\n",
      "Generating moment matrix...\n",
      "Reduced number of SDP variables: 65 65 (done: 101.54%, ETA 00:00:-0.0)\n",
      "\u001b[KProcessing 2412/2412 constraints...\n",
      "1.8181818399636995 1.8181781264447179 unknown\n"
     ]
    },
    {
     "name": "stderr",
     "output_type": "stream",
     "text": [
      "\r",
      " 24%|███████████████████▋                                                              | 12/50 [05:01<11:32, 18.22s/it]"
     ]
    },
    {
     "name": "stdout",
     "output_type": "stream",
     "text": [
      "The problem has 3 commuting, 8 noncommuting Hermitian variables\n",
      "Calculating block structure...\n",
      "Estimated number of SDP variables: 77\n",
      "Generating moment matrix...\n",
      "Reduced number of SDP variables: 77 77 (done: 101.30%, ETA 00:00:-0.0)\n",
      "\u001b[KProcessing 1610/1610 constraints...\n",
      "1.2449067854831255 1.2449063343130733 unknown\n",
      "The problem has 2 commuting, 8 noncommuting Hermitian variables\n",
      "Calculating block structure...\n",
      "Estimated number of SDP variables: 65\n",
      "Generating moment matrix...\n",
      "Reduced number of SDP variables: 65 65 (done: 101.54%, ETA 00:00:-0.0)\n",
      "\u001b[KProcessing 2412/2412 constraints...\n",
      "1.8181818730959662 1.8181713905020165 unknown\n"
     ]
    },
    {
     "name": "stderr",
     "output_type": "stream",
     "text": [
      "\r",
      " 26%|█████████████████████▎                                                            | 13/50 [05:18<10:56, 17.75s/it]"
     ]
    },
    {
     "name": "stdout",
     "output_type": "stream",
     "text": [
      "The problem has 3 commuting, 8 noncommuting Hermitian variables\n",
      "Calculating block structure...\n",
      "Estimated number of SDP variables: 77\n",
      "Generating moment matrix...\n",
      "Reduced number of SDP variables: 77 77 (done: 101.30%, ETA 00:00:-0.0)\n",
      "\u001b[KProcessing 1610/1610 constraints...\n",
      "1.2703085703419703 1.2703077744386655 unknown\n",
      "The problem has 2 commuting, 8 noncommuting Hermitian variables\n",
      "Calculating block structure...\n",
      "Estimated number of SDP variables: 65\n",
      "Generating moment matrix...\n",
      "Reduced number of SDP variables: 65 65 (done: 101.54%, ETA 00:00:-0.0)\n",
      "\u001b[KProcessing 2412/2412 constraints...\n",
      "1.8181818325739414 1.8181777837486655 unknown\n"
     ]
    },
    {
     "name": "stderr",
     "output_type": "stream",
     "text": [
      "\r",
      " 28%|██████████████████████▉                                                           | 14/50 [05:34<10:25, 17.37s/it]"
     ]
    },
    {
     "name": "stdout",
     "output_type": "stream",
     "text": [
      "The problem has 3 commuting, 8 noncommuting Hermitian variables\n",
      "Calculating block structure...\n",
      "Estimated number of SDP variables: 77\n",
      "Generating moment matrix...\n",
      "Reduced number of SDP variables: 77 77 (done: 101.30%, ETA 00:00:-0.0)\n",
      "\u001b[KProcessing 1610/1610 constraints...\n",
      "1.276955529636537 1.2769550840845412 unknown\n",
      "The problem has 2 commuting, 8 noncommuting Hermitian variables\n",
      "Calculating block structure...\n",
      "Estimated number of SDP variables: 65\n",
      "Generating moment matrix...\n",
      "Reduced number of SDP variables: 65 65 (done: 101.54%, ETA 00:00:-0.0)\n",
      "\u001b[KProcessing 2412/2412 constraints...\n",
      "1.8181818214675332 1.8181813816730445 unknown\n"
     ]
    },
    {
     "name": "stderr",
     "output_type": "stream",
     "text": [
      "\r",
      " 30%|████████████████████████▌                                                         | 15/50 [05:51<10:02, 17.20s/it]"
     ]
    },
    {
     "name": "stdout",
     "output_type": "stream",
     "text": [
      "The problem has 3 commuting, 8 noncommuting Hermitian variables\n",
      "Calculating block structure...\n",
      "Estimated number of SDP variables: 77\n",
      "Generating moment matrix...\n",
      "Reduced number of SDP variables: 77 77 (done: 101.30%, ETA 00:00:-0.0)\n",
      "\u001b[KProcessing 1610/1610 constraints...\n",
      "1.263385563109934 1.263385563109934 optimal\n",
      "The problem has 2 commuting, 8 noncommuting Hermitian variables\n",
      "Calculating block structure...\n",
      "Estimated number of SDP variables: 65\n",
      "Generating moment matrix...\n",
      "Reduced number of SDP variables: 65 65 (done: 101.54%, ETA 00:00:-0.0)\n",
      "\u001b[KProcessing 2412/2412 constraints...\n",
      "1.818181822624183 1.8181811091378948 unknown\n"
     ]
    },
    {
     "name": "stderr",
     "output_type": "stream",
     "text": [
      "\r",
      " 32%|██████████████████████████▏                                                       | 16/50 [06:08<09:46, 17.26s/it]"
     ]
    },
    {
     "name": "stdout",
     "output_type": "stream",
     "text": [
      "The problem has 3 commuting, 8 noncommuting Hermitian variables\n",
      "Calculating block structure...\n",
      "Estimated number of SDP variables: 77\n",
      "Generating moment matrix...\n",
      "Reduced number of SDP variables: 77 77 (done: 101.30%, ETA 00:00:-0.0)\n",
      "\u001b[KProcessing 1610/1610 constraints...\n",
      "1.237006098821338 1.2370056409678303 unknown\n",
      "The problem has 2 commuting, 8 noncommuting Hermitian variables\n",
      "Calculating block structure...\n",
      "Estimated number of SDP variables: 65\n",
      "Generating moment matrix...\n",
      "Reduced number of SDP variables: 65 65 (done: 101.54%, ETA 00:00:-0.0)\n",
      "\u001b[KProcessing 2412/2412 constraints...\n",
      "1.8181818378523076 1.8181756963948161 unknown\n"
     ]
    },
    {
     "name": "stderr",
     "output_type": "stream",
     "text": [
      "\r",
      " 34%|███████████████████████████▉                                                      | 17/50 [06:25<09:23, 17.08s/it]"
     ]
    },
    {
     "name": "stdout",
     "output_type": "stream",
     "text": [
      "The problem has 3 commuting, 8 noncommuting Hermitian variables\n",
      "Calculating block structure...\n",
      "Estimated number of SDP variables: 77\n",
      "Generating moment matrix...\n",
      "Reduced number of SDP variables: 77 77 (done: 101.30%, ETA 00:00:-0.0)\n",
      "\u001b[KProcessing 1610/1610 constraints...\n",
      "1.2897665224217085 1.2897664085300917 optimal\n",
      "The problem has 2 commuting, 8 noncommuting Hermitian variables\n",
      "Calculating block structure...\n",
      "Estimated number of SDP variables: 65\n",
      "Generating moment matrix...\n",
      "Reduced number of SDP variables: 65 65 (done: 101.54%, ETA 00:00:-0.0)\n",
      "\u001b[KProcessing 2412/2412 constraints...\n",
      "1.8181818286910811 1.8181795634552023 unknown\n"
     ]
    },
    {
     "name": "stderr",
     "output_type": "stream",
     "text": [
      "\r",
      " 36%|█████████████████████████████▌                                                    | 18/50 [06:42<09:06, 17.09s/it]"
     ]
    },
    {
     "name": "stdout",
     "output_type": "stream",
     "text": [
      "The problem has 3 commuting, 8 noncommuting Hermitian variables\n",
      "Calculating block structure...\n",
      "Estimated number of SDP variables: 77\n",
      "Generating moment matrix...\n",
      "Reduced number of SDP variables: 77 77 (done: 101.30%, ETA 00:00:-0.0)\n",
      "\u001b[KProcessing 1610/1610 constraints...\n",
      "1.2564635667067248 1.2564629410208685 unknown\n",
      "The problem has 2 commuting, 8 noncommuting Hermitian variables\n",
      "Calculating block structure...\n",
      "Estimated number of SDP variables: 65\n",
      "Generating moment matrix...\n",
      "Reduced number of SDP variables: 65 65 (done: 101.54%, ETA 00:00:-0.0)\n",
      "\u001b[KProcessing 2412/2412 constraints...\n",
      "1.8181818215481371 1.8181811127486718 unknown\n"
     ]
    },
    {
     "name": "stderr",
     "output_type": "stream",
     "text": [
      "\r",
      " 38%|███████████████████████████████▏                                                  | 19/50 [07:02<09:17, 17.98s/it]"
     ]
    },
    {
     "name": "stdout",
     "output_type": "stream",
     "text": [
      "The problem has 3 commuting, 8 noncommuting Hermitian variables\n",
      "Calculating block structure...\n",
      "Estimated number of SDP variables: 77\n",
      "Generating moment matrix...\n",
      "Reduced number of SDP variables: 77 77 (done: 101.30%, ETA 00:00:-0.0)\n",
      "\u001b[KProcessing 1610/1610 constraints...\n",
      "1.2639730919718346 1.2639726238721456 unknown\n",
      "The problem has 2 commuting, 8 noncommuting Hermitian variables\n",
      "Calculating block structure...\n",
      "Estimated number of SDP variables: 65\n",
      "Generating moment matrix...\n",
      "Reduced number of SDP variables: 65 65 (done: 101.54%, ETA 00:00:-0.0)\n",
      "\u001b[KProcessing 2412/2412 constraints...\n",
      "1.8181818228487145 1.8181799293545058 unknown\n"
     ]
    },
    {
     "name": "stderr",
     "output_type": "stream",
     "text": [
      "\r",
      " 40%|████████████████████████████████▊                                                 | 20/50 [07:30<10:24, 20.83s/it]"
     ]
    },
    {
     "name": "stdout",
     "output_type": "stream",
     "text": [
      "The problem has 3 commuting, 8 noncommuting Hermitian variables\n",
      "Calculating block structure...\n",
      "Estimated number of SDP variables: 77\n",
      "Generating moment matrix...\n",
      "Reduced number of SDP variables: 77 77 (done: 101.30%, ETA 00:00:-0.0)\n",
      "\u001b[KProcessing 1610/1610 constraints...\n",
      "1.2537913489840058 1.2537911387655658 unknown\n",
      "The problem has 2 commuting, 8 noncommuting Hermitian variables\n",
      "Calculating block structure...\n",
      "Estimated number of SDP variables: 65\n",
      "Generating moment matrix...\n",
      "Reduced number of SDP variables: 65 65 (done: 101.54%, ETA 00:00:-0.0)\n",
      "\u001b[KProcessing 2412/2412 constraints...\n",
      "1.8181818465101856 1.8181757382083223 unknown\n"
     ]
    },
    {
     "name": "stderr",
     "output_type": "stream",
     "text": [
      "\r",
      " 42%|██████████████████████████████████▍                                               | 21/50 [07:51<10:03, 20.80s/it]"
     ]
    },
    {
     "name": "stdout",
     "output_type": "stream",
     "text": [
      "The problem has 3 commuting, 8 noncommuting Hermitian variables\n",
      "Calculating block structure...\n",
      "Estimated number of SDP variables: 77\n",
      "Generating moment matrix...\n",
      "Reduced number of SDP variables: 77 77 (done: 101.30%, ETA 00:00:-0.0)\n",
      "\u001b[KProcessing 1610/1610 constraints...\n",
      "1.2775333896878984 1.2775325948488103 unknown\n",
      "The problem has 2 commuting, 8 noncommuting Hermitian variables\n",
      "Calculating block structure...\n",
      "Estimated number of SDP variables: 65\n",
      "Generating moment matrix...\n",
      "Reduced number of SDP variables: 65 65 (done: 101.54%, ETA 00:00:-0.0)\n",
      "\u001b[KProcessing 2412/2412 constraints...\n",
      "1.8181818191781076 1.8181816951758205 optimal\n"
     ]
    },
    {
     "name": "stderr",
     "output_type": "stream",
     "text": [
      "\r",
      " 44%|████████████████████████████████████                                              | 22/50 [08:08<09:11, 19.70s/it]"
     ]
    },
    {
     "name": "stdout",
     "output_type": "stream",
     "text": [
      "The problem has 3 commuting, 8 noncommuting Hermitian variables\n",
      "Calculating block structure...\n",
      "Estimated number of SDP variables: 77\n",
      "Generating moment matrix...\n",
      "Reduced number of SDP variables: 77 77 (done: 101.30%, ETA 00:00:-0.0)\n",
      "\u001b[KProcessing 1610/1610 constraints...\n",
      "1.2816721850408082 1.281672042855316 unknown\n",
      "The problem has 2 commuting, 8 noncommuting Hermitian variables\n",
      "Calculating block structure...\n",
      "Estimated number of SDP variables: 65\n",
      "Generating moment matrix...\n",
      "Reduced number of SDP variables: 65 65 (done: 101.54%, ETA 00:00:-0.0)\n",
      "\u001b[KProcessing 2412/2412 constraints...\n",
      "1.8181818252829203 1.8181809924043908 unknown\n"
     ]
    },
    {
     "name": "stderr",
     "output_type": "stream",
     "text": [
      "\r",
      " 46%|█████████████████████████████████████▋                                            | 23/50 [08:25<08:35, 19.08s/it]"
     ]
    },
    {
     "name": "stdout",
     "output_type": "stream",
     "text": [
      "The problem has 3 commuting, 8 noncommuting Hermitian variables\n",
      "Calculating block structure...\n",
      "Estimated number of SDP variables: 77\n",
      "Generating moment matrix...\n",
      "Reduced number of SDP variables: 77 77 (done: 101.30%, ETA 00:00:-0.0)\n",
      "\u001b[KProcessing 1610/1610 constraints...\n",
      "1.2785483604232255 1.2785475479836812 unknown\n",
      "The problem has 2 commuting, 8 noncommuting Hermitian variables\n",
      "Calculating block structure...\n",
      "Estimated number of SDP variables: 65\n",
      "Generating moment matrix...\n",
      "Reduced number of SDP variables: 65 65 (done: 101.54%, ETA 00:00:-0.0)\n",
      "\u001b[KProcessing 2412/2412 constraints...\n",
      "1.8181818416928763 1.818176044668518 unknown\n"
     ]
    },
    {
     "name": "stderr",
     "output_type": "stream",
     "text": [
      "\r",
      " 48%|███████████████████████████████████████▎                                          | 24/50 [08:43<08:03, 18.60s/it]"
     ]
    },
    {
     "name": "stdout",
     "output_type": "stream",
     "text": [
      "The problem has 3 commuting, 8 noncommuting Hermitian variables\n",
      "Calculating block structure...\n",
      "Estimated number of SDP variables: 77\n",
      "Generating moment matrix...\n",
      "Reduced number of SDP variables: 77 77 (done: 101.30%, ETA 00:00:-0.0)\n",
      "\u001b[KProcessing 1610/1610 constraints...\n",
      "1.2673714276651744 1.2673709577379757 unknown\n",
      "The problem has 2 commuting, 8 noncommuting Hermitian variables\n",
      "Calculating block structure...\n",
      "Estimated number of SDP variables: 65\n",
      "Generating moment matrix...\n",
      "Reduced number of SDP variables: 65 65 (done: 101.54%, ETA 00:00:-0.0)\n",
      "\u001b[KProcessing 2412/2412 constraints...\n",
      "1.8181818681729283 1.8181598717378895 unknown\n"
     ]
    },
    {
     "name": "stderr",
     "output_type": "stream",
     "text": [
      "\r",
      " 50%|█████████████████████████████████████████                                         | 25/50 [09:01<07:41, 18.47s/it]"
     ]
    },
    {
     "name": "stdout",
     "output_type": "stream",
     "text": [
      "The problem has 3 commuting, 8 noncommuting Hermitian variables\n",
      "Calculating block structure...\n",
      "Estimated number of SDP variables: 77\n",
      "Generating moment matrix...\n",
      "Reduced number of SDP variables: 77 77 (done: 101.30%, ETA 00:00:-0.0)\n",
      "\u001b[KProcessing 1610/1610 constraints...\n",
      "1.2738788472018936 1.2738786278749101 unknown\n",
      "The problem has 2 commuting, 8 noncommuting Hermitian variables\n",
      "Calculating block structure...\n",
      "Estimated number of SDP variables: 65\n",
      "Generating moment matrix...\n",
      "Reduced number of SDP variables: 65 65 (done: 101.54%, ETA 00:00:-0.0)\n",
      "\u001b[KProcessing 2412/2412 constraints...\n",
      "1.8181818585530323 1.8181755924466325 unknown\n"
     ]
    },
    {
     "name": "stderr",
     "output_type": "stream",
     "text": [
      "\r",
      " 52%|██████████████████████████████████████████▋                                       | 26/50 [09:18<07:13, 18.08s/it]"
     ]
    },
    {
     "name": "stdout",
     "output_type": "stream",
     "text": [
      "The problem has 3 commuting, 8 noncommuting Hermitian variables\n",
      "Calculating block structure...\n",
      "Estimated number of SDP variables: 77\n",
      "Generating moment matrix...\n",
      "Reduced number of SDP variables: 77 77 (done: 101.30%, ETA 00:00:-0.0)\n",
      "\u001b[KProcessing 1610/1610 constraints...\n",
      "1.2522945528212528 1.2522938265408978 unknown\n",
      "The problem has 2 commuting, 8 noncommuting Hermitian variables\n",
      "Calculating block structure...\n",
      "Estimated number of SDP variables: 65\n",
      "Generating moment matrix...\n",
      "Reduced number of SDP variables: 65 65 (done: 101.54%, ETA 00:00:-0.0)\n",
      "\u001b[KProcessing 2412/2412 constraints...\n",
      "1.8181818441398718 1.8181758333088158 unknown\n"
     ]
    },
    {
     "name": "stderr",
     "output_type": "stream",
     "text": [
      "\r",
      " 54%|████████████████████████████████████████████▎                                     | 27/50 [09:35<06:50, 17.85s/it]"
     ]
    },
    {
     "name": "stdout",
     "output_type": "stream",
     "text": [
      "The problem has 3 commuting, 8 noncommuting Hermitian variables\n",
      "Calculating block structure...\n",
      "Estimated number of SDP variables: 77\n",
      "Generating moment matrix...\n",
      "Reduced number of SDP variables: 77 77 (done: 101.30%, ETA 00:00:-0.0)\n",
      "\u001b[KProcessing 1610/1610 constraints...\n",
      "1.2636737502548174 1.2636730457257102 unknown\n",
      "The problem has 2 commuting, 8 noncommuting Hermitian variables\n",
      "Calculating block structure...\n",
      "Estimated number of SDP variables: 65\n",
      "Generating moment matrix...\n",
      "Reduced number of SDP variables: 65 65 (done: 101.54%, ETA 00:00:-0.0)\n",
      "\u001b[KProcessing 2412/2412 constraints...\n",
      "1.8181818203461262 1.8181815882268648 unknown\n"
     ]
    },
    {
     "name": "stderr",
     "output_type": "stream",
     "text": [
      "\r",
      " 56%|█████████████████████████████████████████████▉                                    | 28/50 [09:53<06:32, 17.85s/it]"
     ]
    },
    {
     "name": "stdout",
     "output_type": "stream",
     "text": [
      "The problem has 3 commuting, 8 noncommuting Hermitian variables\n",
      "Calculating block structure...\n",
      "Estimated number of SDP variables: 77\n",
      "Generating moment matrix...\n",
      "Reduced number of SDP variables: 77 77 (done: 101.30%, ETA 00:00:-0.0)\n",
      "\u001b[KProcessing 1610/1610 constraints...\n",
      "1.2530555480887537 1.25305520382256 unknown\n",
      "The problem has 2 commuting, 8 noncommuting Hermitian variables\n",
      "Calculating block structure...\n",
      "Estimated number of SDP variables: 65\n",
      "Generating moment matrix...\n",
      "Reduced number of SDP variables: 65 65 (done: 101.54%, ETA 00:00:-0.0)\n",
      "\u001b[KProcessing 2412/2412 constraints...\n",
      "1.8181818200309863 1.8181815437644369 unknown\n"
     ]
    },
    {
     "name": "stderr",
     "output_type": "stream",
     "text": [
      "\r",
      " 58%|███████████████████████████████████████████████▌                                  | 29/50 [10:10<06:09, 17.60s/it]"
     ]
    },
    {
     "name": "stdout",
     "output_type": "stream",
     "text": [
      "The problem has 3 commuting, 8 noncommuting Hermitian variables\n",
      "Calculating block structure...\n",
      "Estimated number of SDP variables: 77\n",
      "Generating moment matrix...\n",
      "Reduced number of SDP variables: 77 77 (done: 101.30%, ETA 00:00:-0.0)\n",
      "\u001b[KProcessing 1610/1610 constraints...\n",
      "1.268606697282461 1.2686062596028336 unknown\n",
      "The problem has 2 commuting, 8 noncommuting Hermitian variables\n",
      "Calculating block structure...\n",
      "Estimated number of SDP variables: 65\n",
      "Generating moment matrix...\n",
      "Reduced number of SDP variables: 65 65 (done: 101.54%, ETA 00:00:-0.0)\n",
      "\u001b[KProcessing 2412/2412 constraints...\n",
      "1.8181818465540687 1.8181774286646213 unknown\n"
     ]
    },
    {
     "name": "stderr",
     "output_type": "stream",
     "text": [
      "\r",
      " 60%|█████████████████████████████████████████████████▏                                | 30/50 [10:27<05:48, 17.40s/it]"
     ]
    },
    {
     "name": "stdout",
     "output_type": "stream",
     "text": [
      "The problem has 3 commuting, 8 noncommuting Hermitian variables\n",
      "Calculating block structure...\n",
      "Estimated number of SDP variables: 77\n",
      "Generating moment matrix...\n",
      "Reduced number of SDP variables: 77 77 (done: 101.30%, ETA 00:00:-0.0)\n",
      "\u001b[KProcessing 1610/1610 constraints...\n",
      "1.26034750148435 1.2603466249283009 unknown\n",
      "The problem has 2 commuting, 8 noncommuting Hermitian variables\n",
      "Calculating block structure...\n",
      "Estimated number of SDP variables: 65\n",
      "Generating moment matrix...\n",
      "Reduced number of SDP variables: 65 65 (done: 101.54%, ETA 00:00:-0.0)\n",
      "\u001b[KProcessing 2412/2412 constraints...\n",
      "1.8181818596684138 1.8181626618037166 unknown\n"
     ]
    },
    {
     "name": "stderr",
     "output_type": "stream",
     "text": [
      "\r",
      " 62%|██████████████████████████████████████████████████▊                               | 31/50 [10:44<05:28, 17.27s/it]"
     ]
    },
    {
     "name": "stdout",
     "output_type": "stream",
     "text": [
      "The problem has 3 commuting, 8 noncommuting Hermitian variables\n",
      "Calculating block structure...\n",
      "Estimated number of SDP variables: 77\n",
      "Generating moment matrix...\n",
      "Reduced number of SDP variables: 77 77 (done: 101.30%, ETA 00:00:-0.0)\n",
      "\u001b[KProcessing 1610/1610 constraints...\n",
      "1.236472283622784 1.2364719890926443 unknown\n",
      "The problem has 2 commuting, 8 noncommuting Hermitian variables\n",
      "Calculating block structure...\n",
      "Estimated number of SDP variables: 65\n",
      "Generating moment matrix...\n",
      "Reduced number of SDP variables: 65 65 (done: 101.54%, ETA 00:00:-0.0)\n",
      "\u001b[KProcessing 2412/2412 constraints...\n",
      "1.8181818262576144 1.8181800909312338 unknown\n"
     ]
    },
    {
     "name": "stderr",
     "output_type": "stream",
     "text": [
      "\r",
      " 64%|████████████████████████████████████████████████████▍                             | 32/50 [11:01<05:10, 17.27s/it]"
     ]
    },
    {
     "name": "stdout",
     "output_type": "stream",
     "text": [
      "The problem has 3 commuting, 8 noncommuting Hermitian variables\n",
      "Calculating block structure...\n",
      "Estimated number of SDP variables: 77\n",
      "Generating moment matrix...\n",
      "Reduced number of SDP variables: 77 77 (done: 101.30%, ETA 00:00:-0.0)\n",
      "\u001b[KProcessing 1610/1610 constraints...\n",
      "1.2710048259696896 1.271004569616746 unknown\n",
      "The problem has 2 commuting, 8 noncommuting Hermitian variables\n",
      "Calculating block structure...\n",
      "Estimated number of SDP variables: 65\n",
      "Generating moment matrix...\n",
      "Reduced number of SDP variables: 65 65 (done: 101.54%, ETA 00:00:-0.0)\n",
      "\u001b[KProcessing 2412/2412 constraints...\n",
      "1.8181818217315708 1.8181806650153993 unknown\n"
     ]
    },
    {
     "name": "stderr",
     "output_type": "stream",
     "text": [
      "\r",
      " 66%|██████████████████████████████████████████████████████                            | 33/50 [11:19<04:53, 17.27s/it]"
     ]
    },
    {
     "name": "stdout",
     "output_type": "stream",
     "text": [
      "The problem has 3 commuting, 8 noncommuting Hermitian variables\n",
      "Calculating block structure...\n",
      "Estimated number of SDP variables: 77\n",
      "Generating moment matrix...\n",
      "Reduced number of SDP variables: 77 77 (done: 101.30%, ETA 00:00:-0.0)\n",
      "\u001b[KProcessing 1610/1610 constraints...\n",
      "1.2717480308891278 1.2717478164017186 unknown\n",
      "The problem has 2 commuting, 8 noncommuting Hermitian variables\n",
      "Calculating block structure...\n",
      "Estimated number of SDP variables: 65\n",
      "Generating moment matrix...\n",
      "Reduced number of SDP variables: 65 65 (done: 101.54%, ETA 00:00:-0.0)\n",
      "\u001b[KProcessing 2412/2412 constraints...\n",
      "1.8181818229427336 1.818180890264099 unknown\n"
     ]
    },
    {
     "name": "stderr",
     "output_type": "stream",
     "text": [
      "\r",
      " 68%|███████████████████████████████████████████████████████▊                          | 34/50 [11:36<04:34, 17.16s/it]"
     ]
    },
    {
     "name": "stdout",
     "output_type": "stream",
     "text": [
      "The problem has 3 commuting, 8 noncommuting Hermitian variables\n",
      "Calculating block structure...\n",
      "Estimated number of SDP variables: 77\n",
      "Generating moment matrix...\n",
      "Reduced number of SDP variables: 77 77 (done: 101.30%, ETA 00:00:-0.0)\n",
      "\u001b[KProcessing 1610/1610 constraints...\n",
      "1.2618318953158798 1.2618317620292563 unknown\n",
      "The problem has 2 commuting, 8 noncommuting Hermitian variables\n",
      "Calculating block structure...\n",
      "Estimated number of SDP variables: 65\n",
      "Generating moment matrix...\n",
      "Reduced number of SDP variables: 65 65 (done: 101.54%, ETA 00:00:-0.0)\n",
      "\u001b[KProcessing 2412/2412 constraints...\n",
      "1.8181818231264515 1.8181810947075827 unknown\n"
     ]
    },
    {
     "name": "stderr",
     "output_type": "stream",
     "text": [
      "\r",
      " 70%|█████████████████████████████████████████████████████████▍                        | 35/50 [11:53<04:19, 17.32s/it]"
     ]
    },
    {
     "name": "stdout",
     "output_type": "stream",
     "text": [
      "The problem has 3 commuting, 8 noncommuting Hermitian variables\n",
      "Calculating block structure...\n",
      "Estimated number of SDP variables: 77\n",
      "Generating moment matrix...\n",
      "Reduced number of SDP variables: 77 77 (done: 101.30%, ETA 00:00:-0.0)\n",
      "\u001b[KProcessing 1610/1610 constraints...\n",
      "1.283815125331399 1.2838148405997805 unknown\n",
      "The problem has 2 commuting, 8 noncommuting Hermitian variables\n",
      "Calculating block structure...\n",
      "Estimated number of SDP variables: 65\n",
      "Generating moment matrix...\n",
      "Reduced number of SDP variables: 65 65 (done: 101.54%, ETA 00:00:-0.0)\n",
      "\u001b[KProcessing 2412/2412 constraints...\n",
      "1.818181834503605 1.818179189107759 unknown\n"
     ]
    },
    {
     "name": "stderr",
     "output_type": "stream",
     "text": [
      "\r",
      " 72%|███████████████████████████████████████████████████████████                       | 36/50 [12:10<04:01, 17.27s/it]"
     ]
    },
    {
     "name": "stdout",
     "output_type": "stream",
     "text": [
      "The problem has 3 commuting, 8 noncommuting Hermitian variables\n",
      "Calculating block structure...\n",
      "Estimated number of SDP variables: 77\n",
      "Generating moment matrix...\n",
      "Reduced number of SDP variables: 77 77 (done: 101.30%, ETA 00:00:-0.0)\n",
      "\u001b[KProcessing 1610/1610 constraints...\n",
      "1.24527499500562 1.2452740195112473 unknown\n",
      "The problem has 2 commuting, 8 noncommuting Hermitian variables\n",
      "Calculating block structure...\n",
      "Estimated number of SDP variables: 65\n",
      "Generating moment matrix...\n",
      "Reduced number of SDP variables: 65 65 (done: 101.54%, ETA 00:00:-0.0)\n",
      "\u001b[KProcessing 2412/2412 constraints...\n",
      "1.8181818251946424 1.818179551828801 unknown\n"
     ]
    },
    {
     "name": "stderr",
     "output_type": "stream",
     "text": [
      "\r",
      " 74%|████████████████████████████████████████████████████████████▋                     | 37/50 [12:28<03:44, 17.28s/it]"
     ]
    },
    {
     "name": "stdout",
     "output_type": "stream",
     "text": [
      "The problem has 3 commuting, 8 noncommuting Hermitian variables\n",
      "Calculating block structure...\n",
      "Estimated number of SDP variables: 77\n",
      "Generating moment matrix...\n",
      "Reduced number of SDP variables: 77 77 (done: 101.30%, ETA 00:00:-0.0)\n",
      "\u001b[KProcessing 1610/1610 constraints...\n",
      "1.2852814523213283 1.2852812197279355 unknown\n",
      "The problem has 2 commuting, 8 noncommuting Hermitian variables\n",
      "Calculating block structure...\n",
      "Estimated number of SDP variables: 65\n",
      "Generating moment matrix...\n",
      "Reduced number of SDP variables: 65 65 (done: 101.54%, ETA 00:00:-0.0)\n",
      "\u001b[KProcessing 2412/2412 constraints...\n",
      "1.8181818210601932 1.818181266415789 unknown\n"
     ]
    },
    {
     "name": "stderr",
     "output_type": "stream",
     "text": [
      "\r",
      " 76%|██████████████████████████████████████████████████████████████▎                   | 38/50 [12:45<03:28, 17.36s/it]"
     ]
    },
    {
     "name": "stdout",
     "output_type": "stream",
     "text": [
      "The problem has 3 commuting, 8 noncommuting Hermitian variables\n",
      "Calculating block structure...\n",
      "Estimated number of SDP variables: 77\n",
      "Generating moment matrix...\n",
      "Reduced number of SDP variables: 77 77 (done: 101.30%, ETA 00:00:-0.0)\n",
      "\u001b[KProcessing 1610/1610 constraints...\n",
      "1.265133160399144 1.265132880680662 unknown\n",
      "The problem has 2 commuting, 8 noncommuting Hermitian variables\n",
      "Calculating block structure...\n",
      "Estimated number of SDP variables: 65\n",
      "Generating moment matrix...\n",
      "Reduced number of SDP variables: 65 65 (done: 101.54%, ETA 00:00:-0.0)\n",
      "\u001b[KProcessing 2412/2412 constraints...\n",
      "1.8181818212794383 1.8181814007616144 unknown\n"
     ]
    },
    {
     "name": "stderr",
     "output_type": "stream",
     "text": [
      "\r",
      " 78%|███████████████████████████████████████████████████████████████▉                  | 39/50 [13:02<03:10, 17.29s/it]"
     ]
    },
    {
     "name": "stdout",
     "output_type": "stream",
     "text": [
      "The problem has 3 commuting, 8 noncommuting Hermitian variables\n",
      "Calculating block structure...\n",
      "Estimated number of SDP variables: 77\n",
      "Generating moment matrix...\n",
      "Reduced number of SDP variables: 77 77 (done: 101.30%, ETA 00:00:-0.0)\n",
      "\u001b[KProcessing 1610/1610 constraints...\n",
      "1.247441617661516 1.2474415028711148 optimal\n",
      "The problem has 2 commuting, 8 noncommuting Hermitian variables\n",
      "Calculating block structure...\n",
      "Estimated number of SDP variables: 65\n",
      "Generating moment matrix...\n",
      "Reduced number of SDP variables: 65 65 (done: 101.54%, ETA 00:00:-0.0)\n",
      "\u001b[KProcessing 2412/2412 constraints...\n",
      "1.8181818401291139 1.8181675949842453 unknown\n"
     ]
    },
    {
     "name": "stderr",
     "output_type": "stream",
     "text": [
      "\r",
      " 80%|█████████████████████████████████████████████████████████████████▌                | 40/50 [13:20<02:52, 17.28s/it]"
     ]
    },
    {
     "name": "stdout",
     "output_type": "stream",
     "text": [
      "The problem has 3 commuting, 8 noncommuting Hermitian variables\n",
      "Calculating block structure...\n",
      "Estimated number of SDP variables: 77\n",
      "Generating moment matrix...\n",
      "Reduced number of SDP variables: 77 77 (done: 101.30%, ETA 00:00:-0.0)\n",
      "\u001b[KProcessing 1610/1610 constraints...\n",
      "1.2858365976447124 1.2858356347804298 unknown\n",
      "The problem has 2 commuting, 8 noncommuting Hermitian variables\n",
      "Calculating block structure...\n",
      "Estimated number of SDP variables: 65\n",
      "Generating moment matrix...\n",
      "Reduced number of SDP variables: 65 65 (done: 101.54%, ETA 00:00:-0.0)\n",
      "\u001b[KProcessing 2412/2412 constraints...\n",
      "1.8181818193669415 1.818181546048531 unknown\n"
     ]
    },
    {
     "name": "stderr",
     "output_type": "stream",
     "text": [
      "\r",
      " 82%|███████████████████████████████████████████████████████████████████▏              | 41/50 [13:38<02:39, 17.68s/it]"
     ]
    },
    {
     "name": "stdout",
     "output_type": "stream",
     "text": [
      "The problem has 3 commuting, 8 noncommuting Hermitian variables\n",
      "Calculating block structure...\n",
      "Estimated number of SDP variables: 77\n",
      "Generating moment matrix...\n",
      "Reduced number of SDP variables: 77 77 (done: 101.30%, ETA 00:00:-0.0)\n",
      "\u001b[KProcessing 1610/1610 constraints...\n",
      "1.2674895580387204 1.2674894544430608 optimal\n",
      "The problem has 2 commuting, 8 noncommuting Hermitian variables\n",
      "Calculating block structure...\n",
      "Estimated number of SDP variables: 65\n",
      "Generating moment matrix...\n",
      "Reduced number of SDP variables: 65 65 (done: 101.54%, ETA 00:00:-0.0)\n",
      "\u001b[KProcessing 2412/2412 constraints...\n",
      "1.8181818474726015 1.8181761515140644 unknown\n"
     ]
    },
    {
     "name": "stderr",
     "output_type": "stream",
     "text": [
      "\r",
      " 84%|████████████████████████████████████████████████████████████████████▉             | 42/50 [13:56<02:21, 17.63s/it]"
     ]
    },
    {
     "name": "stdout",
     "output_type": "stream",
     "text": [
      "The problem has 3 commuting, 8 noncommuting Hermitian variables\n",
      "Calculating block structure...\n",
      "Estimated number of SDP variables: 77\n",
      "Generating moment matrix...\n",
      "Reduced number of SDP variables: 77 77 (done: 101.30%, ETA 00:00:-0.0)\n",
      "\u001b[KProcessing 1610/1610 constraints...\n",
      "1.2671053888019772 1.2671048942781518 unknown\n",
      "The problem has 2 commuting, 8 noncommuting Hermitian variables\n",
      "Calculating block structure...\n",
      "Estimated number of SDP variables: 65\n",
      "Generating moment matrix...\n",
      "Reduced number of SDP variables: 65 65 (done: 101.54%, ETA 00:00:-0.0)\n",
      "\u001b[KProcessing 2412/2412 constraints...\n",
      "1.818181842755223 1.8181776747929235 unknown\n"
     ]
    },
    {
     "name": "stderr",
     "output_type": "stream",
     "text": [
      "\r",
      " 86%|██████████████████████████████████████████████████████████████████████▌           | 43/50 [14:15<02:07, 18.22s/it]"
     ]
    },
    {
     "name": "stdout",
     "output_type": "stream",
     "text": [
      "The problem has 3 commuting, 8 noncommuting Hermitian variables\n",
      "Calculating block structure...\n",
      "Estimated number of SDP variables: 77\n",
      "Generating moment matrix...\n",
      "Reduced number of SDP variables: 77 77 (done: 101.30%, ETA 00:00:-0.0)\n",
      "\u001b[KProcessing 1610/1610 constraints...\n",
      "1.262447921262647 1.2624476171346002 unknown\n",
      "The problem has 2 commuting, 8 noncommuting Hermitian variables\n",
      "Calculating block structure...\n",
      "Estimated number of SDP variables: 65\n",
      "Generating moment matrix...\n",
      "Reduced number of SDP variables: 65 65 (done: 101.54%, ETA 00:00:-0.0)\n",
      "\u001b[KProcessing 2412/2412 constraints...\n",
      "1.8181818309845994 1.8181786165314373 unknown\n"
     ]
    },
    {
     "name": "stderr",
     "output_type": "stream",
     "text": [
      "\r",
      " 88%|████████████████████████████████████████████████████████████████████████▏         | 44/50 [14:33<01:48, 18.14s/it]"
     ]
    },
    {
     "name": "stdout",
     "output_type": "stream",
     "text": [
      "The problem has 3 commuting, 8 noncommuting Hermitian variables\n",
      "Calculating block structure...\n",
      "Estimated number of SDP variables: 77\n",
      "Generating moment matrix...\n",
      "Reduced number of SDP variables: 77 77 (done: 101.30%, ETA 00:00:-0.0)\n",
      "\u001b[KProcessing 1610/1610 constraints...\n",
      "1.2496826404275947 1.249682107139297 unknown\n",
      "The problem has 2 commuting, 8 noncommuting Hermitian variables\n",
      "Calculating block structure...\n",
      "Estimated number of SDP variables: 65\n",
      "Generating moment matrix...\n",
      "Reduced number of SDP variables: 65 65 (done: 101.54%, ETA 00:00:-0.0)\n",
      "\u001b[KProcessing 2412/2412 constraints...\n",
      "1.8181818229176656 1.818181228286101 unknown\n"
     ]
    },
    {
     "name": "stderr",
     "output_type": "stream",
     "text": [
      "\r",
      " 90%|█████████████████████████████████████████████████████████████████████████▊        | 45/50 [14:51<01:29, 17.90s/it]"
     ]
    },
    {
     "name": "stdout",
     "output_type": "stream",
     "text": [
      "The problem has 3 commuting, 8 noncommuting Hermitian variables\n",
      "Calculating block structure...\n",
      "Estimated number of SDP variables: 77\n",
      "Generating moment matrix...\n",
      "Reduced number of SDP variables: 77 77 (done: 101.30%, ETA 00:00:-0.0)\n",
      "\u001b[KProcessing 1610/1610 constraints...\n",
      "1.2612975652108198 1.2612967411857399 unknown\n",
      "The problem has 2 commuting, 8 noncommuting Hermitian variables\n",
      "Calculating block structure...\n",
      "Estimated number of SDP variables: 65\n",
      "Generating moment matrix...\n",
      "Reduced number of SDP variables: 65 65 (done: 101.54%, ETA 00:00:-0.0)\n",
      "\u001b[KProcessing 2412/2412 constraints...\n",
      "1.81818182472648 1.8181802499213429 unknown\n"
     ]
    },
    {
     "name": "stderr",
     "output_type": "stream",
     "text": [
      "\r",
      " 92%|███████████████████████████████████████████████████████████████████████████▍      | 46/50 [15:08<01:11, 17.85s/it]"
     ]
    },
    {
     "name": "stdout",
     "output_type": "stream",
     "text": [
      "The problem has 3 commuting, 8 noncommuting Hermitian variables\n",
      "Calculating block structure...\n",
      "Estimated number of SDP variables: 77\n",
      "Generating moment matrix...\n",
      "Reduced number of SDP variables: 77 77 (done: 101.30%, ETA 00:00:-0.0)\n",
      "\u001b[KProcessing 1610/1610 constraints...\n",
      "1.2425098627804745 1.2425091501950039 unknown\n",
      "The problem has 2 commuting, 8 noncommuting Hermitian variables\n",
      "Calculating block structure...\n",
      "Estimated number of SDP variables: 65\n",
      "Generating moment matrix...\n",
      "Reduced number of SDP variables: 65 65 (done: 101.54%, ETA 00:00:-0.0)\n",
      "\u001b[KProcessing 2412/2412 constraints...\n",
      "1.8181818206412004 1.8181812469668748 unknown\n"
     ]
    },
    {
     "name": "stderr",
     "output_type": "stream",
     "text": [
      "\r",
      " 94%|█████████████████████████████████████████████████████████████████████████████     | 47/50 [15:26<00:53, 17.68s/it]"
     ]
    },
    {
     "name": "stdout",
     "output_type": "stream",
     "text": [
      "The problem has 3 commuting, 8 noncommuting Hermitian variables\n",
      "Calculating block structure...\n",
      "Estimated number of SDP variables: 77\n",
      "Generating moment matrix...\n",
      "Reduced number of SDP variables: 77 77 (done: 101.30%, ETA 00:00:-0.0)\n",
      "\u001b[KProcessing 1610/1610 constraints...\n",
      "1.272018072090367 1.2720179136588647 unknown\n",
      "The problem has 2 commuting, 8 noncommuting Hermitian variables\n",
      "Calculating block structure...\n",
      "Estimated number of SDP variables: 65\n",
      "Generating moment matrix...\n",
      "Reduced number of SDP variables: 65 65 (done: 101.54%, ETA 00:00:-0.0)\n",
      "\u001b[KProcessing 2412/2412 constraints...\n",
      "1.8181818309282107 1.8181798214449032 unknown\n"
     ]
    },
    {
     "name": "stderr",
     "output_type": "stream",
     "text": [
      "\r",
      " 96%|██████████████████████████████████████████████████████████████████████████████▋   | 48/50 [15:43<00:35, 17.57s/it]"
     ]
    },
    {
     "name": "stdout",
     "output_type": "stream",
     "text": [
      "The problem has 3 commuting, 8 noncommuting Hermitian variables\n",
      "Calculating block structure...\n",
      "Estimated number of SDP variables: 77\n",
      "Generating moment matrix...\n",
      "Reduced number of SDP variables: 77 77 (done: 101.30%, ETA 00:00:-0.0)\n",
      "\u001b[KProcessing 1610/1610 constraints...\n",
      "1.2794299651035224 1.279429642446753 unknown\n",
      "The problem has 2 commuting, 8 noncommuting Hermitian variables\n",
      "Calculating block structure...\n",
      "Estimated number of SDP variables: 65\n",
      "Generating moment matrix...\n",
      "Reduced number of SDP variables: 65 65 (done: 101.54%, ETA 00:00:-0.0)\n",
      "\u001b[KProcessing 2412/2412 constraints...\n",
      "1.8181713174471952 1.8181713174472238 optimal\n"
     ]
    },
    {
     "name": "stderr",
     "output_type": "stream",
     "text": [
      "\r",
      " 98%|████████████████████████████████████████████████████████████████████████████████▎ | 49/50 [16:00<00:17, 17.48s/it]"
     ]
    },
    {
     "name": "stdout",
     "output_type": "stream",
     "text": [
      "The problem has 3 commuting, 8 noncommuting Hermitian variables\n",
      "Calculating block structure...\n",
      "Estimated number of SDP variables: 77\n",
      "Generating moment matrix...\n",
      "Reduced number of SDP variables: 77 77 (done: 101.30%, ETA 00:00:-0.0)\n",
      "\u001b[KProcessing 1610/1610 constraints...\n",
      "1.2819350000418916 1.2819346192528793 unknown\n",
      "The problem has 2 commuting, 8 noncommuting Hermitian variables\n",
      "Calculating block structure...\n",
      "Estimated number of SDP variables: 65\n",
      "Generating moment matrix...\n",
      "Reduced number of SDP variables: 65 65 (done: 101.54%, ETA 00:00:-0.0)\n",
      "\u001b[KProcessing 2412/2412 constraints...\n",
      "1.8181818200681619 1.8181815670718153 unknown\n"
     ]
    },
    {
     "name": "stderr",
     "output_type": "stream",
     "text": [
      "100%|██████████████████████████████████████████████████████████████████████████████████| 50/50 [16:19<00:00, 19.59s/it]\n"
     ]
    }
   ],
   "source": [
    "trials=50\n",
    "\n",
    "filepath = 'compas-scores-two-years.csv'\n",
    "nrows=1200\n",
    "\n",
    "features=['sex', 'age', 'age_cat', 'race', 'juv_fel_count', 'juv_misd_count', 'juv_other_count','priors_count', 'c_charge_degree']\n",
    "labels=[\"is_recid\",'decile_score']\n",
    "\n",
    "methods=['COMPAS',\"weighted\",\"subgroup-fair\",\"instant-fair\"] #\"fnr\", \"fpr\", \"weighted\"\n",
    "performace=['IND','SP','SF','INA','INDrw','SPrw','SFrw','INArw']\n",
    "unprivileged_groups = [{'race': 1}]  \n",
    "privileged_groups = [{'race': 0}]\n",
    "\n",
    "dataframe,base_rate=preprocess(filepath,nrows,features+labels)\n",
    "\n",
    "metric=pd.DataFrame(columns=performace+['type','thresh','trial'])\n",
    "\n",
    "for ignore in tqdm(range(trials)):\n",
    "    \n",
    "    Itrain,Itest=split_index(dataframe.index.tolist())\n",
    "    Dtest=dataframe.loc[Itest]\n",
    "    I0_test=Dtest[Dtest['race']=='Caucasian'].index\n",
    "    I1_test=Dtest[Dtest['race']!='Caucasian'].index\n",
    "\n",
    "    # update scores:\n",
    "    Dtest['COMPAS']=Dtest['decile_score']/10\n",
    "    for m in methods[1:]:\n",
    "        if m not in ['subgroup-fair',\"instant-fair\"]:\n",
    "            pp=aif_postprocess(Itrain,Itest,m).flatten()\n",
    "        else:\n",
    "            pp=new_postprocess(Itrain,Itest,m)\n",
    "        i=0\n",
    "        for j in Itest:\n",
    "            Dtest.loc[j,m]=pp[i]\n",
    "            i+=1\n",
    "            \n",
    "    I1_test_rw=I1_test[range(len(I0_test))]\n",
    "    Dtest_rw=Dtest.loc[I0_test.tolist()+I1_test_rw.tolist()]\n",
    "\n",
    "    # update labels, based on thresholds\n",
    "    all_thresh = np.linspace(20, 80, 10)\n",
    "    for thresh in all_thresh:  \n",
    "        for m in methods:\n",
    "            model_perf=fair_metric(Dtest,I0_test,I1_test,m,thresh,[]) \n",
    "            model_perf_rw=fair_metric(Dtest_rw,I0_test,I1_test_rw,m,thresh,[])\n",
    "            metric=metric.append({'IND':model_perf[0],'SP':model_perf[1],'SF':model_perf[2],'INA':model_perf[3],\n",
    "                                  'INDrw':model_perf_rw[0],'SPrw':model_perf_rw[1],'SFrw':model_perf_rw[2],'INArw':model_perf_rw[3],\n",
    "                                  'type':m,'thresh':round(thresh),'trial':ignore},ignore_index=True)\n",
    "\n",
    "metric.to_csv('COMPAS4_metric_thresh.csv',index=None)"
   ]
  },
  {
   "cell_type": "code",
   "execution_count": 37,
   "metadata": {
    "scrolled": true
   },
   "outputs": [
    {
     "data": {
      "text/plain": [
       "[59.05707196029777, 46.179401993355484]"
      ]
     },
     "execution_count": 37,
     "metadata": {},
     "output_type": "execute_result"
    }
   ],
   "source": [
    "base_rate"
   ]
  }
 ],
 "metadata": {
  "kernelspec": {
   "display_name": "Python 3",
   "language": "python",
   "name": "python3"
  },
  "language_info": {
   "codemirror_mode": {
    "name": "ipython",
    "version": 3
   },
   "file_extension": ".py",
   "mimetype": "text/x-python",
   "name": "python",
   "nbconvert_exporter": "python",
   "pygments_lexer": "ipython3",
   "version": "3.8.5"
  }
 },
 "nbformat": 4,
 "nbformat_minor": 4
}
